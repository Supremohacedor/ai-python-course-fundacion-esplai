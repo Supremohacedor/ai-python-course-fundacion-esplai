{
  "cells": [
    {
      "cell_type": "markdown",
      "id": "789cc66f",
      "metadata": {
        "id": "789cc66f"
      },
      "source": [
        "# 🧠 Primeros pasos con TensorFlow/Keras\n",
        "\n",
        "Este cuaderno te ayudará a dar tus primeros pasos en el mundo del aprendizaje automático con TensorFlow y Keras, desde lo más básico hasta un reto intermedio final."
      ]
    },
    {
      "cell_type": "markdown",
      "id": "4e544d43",
      "metadata": {
        "id": "4e544d43"
      },
      "source": [
        "## 0. Instalación y comprobación\n",
        "\n",
        "Si no tienes tensorflow instalado, ejecuta la siguiente celda:"
      ]
    },
    {
      "cell_type": "code",
      "execution_count": 1,
      "id": "20d1ae2d",
      "metadata": {
        "id": "20d1ae2d",
        "outputId": "81e55aba-55fc-466e-f052-313d29b43e9a",
        "colab": {
          "base_uri": "https://localhost:8080/"
        }
      },
      "outputs": [
        {
          "output_type": "stream",
          "name": "stdout",
          "text": [
            "Requirement already satisfied: tensorflow in /usr/local/lib/python3.11/dist-packages (2.18.0)\n",
            "Requirement already satisfied: absl-py>=1.0.0 in /usr/local/lib/python3.11/dist-packages (from tensorflow) (1.4.0)\n",
            "Requirement already satisfied: astunparse>=1.6.0 in /usr/local/lib/python3.11/dist-packages (from tensorflow) (1.6.3)\n",
            "Requirement already satisfied: flatbuffers>=24.3.25 in /usr/local/lib/python3.11/dist-packages (from tensorflow) (25.2.10)\n",
            "Requirement already satisfied: gast!=0.5.0,!=0.5.1,!=0.5.2,>=0.2.1 in /usr/local/lib/python3.11/dist-packages (from tensorflow) (0.6.0)\n",
            "Requirement already satisfied: google-pasta>=0.1.1 in /usr/local/lib/python3.11/dist-packages (from tensorflow) (0.2.0)\n",
            "Requirement already satisfied: libclang>=13.0.0 in /usr/local/lib/python3.11/dist-packages (from tensorflow) (18.1.1)\n",
            "Requirement already satisfied: opt-einsum>=2.3.2 in /usr/local/lib/python3.11/dist-packages (from tensorflow) (3.4.0)\n",
            "Requirement already satisfied: packaging in /usr/local/lib/python3.11/dist-packages (from tensorflow) (24.2)\n",
            "Requirement already satisfied: protobuf!=4.21.0,!=4.21.1,!=4.21.2,!=4.21.3,!=4.21.4,!=4.21.5,<6.0.0dev,>=3.20.3 in /usr/local/lib/python3.11/dist-packages (from tensorflow) (5.29.5)\n",
            "Requirement already satisfied: requests<3,>=2.21.0 in /usr/local/lib/python3.11/dist-packages (from tensorflow) (2.32.3)\n",
            "Requirement already satisfied: setuptools in /usr/local/lib/python3.11/dist-packages (from tensorflow) (75.2.0)\n",
            "Requirement already satisfied: six>=1.12.0 in /usr/local/lib/python3.11/dist-packages (from tensorflow) (1.17.0)\n",
            "Requirement already satisfied: termcolor>=1.1.0 in /usr/local/lib/python3.11/dist-packages (from tensorflow) (3.1.0)\n",
            "Requirement already satisfied: typing-extensions>=3.6.6 in /usr/local/lib/python3.11/dist-packages (from tensorflow) (4.14.0)\n",
            "Requirement already satisfied: wrapt>=1.11.0 in /usr/local/lib/python3.11/dist-packages (from tensorflow) (1.17.2)\n",
            "Requirement already satisfied: grpcio<2.0,>=1.24.3 in /usr/local/lib/python3.11/dist-packages (from tensorflow) (1.73.1)\n",
            "Requirement already satisfied: tensorboard<2.19,>=2.18 in /usr/local/lib/python3.11/dist-packages (from tensorflow) (2.18.0)\n",
            "Requirement already satisfied: keras>=3.5.0 in /usr/local/lib/python3.11/dist-packages (from tensorflow) (3.8.0)\n",
            "Requirement already satisfied: numpy<2.1.0,>=1.26.0 in /usr/local/lib/python3.11/dist-packages (from tensorflow) (2.0.2)\n",
            "Requirement already satisfied: h5py>=3.11.0 in /usr/local/lib/python3.11/dist-packages (from tensorflow) (3.14.0)\n",
            "Requirement already satisfied: ml-dtypes<0.5.0,>=0.4.0 in /usr/local/lib/python3.11/dist-packages (from tensorflow) (0.4.1)\n",
            "Requirement already satisfied: tensorflow-io-gcs-filesystem>=0.23.1 in /usr/local/lib/python3.11/dist-packages (from tensorflow) (0.37.1)\n",
            "Requirement already satisfied: wheel<1.0,>=0.23.0 in /usr/local/lib/python3.11/dist-packages (from astunparse>=1.6.0->tensorflow) (0.45.1)\n",
            "Requirement already satisfied: rich in /usr/local/lib/python3.11/dist-packages (from keras>=3.5.0->tensorflow) (13.9.4)\n",
            "Requirement already satisfied: namex in /usr/local/lib/python3.11/dist-packages (from keras>=3.5.0->tensorflow) (0.1.0)\n",
            "Requirement already satisfied: optree in /usr/local/lib/python3.11/dist-packages (from keras>=3.5.0->tensorflow) (0.16.0)\n",
            "Requirement already satisfied: charset-normalizer<4,>=2 in /usr/local/lib/python3.11/dist-packages (from requests<3,>=2.21.0->tensorflow) (3.4.2)\n",
            "Requirement already satisfied: idna<4,>=2.5 in /usr/local/lib/python3.11/dist-packages (from requests<3,>=2.21.0->tensorflow) (3.10)\n",
            "Requirement already satisfied: urllib3<3,>=1.21.1 in /usr/local/lib/python3.11/dist-packages (from requests<3,>=2.21.0->tensorflow) (2.4.0)\n",
            "Requirement already satisfied: certifi>=2017.4.17 in /usr/local/lib/python3.11/dist-packages (from requests<3,>=2.21.0->tensorflow) (2025.6.15)\n",
            "Requirement already satisfied: markdown>=2.6.8 in /usr/local/lib/python3.11/dist-packages (from tensorboard<2.19,>=2.18->tensorflow) (3.8.2)\n",
            "Requirement already satisfied: tensorboard-data-server<0.8.0,>=0.7.0 in /usr/local/lib/python3.11/dist-packages (from tensorboard<2.19,>=2.18->tensorflow) (0.7.2)\n",
            "Requirement already satisfied: werkzeug>=1.0.1 in /usr/local/lib/python3.11/dist-packages (from tensorboard<2.19,>=2.18->tensorflow) (3.1.3)\n",
            "Requirement already satisfied: MarkupSafe>=2.1.1 in /usr/local/lib/python3.11/dist-packages (from werkzeug>=1.0.1->tensorboard<2.19,>=2.18->tensorflow) (3.0.2)\n",
            "Requirement already satisfied: markdown-it-py>=2.2.0 in /usr/local/lib/python3.11/dist-packages (from rich->keras>=3.5.0->tensorflow) (3.0.0)\n",
            "Requirement already satisfied: pygments<3.0.0,>=2.13.0 in /usr/local/lib/python3.11/dist-packages (from rich->keras>=3.5.0->tensorflow) (2.19.2)\n",
            "Requirement already satisfied: mdurl~=0.1 in /usr/local/lib/python3.11/dist-packages (from markdown-it-py>=2.2.0->rich->keras>=3.5.0->tensorflow) (0.1.2)\n"
          ]
        }
      ],
      "source": [
        "!pip install tensorflow"
      ]
    },
    {
      "cell_type": "markdown",
      "id": "b49504af",
      "metadata": {
        "id": "b49504af"
      },
      "source": [
        "Importamos las librerías necesarias y comprobamos la versión de TensorFlow."
      ]
    },
    {
      "cell_type": "code",
      "execution_count": 2,
      "id": "3bc01040",
      "metadata": {
        "id": "3bc01040",
        "outputId": "66aa1502-6ad5-4d5d-c92f-9949486501bb",
        "colab": {
          "base_uri": "https://localhost:8080/"
        }
      },
      "outputs": [
        {
          "output_type": "stream",
          "name": "stdout",
          "text": [
            "TensorFlow versión: 2.18.0\n"
          ]
        }
      ],
      "source": [
        "import tensorflow as tf\n",
        "from tensorflow import keras\n",
        "import numpy as np\n",
        "\n",
        "print(\"TensorFlow versión:\", tf.__version__)\n"
      ]
    },
    {
      "cell_type": "markdown",
      "id": "061b393a",
      "metadata": {
        "id": "061b393a"
      },
      "source": [
        "## 1. Cargando y explorando datos\n",
        "\n",
        "Vamos a trabajar con el dataset MNIST, que contiene imágenes de dígitos escritos a mano."
      ]
    },
    {
      "cell_type": "code",
      "execution_count": 3,
      "id": "da11b16c",
      "metadata": {
        "id": "da11b16c",
        "outputId": "aa01b569-c0e4-43a2-dd95-7c4492e599d4",
        "colab": {
          "base_uri": "https://localhost:8080/",
          "height": 521
        }
      },
      "outputs": [
        {
          "output_type": "stream",
          "name": "stdout",
          "text": [
            "Downloading data from https://storage.googleapis.com/tensorflow/tf-keras-datasets/mnist.npz\n",
            "\u001b[1m11490434/11490434\u001b[0m \u001b[32m━━━━━━━━━━━━━━━━━━━━\u001b[0m\u001b[37m\u001b[0m \u001b[1m0s\u001b[0m 0us/step\n",
            "Tamaño del conjunto de entrenamiento: (60000, 28, 28)\n",
            "Tamaño del conjunto de test: (10000, 28, 28)\n"
          ]
        },
        {
          "output_type": "display_data",
          "data": {
            "text/plain": [
              "<Figure size 640x480 with 1 Axes>"
            ],
            "image/png": "[encoded data removed]"
          },
          "metadata": {}
        }
      ],
      "source": [
        "mnist = keras.datasets.mnist\n",
        "(x_train, y_train), (x_test, y_test) = mnist.load_data()\n",
        "\n",
        "print(\"Tamaño del conjunto de entrenamiento:\", x_train.shape)\n",
        "print(\"Tamaño del conjunto de test:\", x_test.shape)\n",
        "\n",
        "import matplotlib.pyplot as plt\n",
        "\n",
        "plt.imshow(x_train[0], cmap=\"gray\")\n",
        "plt.title(f\"Etiqueta: {y_train[0]}\")\n",
        "plt.show()\n"
      ]
    },
    {
      "cell_type": "markdown",
      "id": "116e57df",
      "metadata": {
        "id": "116e57df"
      },
      "source": [
        "## 2. Preprocesamiento: Normalización de datos\n",
        "\n",
        "Las redes neuronales aprenden mejor si los datos de entrada están entre 0 y 1."
      ]
    },
    {
      "cell_type": "code",
      "execution_count": 19,
      "id": "5b799072",
      "metadata": {
        "id": "5b799072"
      },
      "outputs": [],
      "source": [
        "x_train = x_train / 255.0\n",
        "x_test = x_test / 255.0\n"
      ]
    },
    {
      "cell_type": "markdown",
      "id": "a744598a",
      "metadata": {
        "id": "a744598a"
      },
      "source": [
        "## 3. Construcción de tu primer modelo\n",
        "\n",
        "Un modelo en Keras es una secuencia de capas. Empezamos por un modelo simple."
      ]
    },
    {
      "cell_type": "code",
      "execution_count": 20,
      "id": "1fdf0ff9",
      "metadata": {
        "id": "1fdf0ff9"
      },
      "outputs": [],
      "source": [
        "model = keras.models.Sequential([\n",
        "    keras.layers.Flatten(input_shape=(28, 28)),\n",
        "    keras.layers.Dense(256, activation='relu'),\n",
        "    keras.layers.Dense(128, activation='relu'),\n",
        "    keras.layers.Dense(10, activation='softmax')\n",
        "])\n"
      ]
    },
    {
      "cell_type": "markdown",
      "id": "3c08f582",
      "metadata": {
        "id": "3c08f582"
      },
      "source": [
        "## 4. Compilación del modelo\n",
        "\n",
        "Aquí decidimos cómo aprenderá el modelo."
      ]
    },
    {
      "cell_type": "code",
      "execution_count": 21,
      "id": "8716a09f",
      "metadata": {
        "id": "8716a09f"
      },
      "outputs": [],
      "source": [
        "model.compile(\n",
        "    optimizer='adam',\n",
        "    loss='sparse_categorical_crossentropy',\n",
        "    metrics=['accuracy']\n",
        ")\n"
      ]
    },
    {
      "cell_type": "markdown",
      "id": "db1eae46",
      "metadata": {
        "id": "db1eae46"
      },
      "source": [
        "## 5. Entrenamiento del modelo"
      ]
    },
    {
      "cell_type": "code",
      "execution_count": 22,
      "id": "367720e8",
      "metadata": {
        "id": "367720e8",
        "outputId": "c059bf4f-99bf-4e0b-c283-f1a81a0d0663",
        "colab": {
          "base_uri": "https://localhost:8080/"
        }
      },
      "outputs": [
        {
          "output_type": "stream",
          "name": "stdout",
          "text": [
            "Epoch 1/20\n",
            "\u001b[1m313/313\u001b[0m \u001b[32m━━━━━━━━━━━━━━━━━━━━\u001b[0m\u001b[37m\u001b[0m \u001b[1m3s\u001b[0m 4ms/step - accuracy: 0.3366 - loss: 2.0125\n",
            "Epoch 2/20\n",
            "\u001b[1m313/313\u001b[0m \u001b[32m━━━━━━━━━━━━━━━━━━━━\u001b[0m\u001b[37m\u001b[0m \u001b[1m3s\u001b[0m 7ms/step - accuracy: 0.7622 - loss: 0.7786\n",
            "Epoch 3/20\n",
            "\u001b[1m313/313\u001b[0m \u001b[32m━━━━━━━━━━━━━━━━━━━━\u001b[0m\u001b[37m\u001b[0m \u001b[1m2s\u001b[0m 4ms/step - accuracy: 0.8407 - loss: 0.5496\n",
            "Epoch 4/20\n",
            "\u001b[1m313/313\u001b[0m \u001b[32m━━━━━━━━━━━━━━━━━━━━\u001b[0m\u001b[37m\u001b[0m \u001b[1m3s\u001b[0m 4ms/step - accuracy: 0.8704 - loss: 0.4537\n",
            "Epoch 5/20\n",
            "\u001b[1m313/313\u001b[0m \u001b[32m━━━━━━━━━━━━━━━━━━━━\u001b[0m\u001b[37m\u001b[0m \u001b[1m1s\u001b[0m 5ms/step - accuracy: 0.8799 - loss: 0.4135\n",
            "Epoch 6/20\n",
            "\u001b[1m313/313\u001b[0m \u001b[32m━━━━━━━━━━━━━━━━━━━━\u001b[0m\u001b[37m\u001b[0m \u001b[1m1s\u001b[0m 5ms/step - accuracy: 0.8946 - loss: 0.3608\n",
            "Epoch 7/20\n",
            "\u001b[1m313/313\u001b[0m \u001b[32m━━━━━━━━━━━━━━━━━━━━\u001b[0m\u001b[37m\u001b[0m \u001b[1m3s\u001b[0m 5ms/step - accuracy: 0.8999 - loss: 0.3415\n",
            "Epoch 8/20\n",
            "\u001b[1m313/313\u001b[0m \u001b[32m━━━━━━━━━━━━━━━━━━━━\u001b[0m\u001b[37m\u001b[0m \u001b[1m2s\u001b[0m 7ms/step - accuracy: 0.9121 - loss: 0.3188\n",
            "Epoch 9/20\n",
            "\u001b[1m313/313\u001b[0m \u001b[32m━━━━━━━━━━━━━━━━━━━━\u001b[0m\u001b[37m\u001b[0m \u001b[1m2s\u001b[0m 5ms/step - accuracy: 0.9155 - loss: 0.3014\n",
            "Epoch 10/20\n",
            "\u001b[1m313/313\u001b[0m \u001b[32m━━━━━━━━━━━━━━━━━━━━\u001b[0m\u001b[37m\u001b[0m \u001b[1m1s\u001b[0m 5ms/step - accuracy: 0.9199 - loss: 0.2908\n",
            "Epoch 11/20\n",
            "\u001b[1m313/313\u001b[0m \u001b[32m━━━━━━━━━━━━━━━━━━━━\u001b[0m\u001b[37m\u001b[0m \u001b[1m1s\u001b[0m 4ms/step - accuracy: 0.9168 - loss: 0.2837\n",
            "Epoch 12/20\n",
            "\u001b[1m313/313\u001b[0m \u001b[32m━━━━━━━━━━━━━━━━━━━━\u001b[0m\u001b[37m\u001b[0m \u001b[1m3s\u001b[0m 4ms/step - accuracy: 0.9218 - loss: 0.2842\n",
            "Epoch 13/20\n",
            "\u001b[1m313/313\u001b[0m \u001b[32m━━━━━━━━━━━━━━━━━━━━\u001b[0m\u001b[37m\u001b[0m \u001b[1m1s\u001b[0m 4ms/step - accuracy: 0.9271 - loss: 0.2524\n",
            "Epoch 14/20\n",
            "\u001b[1m313/313\u001b[0m \u001b[32m━━━━━━━━━━━━━━━━━━━━\u001b[0m\u001b[37m\u001b[0m \u001b[1m2s\u001b[0m 5ms/step - accuracy: 0.9233 - loss: 0.2665\n",
            "Epoch 15/20\n",
            "\u001b[1m313/313\u001b[0m \u001b[32m━━━━━━━━━━━━━━━━━━━━\u001b[0m\u001b[37m\u001b[0m \u001b[1m3s\u001b[0m 6ms/step - accuracy: 0.9310 - loss: 0.2391\n",
            "Epoch 16/20\n",
            "\u001b[1m313/313\u001b[0m \u001b[32m━━━━━━━━━━━━━━━━━━━━\u001b[0m\u001b[37m\u001b[0m \u001b[1m1s\u001b[0m 4ms/step - accuracy: 0.9336 - loss: 0.2298\n",
            "Epoch 17/20\n",
            "\u001b[1m313/313\u001b[0m \u001b[32m━━━━━━━━━━━━━━━━━━━━\u001b[0m\u001b[37m\u001b[0m \u001b[1m1s\u001b[0m 5ms/step - accuracy: 0.9349 - loss: 0.2235\n",
            "Epoch 18/20\n",
            "\u001b[1m313/313\u001b[0m \u001b[32m━━━━━━━━━━━━━━━━━━━━\u001b[0m\u001b[37m\u001b[0m \u001b[1m2s\u001b[0m 4ms/step - accuracy: 0.9391 - loss: 0.2121\n",
            "Epoch 19/20\n",
            "\u001b[1m313/313\u001b[0m \u001b[32m━━━━━━━━━━━━━━━━━━━━\u001b[0m\u001b[37m\u001b[0m \u001b[1m3s\u001b[0m 4ms/step - accuracy: 0.9446 - loss: 0.1984\n",
            "Epoch 20/20\n",
            "\u001b[1m313/313\u001b[0m \u001b[32m━━━━━━━━━━━━━━━━━━━━\u001b[0m\u001b[37m\u001b[0m \u001b[1m4s\u001b[0m 8ms/step - accuracy: 0.9364 - loss: 0.2171\n"
          ]
        }
      ],
      "source": [
        "history = model.fit(x_train[:10000], y_train[:10000], epochs=20)"
      ]
    },
    {
      "cell_type": "markdown",
      "id": "e8b91328",
      "metadata": {
        "id": "e8b91328"
      },
      "source": [
        "## 6. Evaluación y predicción"
      ]
    },
    {
      "cell_type": "code",
      "execution_count": 18,
      "id": "2c9b740c",
      "metadata": {
        "id": "2c9b740c",
        "outputId": "1560de26-9fd8-4ce0-ce26-3b20c9c4ec7a",
        "colab": {
          "base_uri": "https://localhost:8080/",
          "height": 521
        }
      },
      "outputs": [
        {
          "output_type": "stream",
          "name": "stdout",
          "text": [
            "\u001b[1m313/313\u001b[0m \u001b[32m━━━━━━━━━━━━━━━━━━━━\u001b[0m\u001b[37m\u001b[0m \u001b[1m1s\u001b[0m 3ms/step - accuracy: 0.9524 - loss: 0.1914\n",
            "Precisión en test: 0.959\n",
            "\u001b[1m313/313\u001b[0m \u001b[32m━━━━━━━━━━━━━━━━━━━━\u001b[0m\u001b[37m\u001b[0m \u001b[1m1s\u001b[0m 3ms/step\n",
            "Predicción para la primera imagen: 7\n"
          ]
        },
        {
          "output_type": "display_data",
          "data": {
            "text/plain": [
              "<Figure size 640x480 with 1 Axes>"
            ],
            "image/png": "[encoded data removed]"
          },
          "metadata": {}
        }
      ],
      "source": [
        "test_loss, test_acc = model.evaluate(x_test, y_test)\n",
        "print(f\"Precisión en test: {test_acc:.3f}\")\n",
        "\n",
        "predictions = model.predict(x_test)\n",
        "print(\"Predicción para la primera imagen:\", np.argmax(predictions[0]))\n",
        "\n",
        "import matplotlib.pyplot as plt\n",
        "plt.imshow(x_test[0], cmap=\"gray\")\n",
        "plt.title(f\"Predicción: {np.argmax(predictions[0])}, Real: {y_test[0]}\")\n",
        "plt.show()\n"
      ]
    },
    {
      "cell_type": "markdown",
      "id": "1c48123b",
      "metadata": {
        "id": "1c48123b"
      },
      "source": [
        "## 7. Ejercicio guiado 1\n",
        "\n",
        "> **Tarea:**  \n",
        "> - Cambia el número de épocas a 10 y vuelve a entrenar.  \n",
        "> - ¿Qué sucede con la precisión?  \n",
        "> - Prueba usando solo los primeros 10,000 ejemplos de entrenamiento (`x_train[:10000]`). ¿Notas algún cambio?\n",
        "\n",
        "*La precisión aumenta al cambiar el número de épocas a 10.*\n",
        "\n",
        "*No significativamente pero, al usar tan pocos ejemplos, la precisión baja levemente.*"
      ]
    },
    {
      "cell_type": "markdown",
      "id": "d619fec2",
      "metadata": {
        "id": "d619fec2"
      },
      "source": [
        "## 8. Modificando la arquitectura (Ejercicio guiado 2)\n",
        "\n",
        "> **Tarea:**  \n",
        "> - Cambia la capa oculta a 64 neuronas.  \n",
        "> - ¿Cambia la precisión?\n",
        "> - Vuelve a probar, pero ahora pon 256 neuronas.  \n",
        "> - Comenta tus observaciones.\n",
        "\n",
        "*La precisión baja al cambiar la capa oculta a 64 y aumenta el usar 256.*"
      ]
    },
    {
      "cell_type": "markdown",
      "id": "f46622c0",
      "metadata": {
        "id": "f46622c0"
      },
      "source": [
        "## 9. Añadiendo más capas (Ejercicio guiado 3)\n",
        "\n",
        "> **Tarea:**  \n",
        "> - Añade una segunda capa oculta de 64 neuronas (`Dense(64, activation='relu')`).  \n",
        "> - Entrena durante 10 épocas y prueba batch_size=64.  \n",
        "> - Cambia batch_size a 32 y 128 y observa la diferencia en velocidad/precisión.  \n",
        "> - ¿Qué ocurre si entrenas solo 3 épocas? ¿Y si usas 20?\n",
        "\n",
        "*La velocidad baja al usar un batch_size pequeño; incluso con 20 épocas se trata de un proceso rápido.*"
      ]
    },
    {
      "cell_type": "markdown",
      "id": "e46a6cfe",
      "metadata": {
        "id": "e46a6cfe"
      },
      "source": [
        "## 10. Guardar y cargar modelos (Ejercicio guiado 4)"
      ]
    },
    {
      "cell_type": "code",
      "execution_count": 28,
      "id": "ab5a6240",
      "metadata": {
        "id": "ab5a6240"
      },
      "outputs": [],
      "source": [
        "# Guardar modelo\n",
        "model.save('mi_segundo_modelo.keras')\n",
        "\n",
        "import matplotlib.pyplot as plt\n",
        "import numpy as np"
      ]
    },
    {
      "cell_type": "code",
      "execution_count": 32,
      "id": "3a12ceec",
      "metadata": {
        "id": "3a12ceec",
        "outputId": "9071bd86-a0c8-4b85-e3c9-50647c4bce3a",
        "colab": {
          "base_uri": "https://localhost:8080/",
          "height": 480
        }
      },
      "outputs": [
        {
          "output_type": "stream",
          "name": "stdout",
          "text": [
            "\u001b[1m313/313\u001b[0m \u001b[32m━━━━━━━━━━━━━━━━━━━━\u001b[0m\u001b[37m\u001b[0m \u001b[1m1s\u001b[0m 2ms/step\n",
            "Predicción de la imagen 10: 0\n",
            "Etiqueta real: 0\n"
          ]
        },
        {
          "output_type": "display_data",
          "data": {
            "text/plain": [
              "<Figure size 640x480 with 1 Axes>"
            ],
            "image/png": "[encoded data removed]"
          },
          "metadata": {}
        }
      ],
      "source": [
        "# Cargar modelo\n",
        "nuevo_modelo = keras.models.load_model('mi_segundo_modelo.keras')\n",
        "\n",
        "# Predecir con el modelo cargado\n",
        "predicciones = nuevo_modelo.predict(x_test)\n",
        "\n",
        "# Elegir otra imagen de test (el 6)\n",
        "indice = 10\n",
        "imagen = x_test[indice]\n",
        "etiqueta_real = y_test[indice]\n",
        "\n",
        "# Mostrar predicción\n",
        "prediccion = np.argmax(predicciones[indice])\n",
        "print(f\"Predicción de la imagen {indice}: {prediccion}\")\n",
        "print(f\"Etiqueta real: {etiqueta_real}\")\n",
        "\n",
        "# Mostrar la imagen\n",
        "plt.imshow(imagen, cmap='gray')\n",
        "plt.title(f\"Real: {etiqueta_real} - Predicción: {prediccion}\")\n",
        "plt.axis('off')\n",
        "plt.show()"
      ]
    },
    {
      "cell_type": "markdown",
      "id": "60a4208c",
      "metadata": {
        "id": "60a4208c"
      },
      "source": [
        "> **Tarea:**  \n",
        "> - Cambia el nombre del archivo al guardar el modelo y verifica que puedes cargarlo correctamente.  \n",
        "> - Elige otra imagen de test y muestra la predicción junto con la imagen y la etiqueta real."
      ]
    },
    {
      "cell_type": "markdown",
      "id": "228c8fde",
      "metadata": {
        "id": "228c8fde"
      },
      "source": [
        "## 11. Ejercicio práctico sencillo (no guiado)\n",
        "\n",
        "Utiliza el dataset `fashion_mnist` de Keras (imágenes de ropa), crea y entrena un modelo similar, evalúa la precisión y muestra la predicción de varias imágenes.\n",
        "\n",
        "> **Pistas:**  \n",
        "> - El dataset se carga así:\n",
        ">   ```python\n",
        ">   fashion_mnist = keras.datasets.fashion_mnist\n",
        ">   (x_train, y_train), (x_test, y_test) = fashion_mnist.load_data()\n",
        ">   ```\n",
        "> - Preprocesa los datos como antes.\n",
        "> - Las etiquetas representan distintos tipos de ropa (0: camiseta, 1: pantalón, etc)."
      ]
    },
    {
      "cell_type": "code",
      "source": [
        "# Cargar dataset Fashion MNIST\n",
        "fashion_mnist = keras.datasets.fashion_mnist\n",
        "(x_train, y_train), (x_test, y_test) = fashion_mnist.load_data()\n",
        "\n",
        "# Clases del dataset\n",
        "clases = ['Camiseta/top', 'Pantalón', 'Jersey', 'Vestido', 'Abrigo',\n",
        "          'Sandalia', 'Camisa', 'Zapatilla', 'Bolso', 'Bota']\n",
        "\n",
        "# Normalizar valores entre 0 y 1 (le es más fácil)\n",
        "x_train = x_train / 255.0\n",
        "x_test = x_test / 255.0\n",
        "\n",
        "# Crear el modelo\n",
        "modelo = keras.Sequential([\n",
        "    layers.Flatten(input_shape=(28, 28)),\n",
        "    layers.Dense(128, activation='relu'),\n",
        "    layers.Dense(10, activation='softmax')  # 10 clases\n",
        "])\n",
        "\n",
        "# Compilar el modelo\n",
        "modelo.compile(optimizer='adam',\n",
        "               loss='sparse_categorical_crossentropy',\n",
        "               metrics=['accuracy'])\n",
        "\n",
        "# Entrenar el modelo\n",
        "modelo.fit(x_train, y_train, epochs=5)\n",
        "\n",
        "# Evaluar el modelo\n",
        "test_loss, test_acc = modelo.evaluate(x_test, y_test)\n",
        "print('\\nPrecisión en el conjunto de prueba:', test_acc)\n",
        "\n",
        "# Hacer predicciones\n",
        "predicciones = modelo.predict(x_test)\n",
        "\n",
        "# Mostrar varias imágenes con predicciones\n",
        "num_imagenes = 5\n",
        "for i in range(num_imagenes):\n",
        "    plt.figure(figsize=(2,2))\n",
        "    plt.imshow(x_test[i], cmap='gray')\n",
        "    pred = np.argmax(predicciones[i])\n",
        "    real = y_test[i]\n",
        "    plt.title(f\"Real: {clases[real]} - Predicción: {clases[pred]}\")\n",
        "    plt.axis('off')\n",
        "    plt.show()"
      ],
      "metadata": {
        "id": "Vw9nbaI8TXuu",
        "outputId": "e0ec93ce-6594-4dc1-d3f8-33d3d675abcc",
        "colab": {
          "base_uri": "https://localhost:8080/",
          "height": 1000
        }
      },
      "id": "Vw9nbaI8TXuu",
      "execution_count": 34,
      "outputs": [
        {
          "output_type": "stream",
          "name": "stdout",
          "text": [
            "Epoch 1/5\n",
            "\u001b[1m1875/1875\u001b[0m \u001b[32m━━━━━━━━━━━━━━━━━━━━\u001b[0m\u001b[37m\u001b[0m \u001b[1m7s\u001b[0m 3ms/step - accuracy: 0.7825 - loss: 0.6271\n",
            "Epoch 2/5\n",
            "\u001b[1m1875/1875\u001b[0m \u001b[32m━━━━━━━━━━━━━━━━━━━━\u001b[0m\u001b[37m\u001b[0m \u001b[1m13s\u001b[0m 4ms/step - accuracy: 0.8612 - loss: 0.3823\n",
            "Epoch 3/5\n",
            "\u001b[1m1875/1875\u001b[0m \u001b[32m━━━━━━━━━━━━━━━━━━━━\u001b[0m\u001b[37m\u001b[0m \u001b[1m9s\u001b[0m 4ms/step - accuracy: 0.8758 - loss: 0.3391\n",
            "Epoch 4/5\n",
            "\u001b[1m1875/1875\u001b[0m \u001b[32m━━━━━━━━━━━━━━━━━━━━\u001b[0m\u001b[37m\u001b[0m \u001b[1m9s\u001b[0m 3ms/step - accuracy: 0.8855 - loss: 0.3091\n",
            "Epoch 5/5\n",
            "\u001b[1m1875/1875\u001b[0m \u001b[32m━━━━━━━━━━━━━━━━━━━━\u001b[0m\u001b[37m\u001b[0m \u001b[1m7s\u001b[0m 4ms/step - accuracy: 0.8918 - loss: 0.2961\n",
            "\u001b[1m313/313\u001b[0m \u001b[32m━━━━━━━━━━━━━━━━━━━━\u001b[0m\u001b[37m\u001b[0m \u001b[1m1s\u001b[0m 2ms/step - accuracy: 0.8719 - loss: 0.3557\n",
            "\n",
            "Precisión en el conjunto de prueba: 0.8707000017166138\n",
            "\u001b[1m313/313\u001b[0m \u001b[32m━━━━━━━━━━━━━━━━━━━━\u001b[0m\u001b[37m\u001b[0m \u001b[1m0s\u001b[0m 1ms/step\n"
          ]
        },
        {
          "output_type": "display_data",
          "data": {
            "text/plain": [
              "<Figure size 200x200 with 1 Axes>"
            ],
            "image/png": "[encoded data removed]"
          },
          "metadata": {}
        },
        {
          "output_type": "display_data",
          "data": {
            "text/plain": [
              "<Figure size 200x200 with 1 Axes>"
            ],
            "image/png": "[encoded data removed]"
          },
          "metadata": {}
        },
        {
          "output_type": "display_data",
          "data": {
            "text/plain": [
              "<Figure size 200x200 with 1 Axes>"
            ],
            "image/png": "[encoded data removed]"
          },
          "metadata": {}
        },
        {
          "output_type": "display_data",
          "data": {
            "text/plain": [
              "<Figure size 200x200 with 1 Axes>"
            ],
            "image/png": "[encoded data removed]"
          },
          "metadata": {}
        },
        {
          "output_type": "display_data",
          "data": {
            "text/plain": [
              "<Figure size 200x200 with 1 Axes>"
            ],
            "image/png": "[encoded data removed]"
          },
          "metadata": {}
        }
      ]
    },
    {
      "cell_type": "markdown",
      "id": "e798fe24",
      "metadata": {
        "id": "e798fe24"
      },
      "source": [
        "## 12. Reto medio: Clasificador multiclase personalizado (MNIST)\n",
        "\n",
        "Crea un clasificador para distinguir solo tres dígitos de MNIST (por ejemplo: 3, 5 y 7).\n",
        "\n",
        "> **Instrucciones:**\n",
        "> - Filtra los datos para quedarte solo con las imágenes y etiquetas de los tres dígitos elegidos.\n",
        "> - Preprocesa los datos como siempre.\n",
        "> - Crea y entrena un modelo (recuerda que la capa de salida debe tener 3 neuronas y softmax).\n",
        "> - Cambia las etiquetas originales (3, 5, 7) a (0, 1, 2).\n",
        "> - Evalúa la precisión del modelo y muestra la predicción de algunas imágenes junto a la etiqueta real.\n",
        ">\n",
        "> **Pista para filtrar datos:**\n",
        "> ```python\n",
        "> digitos = [3, 5, 7]\n",
        "> indices_train = np.isin(y_train, digitos)\n",
        "> indices_test = np.isin(y_test, digitos)\n",
        ">\n",
        "> x_train_filtrado = x_train[indices_train]\n",
        "> y_train_filtrado = y_train[indices_train]\n",
        "> x_test_filtrado = x_test[indices_test]\n",
        "> y_test_filtrado = y_test[indices_test]\n",
        "> ```\n",
        "> - Para reasignar etiquetas puedes usar:\n",
        "> ```python\n",
        "> mapeo = {3:0, 5:1, 7:2}\n",
        "> y_train_filtrado = np.vectorize(mapeo.get)(y_train_filtrado)\n",
        "> y_test_filtrado = np.vectorize(mapeo.get)(y_test_filtrado)\n",
        "> ```"
      ]
    },
    {
      "cell_type": "code",
      "source": [
        "# Cargar dataset\n",
        "(x_train, y_train), (x_test, y_test) = keras.datasets.mnist.load_data()\n",
        "\n",
        "# Digitos a clasificar\n",
        "digitos = [3, 5, 7]\n",
        "\n",
        "# Filtrar imágenes que sean solo 3, 5 o 7\n",
        "indices_train = np.isin(y_train, digitos)\n",
        "indices_test = np.isin(y_test, digitos)\n",
        "\n",
        "x_train_filtrado = x_train[indices_train]\n",
        "y_train_filtrado = y_train[indices_train]\n",
        "x_test_filtrado = x_test[indices_test]\n",
        "y_test_filtrado = y_test[indices_test]\n",
        "\n",
        "# Reasignar etiquetas: 3 → 0, 5 → 1, 7 → 2\n",
        "mapeo = {3: 0, 5: 1, 7: 2}\n",
        "y_train_filtrado = np.vectorize(mapeo.get)(y_train_filtrado)\n",
        "y_test_filtrado = np.vectorize(mapeo.get)(y_test_filtrado)\n",
        "\n",
        "# Normalizar imágenes\n",
        "x_train_filtrado = x_train_filtrado / 255.0\n",
        "x_test_filtrado = x_test_filtrado / 255.0\n",
        "\n",
        "# Crear modelo\n",
        "modelo = keras.Sequential([\n",
        "    layers.Flatten(input_shape=(28, 28)),\n",
        "    layers.Dense(64, activation='relu'),\n",
        "    layers.Dense(3, activation='softmax')  # Solo 3 clases\n",
        "])\n",
        "\n",
        "# Compilar\n",
        "modelo.compile(optimizer='adam',\n",
        "               loss='sparse_categorical_crossentropy',\n",
        "               metrics=['accuracy'])\n",
        "\n",
        "# Entrenar\n",
        "modelo.fit(x_train_filtrado, y_train_filtrado, epochs=5)\n",
        "\n",
        "# Evaluar\n",
        "loss, acc = modelo.evaluate(x_test_filtrado, y_test_filtrado)\n",
        "print(f\"\\nPrecisión del modelo en test: {acc:.2f}\")\n",
        "\n",
        "# Predecir algunas imágenes\n",
        "predicciones = modelo.predict(x_test_filtrado)\n",
        "\n",
        "# Mostrar algunas imágenes con predicciones\n",
        "clases = ['3', '5', '7']\n",
        "for i in range(5):\n",
        "    plt.imshow(x_test_filtrado[i], cmap='gray')\n",
        "    pred = np.argmax(predicciones[i])\n",
        "    real = y_test_filtrado[i]\n",
        "    plt.title(f\"Real: {clases[real]} - Predicción: {clases[pred]}\")\n",
        "    plt.axis('off')\n",
        "    plt.show()"
      ],
      "metadata": {
        "id": "9TCPJdcyULwR",
        "outputId": "4d224f16-83cd-4ca3-8c60-73390d19a2bf",
        "colab": {
          "base_uri": "https://localhost:8080/",
          "height": 1000
        }
      },
      "id": "9TCPJdcyULwR",
      "execution_count": 35,
      "outputs": [
        {
          "output_type": "stream",
          "name": "stdout",
          "text": [
            "Epoch 1/5\n",
            "\u001b[1m557/557\u001b[0m \u001b[32m━━━━━━━━━━━━━━━━━━━━\u001b[0m\u001b[37m\u001b[0m \u001b[1m2s\u001b[0m 2ms/step - accuracy: 0.9197 - loss: 0.2252\n",
            "Epoch 2/5\n",
            "\u001b[1m557/557\u001b[0m \u001b[32m━━━━━━━━━━━━━━━━━━━━\u001b[0m\u001b[37m\u001b[0m \u001b[1m3s\u001b[0m 2ms/step - accuracy: 0.9802 - loss: 0.0615\n",
            "Epoch 3/5\n",
            "\u001b[1m557/557\u001b[0m \u001b[32m━━━━━━━━━━━━━━━━━━━━\u001b[0m\u001b[37m\u001b[0m \u001b[1m3s\u001b[0m 2ms/step - accuracy: 0.9878 - loss: 0.0393\n",
            "Epoch 4/5\n",
            "\u001b[1m557/557\u001b[0m \u001b[32m━━━━━━━━━━━━━━━━━━━━\u001b[0m\u001b[37m\u001b[0m \u001b[1m2s\u001b[0m 4ms/step - accuracy: 0.9915 - loss: 0.0272\n",
            "Epoch 5/5\n",
            "\u001b[1m557/557\u001b[0m \u001b[32m━━━━━━━━━━━━━━━━━━━━\u001b[0m\u001b[37m\u001b[0m \u001b[1m2s\u001b[0m 3ms/step - accuracy: 0.9948 - loss: 0.0183\n",
            "\u001b[1m92/92\u001b[0m \u001b[32m━━━━━━━━━━━━━━━━━━━━\u001b[0m\u001b[37m\u001b[0m \u001b[1m0s\u001b[0m 2ms/step - accuracy: 0.9845 - loss: 0.0501\n",
            "\n",
            "Precisión del modelo en test: 0.99\n",
            "\u001b[1m92/92\u001b[0m \u001b[32m━━━━━━━━━━━━━━━━━━━━\u001b[0m\u001b[37m\u001b[0m \u001b[1m0s\u001b[0m 2ms/step\n"
          ]
        },
        {
          "output_type": "display_data",
          "data": {
            "text/plain": [
              "<Figure size 640x480 with 1 Axes>"
            ],
            "image/png": "[encoded data removed]"
          },
          "metadata": {}
        },
        {
          "output_type": "display_data",
          "data": {
            "text/plain": [
              "<Figure size 640x480 with 1 Axes>"
            ],
            "image/png": "[encoded data removed]"
          },
          "metadata": {}
        },
        {
          "output_type": "display_data",
          "data": {
            "text/plain": [
              "<Figure size 640x480 with 1 Axes>"
            ],
            "image/png": "[encoded data removed]"
          },
          "metadata": {}
        },
        {
          "output_type": "display_data",
          "data": {
            "text/plain": [
              "<Figure size 640x480 with 1 Axes>"
            ],
            "image/png": "[encoded data removed]"
          },
          "metadata": {}
        },
        {
          "output_type": "display_data",
          "data": {
            "text/plain": [
              "<Figure size 640x480 with 1 Axes>"
            ],
            "image/png": "[encoded data removed]"
          },
          "metadata": {}
        }
      ]
    },
    {
      "cell_type": "markdown",
      "id": "938d7848",
      "metadata": {
        "id": "938d7848"
      },
      "source": [
        "## 13. (Opcional) Ideas de ampliación\n",
        "\n",
        "- Ajusta el número de capas y neuronas, o añade Dropout (desactivación de neuronas aleatoriamente).\n",
        "- Visualiza imágenes mal clasificadas.\n",
        "- Prueba otras funciones de activación u optimizadores.\n",
        "\n",
        "---\n",
        "\n",
        "> **¡Enhorabuena! Has completado tu primera introducción práctica a TensorFlow/Keras.**"
      ]
    },
    {
      "cell_type": "code",
      "source": [
        "# Ver las mal clasificadas del anterior:\n",
        "\n",
        "# Obtener predicciones\n",
        "predicciones = modelo.predict(x_test_filtrado)\n",
        "pred_clases = np.argmax(predicciones, axis=1)\n",
        "\n",
        "# Encontrar índices donde la predicción fue incorrecta\n",
        "errores = np.where(pred_clases != y_test_filtrado)[0]\n",
        "\n",
        "# Clases originales mapeadas\n",
        "clases = ['3', '5', '7']\n",
        "\n",
        "print(f\"Número de errores: {len(errores)}\")\n",
        "\n",
        "# Mostrar las primeras 5 imágenes mal clasificadas\n",
        "for i in errores[:5]:\n",
        "    plt.imshow(x_test_filtrado[i], cmap='gray')\n",
        "    real = y_test_filtrado[i]\n",
        "    pred = pred_clases[i]\n",
        "    plt.title(f\"Real: {clases[real]} - Predicción: {clases[pred]}\")\n",
        "    plt.axis('off')\n",
        "    plt.show()"
      ],
      "metadata": {
        "id": "w5TZqn2iUthR",
        "outputId": "db12d369-d938-49dd-edf4-cde7215d19e4",
        "colab": {
          "base_uri": "https://localhost:8080/",
          "height": 1000
        }
      },
      "id": "w5TZqn2iUthR",
      "execution_count": 38,
      "outputs": [
        {
          "output_type": "stream",
          "name": "stdout",
          "text": [
            "\u001b[1m92/92\u001b[0m \u001b[32m━━━━━━━━━━━━━━━━━━━━\u001b[0m\u001b[37m\u001b[0m \u001b[1m0s\u001b[0m 1ms/step\n",
            "Número de errores: 35\n"
          ]
        },
        {
          "output_type": "display_data",
          "data": {
            "text/plain": [
              "<Figure size 640x480 with 1 Axes>"
            ],
            "image/png": "[encoded data removed]"
          },
          "metadata": {}
        },
        {
          "output_type": "display_data",
          "data": {
            "text/plain": [
              "<Figure size 640x480 with 1 Axes>"
            ],
            "image/png": "[encoded data removed]"
          },
          "metadata": {}
        },
        {
          "output_type": "display_data",
          "data": {
            "text/plain": [
              "<Figure size 640x480 with 1 Axes>"
            ],
            "image/png": "[encoded data removed]"
          },
          "metadata": {}
        },
        {
          "output_type": "display_data",
          "data": {
            "text/plain": [
              "<Figure size 640x480 with 1 Axes>"
            ],
            "image/png": "[encoded data removed]"
          },
          "metadata": {}
        },
        {
          "output_type": "display_data",
          "data": {
            "text/plain": [
              "<Figure size 640x480 with 1 Axes>"
            ],
            "image/png": "[encoded data removed]"
          },
          "metadata": {}
        }
      ]
    },
    {
      "cell_type": "code",
      "source": [],
      "metadata": {
        "id": "_oww-qRHUwO1"
      },
      "id": "_oww-qRHUwO1",
      "execution_count": null,
      "outputs": []
    }
  ],
  "metadata": {
    "colab": {
      "provenance": []
    },
    "language_info": {
      "name": "python"
    },
    "kernelspec": {
      "name": "python3",
      "display_name": "Python 3"
    }
  },
  "nbformat": 4,
  "nbformat_minor": 5
}