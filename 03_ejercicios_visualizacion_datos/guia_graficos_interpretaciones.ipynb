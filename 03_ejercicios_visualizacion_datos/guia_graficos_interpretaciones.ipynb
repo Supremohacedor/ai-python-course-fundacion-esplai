{
 "cells": [
  {
   "cell_type": "markdown",
   "id": "060b46b7",
   "metadata": {},
   "source": [
    "# 📊 Guía Práctica de Gráficos en Ciencia de Datos con Python\n",
    "\n",
    "En este notebook veremos los gráficos más usados en ciencia de datos, cuándo se utilizan, cómo se interpretan y ejemplos de código ejecutables con Python (Seaborn/Matplotlib).  \n",
    "Después de cada gráfico encontrarás una interpretación oculta: haz clic en \"Interpretación\" para desplegarla cuando desees.\n"
   ]
  },
  {
   "cell_type": "markdown",
   "id": "e3acac78",
   "metadata": {},
   "source": [
    "## Boxplot\n",
    "\n",
    "**¿Cuándo usarlo?**  \n",
    "Para comparar la distribución y presencia de outliers en variables numéricas entre categorías.\n",
    "\n",
    "**Ejemplo real:** Comparar la edad de los pasajeros por sexo en el Titanic.\n"
   ]
  },
  {
   "cell_type": "code",
   "execution_count": null,
   "id": "1c1837f5",
   "metadata": {},
   "outputs": [
    {
     "ename": "",
     "evalue": "",
     "output_type": "error",
     "traceback": [
      "\u001b[1;31mRunning cells with 'Python 3.12.3' requires the ipykernel package.\n",
      "\u001b[1;31m<a href='command:jupyter.createPythonEnvAndSelectController'>Create a Python Environment</a> with the required packages.\n",
      "\u001b[1;31mOr install 'ipykernel' using the command: '/bin/python3 -m pip install ipykernel -U --user --force-reinstall'"
     ]
    }
   ],
   "source": [
    "import seaborn as sns\n",
    "import matplotlib.pyplot as plt\n",
    "\n",
    "titanic = sns.load_dataset('titanic')\n",
    "\n",
    "plt.figure(figsize=(7,5))\n",
    "sns.boxplot(x='sex', y='age', data=titanic)\n",
    "plt.title('Distribución de edades por sexo (Titanic)')\n",
    "plt.show()"
   ]
  },
  {
   "cell_type": "markdown",
   "id": "15f8566a",
   "metadata": {},
   "source": [
    "<details>\n",
    "<summary><b>Interpretación</b></summary>\n",
    "\n",
    "Este gráfico muestra cómo se reparten las edades entre hombres y mujeres.  \n",
    "La línea dentro de la caja es la edad mediana (la mitad de las personas tienen menos edad y la otra mitad más).  \n",
    "La caja contiene la mayoría de los datos (la mitad central).  \n",
    "Los puntos que están fuera de las “líneas” delgadas (bigotes) son personas con edades poco comunes (más mayores o más jóvenes de lo normal en el grupo).  \n",
    "En este caso, vemos que hombres y mujeres tienen edades parecidas, pero hay más hombres mayores que mujeres mayores.\n",
    "\n",
    "</details>\n"
   ]
  },
  {
   "cell_type": "markdown",
   "id": "e2f8d0ca",
   "metadata": {},
   "source": [
    "## Violin Plot\n",
    "\n",
    "**¿Cuándo usarlo?**  \n",
    "Para ver la distribución completa (densidad) junto con la mediana y los cuartiles.\n",
    "\n",
    "**Ejemplo real:** Comparar la edad de los pasajeros por clase en el Titanic.\n"
   ]
  },
  {
   "cell_type": "code",
   "execution_count": null,
   "id": "544cb2c0",
   "metadata": {},
   "outputs": [
    {
     "ename": "",
     "evalue": "",
     "output_type": "error",
     "traceback": [
      "\u001b[1;31mRunning cells with 'Python 3.12.3' requires the ipykernel package.\n",
      "\u001b[1;31m<a href='command:jupyter.createPythonEnvAndSelectController'>Create a Python Environment</a> with the required packages.\n",
      "\u001b[1;31mOr install 'ipykernel' using the command: '/bin/python3 -m pip install ipykernel -U --user --force-reinstall'"
     ]
    }
   ],
   "source": [
    "plt.figure(figsize=(7,5))\n",
    "sns.violinplot(x='class', y='age', data=titanic)\n",
    "plt.title('Distribución de edad por clase (Violin Plot)')\n",
    "plt.show()"
   ]
  },
  {
   "cell_type": "markdown",
   "id": "f3d8ca18",
   "metadata": {},
   "source": [
    "<details>\n",
    "<summary><b>Interpretación</b></summary>\n",
    "\n",
    "El gráfico muestra cómo se distribuyen las edades de los pasajeros según la clase en la que viajaban.  \n",
    "El ancho de la “viola” indica en qué edades hay más pasajeros.  \n",
    "La línea blanca central es la mediana.  \n",
    "Se observa, por ejemplo, que en tercera clase hay muchos niños y adolescentes, mientras que en primera y segunda clase la mayoría son adultos.\n",
    "\n",
    "</details>\n"
   ]
  },
  {
   "cell_type": "markdown",
   "id": "58686442",
   "metadata": {},
   "source": [
    "## Scatter Plot\n",
    "\n",
    "**¿Cuándo usarlo?**  \n",
    "Para visualizar la relación entre dos variables numéricas (correlación, tendencia, clusters).\n",
    "\n",
    "**Ejemplo real:** Relación entre largo y ancho del sépalo en el dataset Iris.\n"
   ]
  },
  {
   "cell_type": "code",
   "execution_count": null,
   "id": "21478141",
   "metadata": {},
   "outputs": [],
   "source": [
    "from sklearn.datasets import load_iris\n",
    "import pandas as pd\n",
    "\n",
    "iris = load_iris(as_frame=True)\n",
    "df_iris = iris['frame']\n",
    "\n",
    "plt.figure(figsize=(7,5))\n",
    "sns.scatterplot(x='sepal length (cm)', y='sepal width (cm)', hue='target', data=df_iris, palette='Set2')\n",
    "plt.title('Relación entre largo y ancho de sépalo (Iris)')\n",
    "plt.show()"
   ]
  },
  {
   "cell_type": "markdown",
   "id": "b47f9b93",
   "metadata": {},
   "source": [
    "<details>\n",
    "<summary><b>Interpretación</b></summary>\n",
    "\n",
    "Cada punto representa una flor.  \n",
    "Podemos ver si existe alguna relación o patrón entre el largo y el ancho del sépalo.  \n",
    "Además, usando el color, podemos ver si diferentes tipos de flor se agrupan en distintas zonas del gráfico.\n",
    "\n",
    "</details>\n"
   ]
  },
  {
   "cell_type": "markdown",
   "id": "c2ae354c",
   "metadata": {},
   "source": [
    "## Line Plot\n",
    "\n",
    "**¿Cuándo usarlo?**  \n",
    "Para visualizar tendencias a lo largo del tiempo o de una secuencia (series temporales, evolución de métricas).\n",
    "\n",
    "**Ejemplo real:** Evolución del accuracy durante el entrenamiento de un modelo (simulado).\n"
   ]
  },
  {
   "cell_type": "code",
   "execution_count": null,
   "id": "c87dbb2e",
   "metadata": {},
   "outputs": [],
   "source": [
    "import numpy as np\n",
    "\n",
    "epochs = np.arange(1, 21)\n",
    "accuracy = np.random.uniform(0.6, 0.98, size=20)\n",
    "\n",
    "plt.figure(figsize=(7,5))\n",
    "plt.plot(epochs, accuracy, marker='o')\n",
    "plt.title('Curva de accuracy vs. épocas')\n",
    "plt.xlabel('Épocas')\n",
    "plt.ylabel('Accuracy')\n",
    "plt.grid(True)\n",
    "plt.show()"
   ]
  },
  {
   "cell_type": "markdown",
   "id": "3450b964",
   "metadata": {},
   "source": [
    "<details>\n",
    "<summary><b>Interpretación</b></summary>\n",
    "\n",
    "Este gráfico permite ver cómo cambia el accuracy (precisión) a lo largo de las épocas del entrenamiento de un modelo.  \n",
    "La línea muestra si el modelo mejora, empeora o se mantiene estable con cada iteración.\n",
    "\n",
    "</details>\n"
   ]
  },
  {
   "cell_type": "markdown",
   "id": "bceb274b",
   "metadata": {},
   "source": [
    "## Histograma\n",
    "\n",
    "**¿Cuándo usarlo?**  \n",
    "Para ver la distribución (forma, sesgo, outliers) de una variable numérica.\n",
    "\n",
    "**Ejemplo real:** Distribución de edad de los pasajeros del Titanic.\n"
   ]
  },
  {
   "cell_type": "code",
   "execution_count": null,
   "id": "05e43855",
   "metadata": {},
   "outputs": [],
   "source": [
    "plt.figure(figsize=(7,5))\n",
    "sns.histplot(titanic['age'].dropna(), bins=30, kde=True)\n",
    "plt.title('Distribución de edad de pasajeros (Titanic)')\n",
    "plt.xlabel('Edad')\n",
    "plt.ylabel('Frecuencia')\n",
    "plt.show()"
   ]
  },
  {
   "cell_type": "markdown",
   "id": "9285c58a",
   "metadata": {},
   "source": [
    "<details>\n",
    "<summary><b>Interpretación</b></summary>\n",
    "\n",
    "Este gráfico nos permite ver qué edades son las más frecuentes entre los pasajeros del Titanic.  \n",
    "Las barras más altas indican las edades más comunes.  \n",
    "También podemos ver si la mayoría son jóvenes, adultos o ancianos.\n",
    "\n",
    "</details>\n"
   ]
  },
  {
   "cell_type": "markdown",
   "id": "02cb0ef0",
   "metadata": {},
   "source": [
    "## KDE Plot\n",
    "\n",
    "**¿Cuándo usarlo?**  \n",
    "Para ver la distribución suavizada de una variable (ideal para comparar varias).\n",
    "\n",
    "**Ejemplo real:** Distribución de edad según el sexo en el Titanic.\n"
   ]
  },
  {
   "cell_type": "code",
   "execution_count": null,
   "id": "061d0ea1",
   "metadata": {},
   "outputs": [],
   "source": [
    "plt.figure(figsize=(7,5))\n",
    "sns.kdeplot(data=titanic, x='age', hue='sex', fill=True)\n",
    "plt.title('Distribución de edad por sexo (KDE)')\n",
    "plt.show()"
   ]
  },
  {
   "cell_type": "markdown",
   "id": "8acb9b4d",
   "metadata": {},
   "source": [
    "<details>\n",
    "<summary><b>Interpretación</b></summary>\n",
    "\n",
    "El gráfico muestra la forma de la distribución de edades para cada sexo.  \n",
    "Las áreas más altas indican dónde hay más personas.  \n",
    "Comparando los colores, podemos ver si la edad de hombres y mujeres sigue un patrón parecido o diferente.\n",
    "\n",
    "</details>\n"
   ]
  },
  {
   "cell_type": "markdown",
   "id": "8a05b6e5",
   "metadata": {},
   "source": [
    "## Barplot\n",
    "\n",
    "**¿Cuándo usarlo?**  \n",
    "Para comparar frecuencias o medias de variables categóricas.\n",
    "\n",
    "**Ejemplo real:** Número de pasajeros por clase en el Titanic.\n"
   ]
  },
  {
   "cell_type": "code",
   "execution_count": 1,
   "id": "3a493e2f",
   "metadata": {},
   "outputs": [
    {
     "ename": "NameError",
     "evalue": "name 'plt' is not defined",
     "output_type": "error",
     "traceback": [
      "\u001b[31m---------------------------------------------------------------------------\u001b[39m",
      "\u001b[31mNameError\u001b[39m                                 Traceback (most recent call last)",
      "\u001b[36mCell\u001b[39m\u001b[36m \u001b[39m\u001b[32mIn[1]\u001b[39m\u001b[32m, line 1\u001b[39m\n\u001b[32m----> \u001b[39m\u001b[32m1\u001b[39m \u001b[43mplt\u001b[49m.figure(figsize=(\u001b[32m7\u001b[39m,\u001b[32m5\u001b[39m))\n\u001b[32m      2\u001b[39m sns.countplot(x=\u001b[33m'\u001b[39m\u001b[33mclass\u001b[39m\u001b[33m'\u001b[39m, data=titanic)\n\u001b[32m      3\u001b[39m plt.title(\u001b[33m'\u001b[39m\u001b[33mNúmero de pasajeros por clase (Titanic)\u001b[39m\u001b[33m'\u001b[39m)\n",
      "\u001b[31mNameError\u001b[39m: name 'plt' is not defined"
     ]
    }
   ],
   "source": [
    "plt.figure(figsize=(7,5))\n",
    "sns.countplot(x='class', data=titanic)\n",
    "plt.title('Número de pasajeros por clase (Titanic)')\n",
    "plt.xlabel('Clase')\n",
    "plt.ylabel('Cantidad')\n",
    "plt.show()"
   ]
  },
  {
   "cell_type": "markdown",
   "id": "0942de03",
   "metadata": {},
   "source": [
    "<details>\n",
    "<summary><b>Interpretación</b></summary>\n",
    "\n",
    "Podemos ver cuántos pasajeros viajaban en cada clase del Titanic.  \n",
    "Las barras más altas representan la clase con más pasajeros.  \n",
    "Así podemos comparar de forma rápida la cantidad en cada grupo.\n",
    "\n",
    "</details>\n"
   ]
  },
  {
   "cell_type": "markdown",
   "id": "2716bbdd",
   "metadata": {},
   "source": [
    "## Pie Chart\n",
    "\n",
    "**¿Cuándo usarlo?**  \n",
    "Para mostrar proporciones entre pocas categorías.\n",
    "\n",
    "**Ejemplo real:** Proporción de supervivientes en el Titanic.\n"
   ]
  },
  {
   "cell_type": "code",
   "execution_count": null,
   "id": "fd04e52d",
   "metadata": {},
   "outputs": [],
   "source": [
    "survived_counts = titanic['survived'].value_counts()\n",
    "labels = ['No sobrevivió', 'Sobrevivió']\n",
    "\n",
    "plt.figure(figsize=(6,6))\n",
    "plt.pie(survived_counts, labels=labels, autopct='%1.1f%%', startangle=90)\n",
    "plt.title('Supervivientes del Titanic')\n",
    "plt.show()"
   ]
  },
  {
   "cell_type": "markdown",
   "id": "ad54b275",
   "metadata": {},
   "source": [
    "<details>\n",
    "<summary><b>Interpretación</b></summary>\n",
    "\n",
    "El gráfico de pastel nos permite ver rápidamente qué porcentaje de pasajeros sobrevivió y cuál no.  \n",
    "Cada porción muestra la proporción de personas en cada grupo respecto al total.\n",
    "\n",
    "</details>\n"
   ]
  },
  {
   "cell_type": "markdown",
   "id": "c90ed001",
   "metadata": {},
   "source": [
    "## Pairplot\n",
    "\n",
    "**¿Cuándo usarlo?**  \n",
    "Para ver todas las relaciones dos a dos entre variables numéricas.\n",
    "\n",
    "**Ejemplo real:** Variables del dataset Iris.\n"
   ]
  },
  {
   "cell_type": "code",
   "execution_count": null,
   "id": "27273dd4",
   "metadata": {},
   "outputs": [],
   "source": [
    "sns.pairplot(df_iris, hue='target', palette='Set2')\n",
    "plt.suptitle('Pairplot del dataset Iris', y=1.02)\n",
    "plt.show()"
   ]
  },
  {
   "cell_type": "markdown",
   "id": "24a18318",
   "metadata": {},
   "source": [
    "<details>\n",
    "<summary><b>Interpretación</b></summary>\n",
    "\n",
    "Este conjunto de gráficos nos ayuda a explorar todas las combinaciones posibles entre las características numéricas del dataset.  \n",
    "Vemos si existen relaciones o agrupamientos de los distintos tipos de flores según sus medidas.\n",
    "\n",
    "</details>\n"
   ]
  },
  {
   "cell_type": "markdown",
   "id": "6c68d696",
   "metadata": {},
   "source": [
    "## Heatmap\n",
    "\n",
    "**¿Cuándo usarlo?**  \n",
    "Para visualizar matrices de correlación, confusión, etc.\n",
    "\n",
    "**Ejemplo real:** Matriz de correlación en Iris.\n"
   ]
  },
  {
   "cell_type": "code",
   "execution_count": null,
   "id": "2ae98425",
   "metadata": {},
   "outputs": [],
   "source": [
    "corr = df_iris.corr()\n",
    "plt.figure(figsize=(7,5))\n",
    "sns.heatmap(corr, annot=True, cmap='YlGnBu')\n",
    "plt.title('Matriz de correlación (Iris)')\n",
    "plt.show()"
   ]
  },
  {
   "cell_type": "markdown",
   "id": "8649a229",
   "metadata": {},
   "source": [
    "<details>\n",
    "<summary><b>Interpretación</b></summary>\n",
    "\n",
    "El heatmap muestra la relación entre todas las variables numéricas del dataset.  \n",
    "Los valores más cercanos a 1 indican una relación fuerte y positiva, mientras que los cercanos a -1 indican una relación negativa.  \n",
    "Los valores próximos a 0 señalan que no hay relación.\n",
    "\n",
    "</details>\n"
   ]
  },
  {
   "cell_type": "markdown",
   "id": "35b4014b",
   "metadata": {},
   "source": [
    "## Area Plot\n",
    "\n",
    "**¿Cuándo usarlo?**  \n",
    "Para mostrar evolución de valores acumulados o varias series.\n",
    "\n",
    "**Ejemplo real:** Acumulado de ventas mensuales (simulado).\n"
   ]
  },
  {
   "cell_type": "code",
   "execution_count": null,
   "id": "d7e11f08",
   "metadata": {},
   "outputs": [],
   "source": [
    "import pandas as pd\n",
    "np.random.seed(0)\n",
    "months = pd.date_range(start='2022-01-01', periods=12, freq='M')\n",
    "sales = np.random.randint(100, 300, size=12).cumsum()\n",
    "\n",
    "plt.figure(figsize=(7,5))\n",
    "plt.fill_between(months, sales)\n",
    "plt.title('Ventas acumuladas por mes')\n",
    "plt.xlabel('Mes')\n",
    "plt.ylabel('Ventas')\n",
    "plt.show()"
   ]
  },
  {
   "cell_type": "markdown",
   "id": "ba914a63",
   "metadata": {},
   "source": [
    "<details>\n",
    "<summary><b>Interpretación</b></summary>\n",
    "\n",
    "El área bajo la línea muestra cómo han ido creciendo las ventas mes a mes.  \n",
    "Podemos observar de forma clara el total acumulado y si hay algún mes en el que las ventas aumentan más rápidamente.\n",
    "\n",
    "</details>\n"
   ]
  },
  {
   "cell_type": "markdown",
   "id": "affa4fa2",
   "metadata": {},
   "source": [
    "## Resumen rápido\n",
    "\n",
    "| Objetivo                             | Variables                | Gráfico recomendado       |\n",
    "|--------------------------------------|--------------------------|--------------------------|\n",
    "| Comparar medias/distribuciones       | Categórica vs Numérica   | Boxplot, Violin, Barras  |\n",
    "| Relación entre dos numéricas         | Numérica vs Numérica     | Scatter, Line            |\n",
    "| Distribución de una variable         | Numérica                 | Histograma, KDE, Boxplot |\n",
    "| Frecuencia de categorías             | Categórica               | Barplot, Pie             |\n",
    "| Relaciones múltiples                 | Numéricas                | Pairplot, Heatmap        |\n",
    "| Series de tiempo                     | Tiempo vs Numérica       | Line, Area               |\n",
    "| Importancia de variables             | Categórica vs Numérica   | Barplot                  |\n"
   ]
  }
 ],
 "metadata": {
  "kernelspec": {
   "display_name": "Python 3",
   "language": "python",
   "name": "python3"
  },
  "language_info": {
   "codemirror_mode": {
    "name": "ipython",
    "version": 3
   },
   "file_extension": ".py",
   "mimetype": "text/x-python",
   "name": "python",
   "nbconvert_exporter": "python",
   "pygments_lexer": "ipython3",
   "version": "3.12.3"
  }
 },
 "nbformat": 4,
 "nbformat_minor": 5
}
