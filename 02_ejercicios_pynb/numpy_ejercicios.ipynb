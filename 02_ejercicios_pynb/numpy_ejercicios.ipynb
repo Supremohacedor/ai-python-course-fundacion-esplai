{
 "cells": [
  {
   "cell_type": "markdown",
   "id": "c7327e82-fd82-4234-a5ec-2c94292c198f",
   "metadata": {},
   "source": [
    "# Numpy\n"
   ]
  },
  {
   "cell_type": "markdown",
   "id": "1acdb381",
   "metadata": {},
   "source": [
    "**Ejercicio 1:**\n"
   ]
  },
  {
   "cell_type": "markdown",
   "id": "d0c1cfcc-7730-4612-9a49-23f3790b543f",
   "metadata": {},
   "source": [
    "Importar numpy\n"
   ]
  },
  {
   "cell_type": "code",
   "execution_count": 5,
   "id": "fdc297ee-bc0d-42b8-a1cb-c01e45fae36d",
   "metadata": {},
   "outputs": [],
   "source": [
    "import numpy as np"
   ]
  },
  {
   "cell_type": "markdown",
   "id": "67e6f365",
   "metadata": {},
   "source": [
    "Importar pyplot de matplotlib\n"
   ]
  },
  {
   "cell_type": "code",
   "execution_count": 6,
   "id": "a70a8238-60ef-4383-b3da-4714c1074c85",
   "metadata": {},
   "outputs": [],
   "source": [
    "import matplotlib.pyplot as plt"
   ]
  },
  {
   "cell_type": "markdown",
   "id": "6abe2412-1096-42ef-ac26-97d52d483563",
   "metadata": {},
   "source": [
    "**Ejercicio 2:**\n"
   ]
  },
  {
   "cell_type": "code",
   "execution_count": 33,
   "id": "d06d31a3-2aba-4262-ba57-bb8b5989bb0f",
   "metadata": {},
   "outputs": [],
   "source": [
    "lista= [31,28,29,19]"
   ]
  },
  {
   "cell_type": "markdown",
   "id": "a280bead-9a9a-4605-8954-e47d37cac2a6",
   "metadata": {},
   "source": [
    "Crear una ndarray utilizando la lista anterior\n"
   ]
  },
  {
   "cell_type": "code",
   "execution_count": 34,
   "id": "2fc49c07-0660-44da-8fd0-c5f71fbf67d7",
   "metadata": {},
   "outputs": [
    {
     "name": "stdout",
     "output_type": "stream",
     "text": [
      "[31 28 29 19]\n",
      "<class 'numpy.ndarray'>\n"
     ]
    }
   ],
   "source": [
    "array_de_lista = np.array(lista)\n",
    "print(array_de_lista)\n",
    "print(type(array_de_lista))"
   ]
  },
  {
   "cell_type": "markdown",
   "id": "a7f7692d-63e3-4688-bbda-9c5dc9340e0f",
   "metadata": {},
   "source": [
    "**Ejercicio 3:**\n"
   ]
  },
  {
   "cell_type": "code",
   "execution_count": 35,
   "id": "4d0aa5ca-e154-4f9b-9b25-7c7f2695e06b",
   "metadata": {},
   "outputs": [],
   "source": [
    "lista_2d=[[2,3,4],\n",
    "          [3,4,5],\n",
    "          [3,4,5],\n",
    "          [3,4,5]]"
   ]
  },
  {
   "cell_type": "markdown",
   "id": "d7c21cc3-407d-44ef-82a9-82733f2bffee",
   "metadata": {},
   "source": [
    "Crear una ndarray utilizando la lista bidimensional anterior\n"
   ]
  },
  {
   "cell_type": "code",
   "execution_count": 36,
   "id": "3aa7c127-4943-45f2-a5a3-3e9ef4cc7589",
   "metadata": {},
   "outputs": [
    {
     "name": "stdout",
     "output_type": "stream",
     "text": [
      "[[2 3 4]\n",
      " [3 4 5]\n",
      " [3 4 5]\n",
      " [3 4 5]]\n"
     ]
    }
   ],
   "source": [
    "array_lista_2d = np.array(lista_2d)\n",
    "print(array_lista_2d)"
   ]
  },
  {
   "cell_type": "markdown",
   "id": "ef3847b6-eda7-4fd1-b115-3c240a2413a7",
   "metadata": {},
   "source": [
    "**Ejercicio 4:**\n"
   ]
  },
  {
   "cell_type": "markdown",
   "id": "7ebe38ea-eef2-49d6-b15e-a9ecb2a52b2c",
   "metadata": {},
   "source": [
    "Utilizar la propiedad shape para obtener la forma del ndarray anterior\n"
   ]
  },
  {
   "cell_type": "code",
   "execution_count": 37,
   "id": "15be0acf-6149-4104-a361-ac862e9e6620",
   "metadata": {},
   "outputs": [
    {
     "name": "stdout",
     "output_type": "stream",
     "text": [
      "(4, 3)\n"
     ]
    }
   ],
   "source": [
    "print(array_lista_2d.shape)"
   ]
  },
  {
   "cell_type": "markdown",
   "id": "4824638b-96e5-4754-be79-8c823f834420",
   "metadata": {},
   "source": [
    "Utilizar la propiedad ndim para obtener las dimensiones del ndarray anterior\n"
   ]
  },
  {
   "cell_type": "code",
   "execution_count": 38,
   "id": "6c2fad0b-cb86-439e-b4a7-7fd3edbba2c7",
   "metadata": {},
   "outputs": [
    {
     "name": "stdout",
     "output_type": "stream",
     "text": [
      "2\n"
     ]
    }
   ],
   "source": [
    "print(array_lista_2d.ndim)"
   ]
  },
  {
   "cell_type": "markdown",
   "id": "1e434bf5-ec3f-4c86-8e41-09fe3eb736a0",
   "metadata": {},
   "source": [
    "Utilizar la propiedad dtype para obtener el tipo de los datos en el ndarray anterior\n"
   ]
  },
  {
   "cell_type": "code",
   "execution_count": 39,
   "id": "69e66663-e400-4795-9f81-84978b1cad1f",
   "metadata": {},
   "outputs": [
    {
     "name": "stdout",
     "output_type": "stream",
     "text": [
      "int64\n"
     ]
    }
   ],
   "source": [
    "print(array_lista_2d.dtype)"
   ]
  },
  {
   "cell_type": "markdown",
   "id": "184283c0-3789-48fc-bac0-d7cdf275bec4",
   "metadata": {},
   "source": [
    "Utilizar la propiedad size para obtener la cantidad total de datos en el ndarray anterior\n"
   ]
  },
  {
   "cell_type": "code",
   "execution_count": 40,
   "id": "a22fd4c0-43b7-4bee-b34e-99d0599aee2d",
   "metadata": {},
   "outputs": [
    {
     "name": "stdout",
     "output_type": "stream",
     "text": [
      "12\n"
     ]
    }
   ],
   "source": [
    "print(array_lista_2d.size)"
   ]
  },
  {
   "cell_type": "markdown",
   "id": "5dd95a43-7d3d-426a-9bd1-48e1bd3b2da9",
   "metadata": {},
   "source": [
    "**Ejercicio 5:**\n"
   ]
  },
  {
   "cell_type": "markdown",
   "id": "761e91bc-f278-4380-ba5b-d05f9cbdec6f",
   "metadata": {},
   "source": [
    "Crear un ndarray utilizando la lista \"lista_2d\", el tipo de los datos debe ser \"int16\"\n"
   ]
  },
  {
   "cell_type": "code",
   "execution_count": 41,
   "id": "94b41715-3d42-427e-a3fd-240487b0ea90",
   "metadata": {},
   "outputs": [
    {
     "name": "stdout",
     "output_type": "stream",
     "text": [
      "int16\n"
     ]
    }
   ],
   "source": [
    "array_lista_2d_2 = np.array(lista_2d).astype(np.int16)\n",
    "print(array_lista_2d_2.dtype)"
   ]
  },
  {
   "cell_type": "markdown",
   "id": "67a2d007-ddec-41df-8bb2-df4a51420fae",
   "metadata": {},
   "source": [
    "**Ejercicio 6:**\n"
   ]
  },
  {
   "cell_type": "markdown",
   "id": "95aebac0-6ef3-45de-a8a8-be4d7cb71d7c",
   "metadata": {},
   "source": [
    "Utilizar la función np.zeros para crear un ndarray con la forma 3x2. Las matrices vacías se suelen crear para iniciar los valores cuando estamos entrenando una red neuronal\n"
   ]
  },
  {
   "cell_type": "code",
   "execution_count": 42,
   "id": "d2997bc4-ae45-4b4a-aa36-7329dc32b33e",
   "metadata": {},
   "outputs": [
    {
     "name": "stdout",
     "output_type": "stream",
     "text": [
      "[[0. 0.]\n",
      " [0. 0.]\n",
      " [0. 0.]]\n"
     ]
    }
   ],
   "source": [
    "small_array = np.zeros((3, 2))\n",
    "print(small_array)"
   ]
  },
  {
   "cell_type": "markdown",
   "id": "61a92a21-f2ee-4b7d-bea8-24f7bec015c3",
   "metadata": {},
   "source": [
    "Utilizar la función np.ones para crear un ndarray con la forma 3x3\n"
   ]
  },
  {
   "cell_type": "code",
   "execution_count": 43,
   "id": "87db7972-fda2-4858-a456-6670825c6479",
   "metadata": {},
   "outputs": [
    {
     "name": "stdout",
     "output_type": "stream",
     "text": [
      "[[1. 1. 1.]\n",
      " [1. 1. 1.]\n",
      " [1. 1. 1.]]\n"
     ]
    }
   ],
   "source": [
    "medium_array = np.ones((3, 3))\n",
    "print(medium_array)"
   ]
  },
  {
   "cell_type": "markdown",
   "id": "b3956de0-7f1c-4424-9a95-f5c38f4ff01f",
   "metadata": {},
   "source": [
    "Utilizar la función np.empty para crear un ndarray con la forma 2x4\n"
   ]
  },
  {
   "cell_type": "code",
   "execution_count": 44,
   "id": "ea688cdb-6eca-43ed-9415-a11289356396",
   "metadata": {},
   "outputs": [
    {
     "name": "stdout",
     "output_type": "stream",
     "text": [
      "[[4.48908085e-315 0.00000000e+000 0.00000000e+000 0.00000000e+000]\n",
      " [0.00000000e+000 0.00000000e+000 0.00000000e+000 0.00000000e+000]]\n"
     ]
    }
   ],
   "source": [
    "long_array = np.empty((2, 4))\n",
    "print(long_array)"
   ]
  },
  {
   "cell_type": "markdown",
   "id": "d97f5126-5e89-4e84-bff8-8ab2922ebccb",
   "metadata": {},
   "source": [
    "**Ejercicio 7:**\n"
   ]
  },
  {
   "cell_type": "markdown",
   "id": "9b4f9ead-3891-4b57-b174-b601dc0683bf",
   "metadata": {},
   "source": [
    "Crear un ndarray de 1 dimensión con los valores del 0 al 9 (Ej. [1,2,3,...])\n"
   ]
  },
  {
   "cell_type": "code",
   "execution_count": 45,
   "id": "8cdb9077-e8b1-4c35-ad3a-4ec715e79112",
   "metadata": {},
   "outputs": [
    {
     "name": "stdout",
     "output_type": "stream",
     "text": [
      "[ 1  2  3  4  5  6  7  8  9 10]\n"
     ]
    }
   ],
   "source": [
    "dimension1 = np.array([1, 2, 3, 4, 5, 6, 7, 8, 9, 10])\n",
    "print(dimension1)"
   ]
  },
  {
   "cell_type": "markdown",
   "id": "57be4fb9-0969-4a92-a278-387d7595c3fc",
   "metadata": {},
   "source": [
    "Crear un ndarray de 2 dimensión con la forma 2x5,los valores deben ser del 0 al 9 (Ej. [[0,1,2,3,4],[5,6,..]]). Quizás tengas que usar `reshape`, que es importante cuando trabajemos con TensorFlow al usarse mucho para el tema de los ciclos/vueltas de entrenamiento\n"
   ]
  },
  {
   "cell_type": "code",
   "execution_count": 46,
   "id": "79a345a8-b779-415d-b22e-e87d75b1672f",
   "metadata": {},
   "outputs": [
    {
     "name": "stdout",
     "output_type": "stream",
     "text": [
      "[[0 1 2 3 4]\n",
      " [5 6 7 8 9]\n",
      " [0 1 2 3 4]]\n"
     ]
    }
   ],
   "source": [
    "dimension2 = np.array([[0, 1, 2, 3, 4], [5, 6, 7, 8, 9], [0, 1, 2, 3, 4]])\n",
    "print(dimension2)"
   ]
  },
  {
   "cell_type": "markdown",
   "id": "31da554b-5b01-4c72-a240-31daba880c19",
   "metadata": {},
   "source": [
    "**Ejercicio 8:**\n"
   ]
  },
  {
   "cell_type": "markdown",
   "id": "2f5a7f25-48d2-4171-9b5f-3dd956e57e50",
   "metadata": {},
   "source": [
    "Utilizar np.arange para crear un ndarray con los valores del 10 al 20, deben ir de 2 en 2 (Ej. [10,12,..])\n"
   ]
  },
  {
   "cell_type": "code",
   "execution_count": 47,
   "id": "c05f65d7-55df-4bb3-862e-7eab91a3d3d9",
   "metadata": {},
   "outputs": [
    {
     "name": "stdout",
     "output_type": "stream",
     "text": [
      "[10 12 14 16 18]\n"
     ]
    }
   ],
   "source": [
    "array_8 = np.arange(10, 20, 2)\n",
    "print(array_8)"
   ]
  },
  {
   "cell_type": "markdown",
   "id": "a42828a6-38db-46fd-8fa8-301a8838c627",
   "metadata": {},
   "source": [
    "**Ejercicio 9:**\n"
   ]
  },
  {
   "cell_type": "markdown",
   "id": "fd702fb3-3cd9-45d6-8032-57bbec0a51b1",
   "metadata": {},
   "source": [
    "Utilizar np.linspace para crear un ndarray con los valores enteros entre el 10 al 20. Este método será importante a la hora de trabajar con TensorFlow y scikit learn para regresiones lineales\n"
   ]
  },
  {
   "cell_type": "code",
   "execution_count": 49,
   "id": "85cc30af-250f-4ab8-a7cf-eed247a0dea9",
   "metadata": {},
   "outputs": [
    {
     "name": "stdout",
     "output_type": "stream",
     "text": [
      "[10 10 10 10 10 11 11 11 11 11 12 12 12 12 12 13 13 13 13 13 14 14 14 14\n",
      " 14 15 15 15 15 15 16 16 16 16 16 17 17 17 17 17 18 18 18 18 18 19 19 19\n",
      " 19 20]\n"
     ]
    }
   ],
   "source": [
    "array_9 = np.linspace(10, 20, dtype=int)\n",
    "print(array_9)"
   ]
  },
  {
   "cell_type": "markdown",
   "id": "d04b6ccf-5d9b-4769-a3a2-d65d93e644d4",
   "metadata": {},
   "source": [
    "**Ejercicio 10:**\n"
   ]
  },
  {
   "cell_type": "markdown",
   "id": "a5624bd4-06c2-4959-8e10-d1b8e0227705",
   "metadata": {},
   "source": [
    "Utilizar np.linspace para crear un ndarray con 100 números entre el 0 y 2 $\\pi$\n"
   ]
  },
  {
   "cell_type": "code",
   "execution_count": 87,
   "id": "aa9439dc-b364-465c-b260-ca47fd9fcec4",
   "metadata": {},
   "outputs": [
    {
     "name": "stdout",
     "output_type": "stream",
     "text": [
      "[0.         0.06346652 0.12693304 0.19039955 0.25386607 0.31733259\n",
      " 0.38079911 0.44426563 0.50773215 0.57119866 0.63466518 0.6981317\n",
      " 0.76159822 0.82506474 0.88853126 0.95199777 1.01546429 1.07893081\n",
      " 1.14239733 1.20586385 1.26933037 1.33279688 1.3962634  1.45972992\n",
      " 1.52319644 1.58666296 1.65012947 1.71359599 1.77706251 1.84052903\n",
      " 1.90399555 1.96746207 2.03092858 2.0943951  2.15786162 2.22132814\n",
      " 2.28479466 2.34826118 2.41172769 2.47519421 2.53866073 2.60212725\n",
      " 2.66559377 2.72906028 2.7925268  2.85599332 2.91945984 2.98292636\n",
      " 3.04639288 3.10985939 3.17332591 3.23679243 3.30025895 3.36372547\n",
      " 3.42719199 3.4906585  3.55412502 3.61759154 3.68105806 3.74452458\n",
      " 3.8079911  3.87145761 3.93492413 3.99839065 4.06185717 4.12532369\n",
      " 4.1887902  4.25225672 4.31572324 4.37918976 4.44265628 4.5061228\n",
      " 4.56958931 4.63305583 4.69652235 4.75998887 4.82345539 4.88692191\n",
      " 4.95038842 5.01385494 5.07732146 5.14078798 5.2042545  5.26772102\n",
      " 5.33118753 5.39465405 5.45812057 5.52158709 5.58505361 5.64852012\n",
      " 5.71198664 5.77545316 5.83891968 5.9023862  5.96585272 6.02931923\n",
      " 6.09278575 6.15625227 6.21971879 6.28318531]\n"
     ]
    }
   ],
   "source": [
    "array_10 = np.linspace(0, 2 * (np.pi), 100)\n",
    "print(array_10)"
   ]
  },
  {
   "cell_type": "markdown",
   "id": "22b71ecd-a48f-47a5-8fb3-c53384a557b6",
   "metadata": {},
   "source": [
    "Utilizar np.sin y np.cos para obtener los valores de seno y coseno en los puntos del array anterior\n"
   ]
  },
  {
   "cell_type": "code",
   "execution_count": 88,
   "id": "691abc23-2c53-4e71-8feb-899e067166d9",
   "metadata": {},
   "outputs": [
    {
     "name": "stdout",
     "output_type": "stream",
     "text": [
      "[ 0.00000000e+00  6.34239197e-02  1.26592454e-01  1.89251244e-01\n",
      "  2.51147987e-01  3.12033446e-01  3.71662456e-01  4.29794912e-01\n",
      "  4.86196736e-01  5.40640817e-01  5.92907929e-01  6.42787610e-01\n",
      "  6.90079011e-01  7.34591709e-01  7.76146464e-01  8.14575952e-01\n",
      "  8.49725430e-01  8.81453363e-01  9.09631995e-01  9.34147860e-01\n",
      "  9.54902241e-01  9.71811568e-01  9.84807753e-01  9.93838464e-01\n",
      "  9.98867339e-01  9.99874128e-01  9.96854776e-01  9.89821442e-01\n",
      "  9.78802446e-01  9.63842159e-01  9.45000819e-01  9.22354294e-01\n",
      "  8.95993774e-01  8.66025404e-01  8.32569855e-01  7.95761841e-01\n",
      "  7.55749574e-01  7.12694171e-01  6.66769001e-01  6.18158986e-01\n",
      "  5.67059864e-01  5.13677392e-01  4.58226522e-01  4.00930535e-01\n",
      "  3.42020143e-01  2.81732557e-01  2.20310533e-01  1.58001396e-01\n",
      "  9.50560433e-02  3.17279335e-02 -3.17279335e-02 -9.50560433e-02\n",
      " -1.58001396e-01 -2.20310533e-01 -2.81732557e-01 -3.42020143e-01\n",
      " -4.00930535e-01 -4.58226522e-01 -5.13677392e-01 -5.67059864e-01\n",
      " -6.18158986e-01 -6.66769001e-01 -7.12694171e-01 -7.55749574e-01\n",
      " -7.95761841e-01 -8.32569855e-01 -8.66025404e-01 -8.95993774e-01\n",
      " -9.22354294e-01 -9.45000819e-01 -9.63842159e-01 -9.78802446e-01\n",
      " -9.89821442e-01 -9.96854776e-01 -9.99874128e-01 -9.98867339e-01\n",
      " -9.93838464e-01 -9.84807753e-01 -9.71811568e-01 -9.54902241e-01\n",
      " -9.34147860e-01 -9.09631995e-01 -8.81453363e-01 -8.49725430e-01\n",
      " -8.14575952e-01 -7.76146464e-01 -7.34591709e-01 -6.90079011e-01\n",
      " -6.42787610e-01 -5.92907929e-01 -5.40640817e-01 -4.86196736e-01\n",
      " -4.29794912e-01 -3.71662456e-01 -3.12033446e-01 -2.51147987e-01\n",
      " -1.89251244e-01 -1.26592454e-01 -6.34239197e-02 -2.44929360e-16]\n",
      "[ 1.          0.99798668  0.99195481  0.9819287   0.9679487   0.95007112\n",
      "  0.92836793  0.90292654  0.87384938  0.84125353  0.80527026  0.76604444\n",
      "  0.72373404  0.67850941  0.63055267  0.58005691  0.52722547  0.47227107\n",
      "  0.41541501  0.35688622  0.29692038  0.23575894  0.17364818  0.1108382\n",
      "  0.04758192 -0.01586596 -0.07924996 -0.14231484 -0.20480667 -0.26647381\n",
      " -0.32706796 -0.38634513 -0.44406661 -0.5        -0.55392006 -0.60560969\n",
      " -0.65486073 -0.70147489 -0.74526445 -0.78605309 -0.82367658 -0.85798341\n",
      " -0.88883545 -0.91610846 -0.93969262 -0.95949297 -0.97542979 -0.98743889\n",
      " -0.99547192 -0.99949654 -0.99949654 -0.99547192 -0.98743889 -0.97542979\n",
      " -0.95949297 -0.93969262 -0.91610846 -0.88883545 -0.85798341 -0.82367658\n",
      " -0.78605309 -0.74526445 -0.70147489 -0.65486073 -0.60560969 -0.55392006\n",
      " -0.5        -0.44406661 -0.38634513 -0.32706796 -0.26647381 -0.20480667\n",
      " -0.14231484 -0.07924996 -0.01586596  0.04758192  0.1108382   0.17364818\n",
      "  0.23575894  0.29692038  0.35688622  0.41541501  0.47227107  0.52722547\n",
      "  0.58005691  0.63055267  0.67850941  0.72373404  0.76604444  0.80527026\n",
      "  0.84125353  0.87384938  0.90292654  0.92836793  0.95007112  0.9679487\n",
      "  0.9819287   0.99195481  0.99798668  1.        ]\n"
     ]
    }
   ],
   "source": [
    "seno = np.sin(array_10)\n",
    "coseno = np.cos(array_10)\n",
    "\n",
    "print(seno)\n",
    "print(coseno)"
   ]
  },
  {
   "cell_type": "markdown",
   "id": "bc933a1f-5f84-4e0e-bfa9-13d682e74779",
   "metadata": {},
   "source": [
    "Utilizar plt.plot para graficar un círculo con los datos de seno y coseno\n"
   ]
  },
  {
   "cell_type": "code",
   "execution_count": 89,
   "id": "67c506aa-ba33-4658-ab11-295539ffdad2",
   "metadata": {},
   "outputs": [
    {
     "name": "stdout",
     "output_type": "stream",
     "text": [
      "[<matplotlib.lines.Line2D object at 0x7636bfe00bc0>]\n"
     ]
    },
    {
     "data": {
      "image/png": "[encoded data removed]",
      "text/plain": [
       "<Figure size 640x480 with 1 Axes>"
      ]
     },
     "metadata": {},
     "output_type": "display_data"
    }
   ],
   "source": [
    "circulo = plt.plot(seno, coseno)\n",
    "print(circulo)"
   ]
  },
  {
   "cell_type": "markdown",
   "id": "155bbcd6-88d5-4cdc-9a05-c50f26f5187f",
   "metadata": {},
   "source": [
    "**Ejercicio 11:**\n"
   ]
  },
  {
   "cell_type": "markdown",
   "id": "c0b81a7c-aa51-4400-9527-130a5bbcc8d5",
   "metadata": {},
   "source": [
    "Utilizar plt.plot para graficar los valores de seno y coseno por separado\n"
   ]
  },
  {
   "cell_type": "code",
   "execution_count": 68,
   "id": "6e91a06c-c9ec-4600-a220-1c3e75668def",
   "metadata": {},
   "outputs": [
    {
     "name": "stdout",
     "output_type": "stream",
     "text": [
      "[<matplotlib.lines.Line2D object at 0x7636bdd9e210>]\n",
      "[<matplotlib.lines.Line2D object at 0x7636bdd9e4e0>]\n"
     ]
    },
    {
     "data": {
      "image/png": "[encoded data removed]",
      "text/plain": [
       "<Figure size 640x480 with 1 Axes>"
      ]
     },
     "metadata": {},
     "output_type": "display_data"
    }
   ],
   "source": [
    "seno_valor = plt.plot(seno)\n",
    "coseno_valor = plt.plot(coseno)\n",
    "\n",
    "print(seno_valor)\n",
    "print(coseno_valor)"
   ]
  },
  {
   "cell_type": "markdown",
   "id": "8bd317ad-9cae-4dff-a928-726ebda177bf",
   "metadata": {},
   "source": [
    "**Ejercicio 12:**\n"
   ]
  },
  {
   "cell_type": "code",
   "execution_count": null,
   "id": "e3319954-862f-4bdf-998e-d5f24781a40d",
   "metadata": {},
   "outputs": [
    {
     "name": "stdout",
     "output_type": "stream",
     "text": [
      "[10. 12. 14. 16. 18. 20.] [ 5.  9. 13. 17. 21. 25.]\n"
     ]
    }
   ],
   "source": [
    "a = np.linspace(10,20,6)\n",
    "b = np.linspace(5,25,6)\n",
    "print(a,b)"
   ]
  },
  {
   "cell_type": "markdown",
   "id": "03a56414-a7b0-4dff-a351-11af200156ee",
   "metadata": {},
   "source": [
    "Sumar los valores de los ndarray \"a\" y \"b\"\n"
   ]
  },
  {
   "cell_type": "code",
   "execution_count": 64,
   "id": "98e5e936-d60c-4d71-a750-2f9a2f8d21bf",
   "metadata": {},
   "outputs": [
    {
     "name": "stdout",
     "output_type": "stream",
     "text": [
      "[15. 21. 27. 33. 39. 45.]\n"
     ]
    }
   ],
   "source": [
    "print(a + b)"
   ]
  },
  {
   "cell_type": "markdown",
   "id": "fc20ad08-c098-4593-8b9c-dbcd87937c56",
   "metadata": {},
   "source": [
    "Unir los ndarray \"a\" y \"b\", guardarlo en la variable c\n"
   ]
  },
  {
   "cell_type": "code",
   "execution_count": 70,
   "id": "eac3bddb-1e5e-4357-9bc6-61637c2c6d26",
   "metadata": {},
   "outputs": [
    {
     "name": "stdout",
     "output_type": "stream",
     "text": [
      "[10. 12. 14. 16. 18. 20.  5.  9. 13. 17. 21. 25.]\n"
     ]
    }
   ],
   "source": [
    "c = np.concatenate((a, b))\n",
    "print(c)"
   ]
  },
  {
   "cell_type": "markdown",
   "id": "378dd0d9-1363-4dfb-ba87-674921eb979e",
   "metadata": {},
   "source": [
    "Ordenar los valores del ndarray c\n"
   ]
  },
  {
   "cell_type": "code",
   "execution_count": 71,
   "id": "5dc18067-228d-4596-b481-32f2bfd1c21e",
   "metadata": {},
   "outputs": [
    {
     "name": "stdout",
     "output_type": "stream",
     "text": [
      "[ 5.  9. 10. 12. 13. 14. 16. 17. 18. 20. 21. 25.]\n"
     ]
    }
   ],
   "source": [
    "c = np.sort(c)\n",
    "print(c)"
   ]
  },
  {
   "cell_type": "markdown",
   "id": "7b311d70-aedb-42c5-a1d6-690d0a9919b3",
   "metadata": {},
   "source": [
    "**Ejercicio 13:**\n"
   ]
  },
  {
   "cell_type": "markdown",
   "id": "4965dab5-9b59-40b7-8246-4cf089550b74",
   "metadata": {},
   "source": [
    "Utilizar rg.random para generar un ndarray de 1000 números aleatorios entre el 0 y 1. La librería numpy tiene un módulo random con una función `default_rng` a la que hay que indicarle cuál es la semilla; por ejemplo, puedes usar el número 2\n"
   ]
  },
  {
   "cell_type": "code",
   "execution_count": 7,
   "id": "336bd3a7-b45d-4a1e-bcce-74910ec6b328",
   "metadata": {},
   "outputs": [],
   "source": [
    "rg = np.random.default_rng(seed=2)"
   ]
  },
  {
   "cell_type": "code",
   "execution_count": 86,
   "id": "b91eda2e-1ae1-44fe-845d-f38fa71da28e",
   "metadata": {},
   "outputs": [
    {
     "name": "stdout",
     "output_type": "stream",
     "text": [
      "[1 0 0 0 0 1 0 0 0 1 1 1 1 0 1 0 1 0 0 1 0 1 0 0 1 0 1 1 1 0 0 1 1 1 1 1 0\n",
      " 0 0 0 0 0 1 1 1 1 1 1 1 0 1 1 0 0 1 1 1 0 0 0 1 0 0 1 1 1 0 1 1 1 0 0 1 1\n",
      " 1 1 0 1 0 0 0 1 0 1 0 1 0 0 0 1 1 0 1 1 0 0 0 0 1 0 1 1 1 0 0 1 0 1 0 0 1\n",
      " 1 1 1 0 1 1 0 0 0 1 0 0 0 1 1 0 0 0 0 1 1 0 0 0 0 1 0 1 1 1 1 0 1 1 1 0 1\n",
      " 1 1 0 1 1 1 1 0 0 1 1 1 0 0 1 0 0 1 0 1 0 0 0 0 0 0 1 1 1 0 1 0 1 1 0 0 0\n",
      " 0 0 0 1 0 1 0 1 1 1 0 1 0 1 0 1 0 1 0 0 1 0 0 1 1 0 1 0 0 1 0 1 1 1 1 1 0\n",
      " 1 0 0 0 0 1 1 1 1 1 0 1 0 0 1 1 1 1 1 0 0 0 0 1 0 0 1 0 1 1 1 1 1 1 1 1 0\n",
      " 0 1 1 0 1 0 1 1 0 0 1 1 1 0 1 1 0 0 1 1 0 1 0 1 0 0 1 1 1 0 0 0 0 0 0 1 1\n",
      " 1 0 0 1 0 1 1 0 0 1 1 0 0 1 1 0 1 0 1 1 1 1 0 1 0 1 1 0 1 0 1 0 0 1 0 1 1\n",
      " 1 0 1 0 1 1 0 0 0 1 0 0 0 1 1 0 1 0 0 0 1 1 1 0 0 1 1 0 1 0 1 1 0 0 0 0 0\n",
      " 1 1 0 1 1 0 1 1 1 1 1 1 1 0 0 1 0 0 1 0 0 1 1 0 1 1 1 0 0 0 0 1 1 0 1 0 1\n",
      " 0 1 0 0 0 0 0 1 1 1 1 1 0 0 1 0 0 0 1 1 1 1 0 0 0 0 1 0 1 0 0 0 0 1 0 0 1\n",
      " 1 1 1 1 1 1 0 0 1 1 1 0 0 0 0 0 0 0 0 0 1 0 0 0 1 0 1 1 0 0 0 0 1 1 1 0 1\n",
      " 1 1 1 0 0 1 1 0 0 0 1 1 1 1 0 1 0 1 0 1 0 1 0 1 1 0 0 1 0 1 0 0 0 0 1 1 0\n",
      " 1 0 0 0 0 0 1 1 1 0 1 0 0 0 1 1 1 0 0 1 0 0 0 0 0 0 0 1 0 1 1 0 0 1 0 0 0\n",
      " 1 0 0 0 0 0 0 0 1 0 0 1 1 1 0 0 0 0 0 1 1 0 0 0 0 0 0 1 0 0 1 1 0 0 0 1 0\n",
      " 0 0 0 0 0 1 0 1 0 0 0 0 1 1 1 1 1 1 1 1 1 0 0 1 1 1 0 0 1 0 0 1 1 1 1 1 1\n",
      " 0 0 1 1 1 1 0 0 1 0 1 1 1 0 0 0 0 0 0 1 0 0 0 1 1 0 1 1 1 1 1 0 1 0 0 1 1\n",
      " 1 0 1 1 1 0 0 0 0 1 1 0 0 1 0 0 1 1 0 0 1 1 0 1 1 0 1 1 0 0 0 0 0 0 1 1 1\n",
      " 0 0 0 1 1 0 1 1 0 1 0 1 1 1 0 1 0 1 1 1 0 0 1 1 1 0 1 0 1 1 1 1 1 0 1 1 0\n",
      " 1 0 1 1 1 0 0 0 0 1 1 1 0 1 1 1 1 0 0 1 0 1 0 1 0 0 1 0 0 0 0 1 0 0 0 0 1\n",
      " 1 0 0 0 1 1 1 1 1 1 0 1 1 1 0 1 1 0 0 1 1 1 0 0 1 1 1 1 1 0 0 1 1 0 1 0 1\n",
      " 0 0 1 0 1 0 0 1 1 0 0 0 1 1 0 1 1 0 0 1 1 0 1 0 0 0 0 0 1 0 0 0 1 1 0 1 0\n",
      " 0 0 0 1 1 1 0 1 0 1 0 1 1 0 1 1 1 1 0 0 1 1 1 1 1 1 1 0 0 1 0 1 1 0 0 1 0\n",
      " 0 0 1 0 0 0 0 1 0 0 0 1 1 1 0 0 1 0 0 1 0 1 0 0 0 1 1 0 0 0 0 1 1 1 0 1 0\n",
      " 1 0 0 0 1 0 0 1 1 0 0 0 1 0 1 0 0 0 0 1 1 0 1 0 0 1 1 1 0 1 1 1 0 0 0 0 1\n",
      " 1 1 1 1 1 1 0 1 0 1 0 0 1 1 1 0 1 1 1 0 1 1 1 0 0 1 0 1 0 1 0 0 0 1 1 0 1\n",
      " 0]\n"
     ]
    }
   ],
   "source": [
    "huge_array = rg.integers(low=0, high=2, size=1000)\n",
    "\n",
    "print(huge_array)"
   ]
  },
  {
   "cell_type": "markdown",
   "id": "5d8e1328",
   "metadata": {},
   "source": [
    "Dibuja el histograma de los datos. Un histograma es una representación gráfica de la distribución de un conjunto de datos numéricos, dividiendo los valores en intervalos (bins) y contando la frecuencia de los valores en cada intervalo. Usa un bins de 100\n"
   ]
  },
  {
   "cell_type": "code",
   "execution_count": 121,
   "id": "ef9d7a03",
   "metadata": {},
   "outputs": [
    {
     "name": "stdout",
     "output_type": "stream",
     "text": [
      "Text(0.5, 1.0, 'Histograma')\n"
     ]
    },
    {
     "data": {
      "image/png": "[encoded data removed]",
      "text/plain": [
       "<Figure size 640x480 with 1 Axes>"
      ]
     },
     "metadata": {},
     "output_type": "display_data"
    }
   ],
   "source": [
    "hist = plt.hist(huge_array, bins=100)\n",
    "hist = plt.title(\"Histograma\")\n",
    "print(hist)"
   ]
  },
  {
   "cell_type": "markdown",
   "id": "93474f2c-03ed-4c5e-8eaf-58503cf1476e",
   "metadata": {},
   "source": [
    "**Ejercicio 14:**\n"
   ]
  },
  {
   "cell_type": "markdown",
   "id": "ce6d972e-370e-4c20-aa5f-da7842f765a9",
   "metadata": {},
   "source": [
    "Utilizar rg.normal para generar 100000 valores aleatorios que sigan una distribución normal. Haz que tenga una media de 10 y una desviación de estándar de 5\n"
   ]
  },
  {
   "cell_type": "code",
   "execution_count": 96,
   "id": "f6cd3814-1cf1-47cf-98be-2dac3bcd3573",
   "metadata": {},
   "outputs": [
    {
     "name": "stdout",
     "output_type": "stream",
     "text": [
      "[ 8.18194911  3.78830617 13.13173576 ...  9.8315973   4.00760358\n",
      " 13.44597535]\n"
     ]
    }
   ],
   "source": [
    "ejer14 = rg.normal(10, 5, size=10000)\n",
    "\n",
    "print(ejer14)"
   ]
  },
  {
   "cell_type": "markdown",
   "id": "a7aeac96",
   "metadata": {},
   "source": [
    "Dibuja el histograma con un bins de 1000 y verás la forma que tienen las distribuciones normales\n"
   ]
  },
  {
   "cell_type": "code",
   "execution_count": 97,
   "id": "6aefe781-fce0-475e-b583-09642e942696",
   "metadata": {},
   "outputs": [
    {
     "name": "stdout",
     "output_type": "stream",
     "text": [
      "Text(0.5, 1.0, 'Histograma')\n"
     ]
    },
    {
     "data": {
      "image/png": "[encoded data removed]",
      "text/plain": [
       "<Figure size 640x480 with 1 Axes>"
      ]
     },
     "metadata": {},
     "output_type": "display_data"
    }
   ],
   "source": [
    "hist2 = plt.hist(ejer14, bins=1000)\n",
    "hist2 = plt.title(\"Histograma\")\n",
    "print(hist2)"
   ]
  },
  {
   "cell_type": "markdown",
   "id": "1159dfcb-d59b-48f4-89b6-a1b5778595a0",
   "metadata": {},
   "source": [
    "**Ejercicio 15:**\n"
   ]
  },
  {
   "cell_type": "markdown",
   "id": "55d97f65-d5b4-4a8d-90c9-d6ef6759c209",
   "metadata": {},
   "source": [
    "Utilizar rg.integers para generar 2000 números aleatorios enteros entre el 0 y el 19. Utiliza la segunda celda para pintar el histograma\n"
   ]
  },
  {
   "cell_type": "code",
   "execution_count": 98,
   "id": "545685a7-641e-412c-a0e4-568654ce2220",
   "metadata": {},
   "outputs": [
    {
     "name": "stdout",
     "output_type": "stream",
     "text": [
      "[15 17  0 ... 17  0 11]\n"
     ]
    }
   ],
   "source": [
    "ejer15 = rg.integers(low=0, high=20, size=2000)\n",
    "\n",
    "print(ejer15)"
   ]
  },
  {
   "cell_type": "code",
   "execution_count": 107,
   "id": "87b4f720-2e82-41ae-85e6-2ca3e70eeecd",
   "metadata": {},
   "outputs": [
    {
     "name": "stdout",
     "output_type": "stream",
     "text": [
      "Text(0.5, 1.0, 'Histograma')\n"
     ]
    },
    {
     "data": {
      "image/png": "[encoded data removed]",
      "text/plain": [
       "<Figure size 640x480 with 1 Axes>"
      ]
     },
     "metadata": {},
     "output_type": "display_data"
    }
   ],
   "source": [
    "hist15 = plt.hist(ejer15, bins=80)\n",
    "hist15 = plt.title(\"Histograma\")\n",
    "print(hist15)"
   ]
  },
  {
   "cell_type": "code",
   "execution_count": null,
   "id": "8fd03ef3-875a-44ba-914c-26e57cd4dcba",
   "metadata": {},
   "outputs": [],
   "source": [
    "#np.unique(enteros, return_counts=True) Comprobar que los valores son muy similares"
   ]
  },
  {
   "cell_type": "markdown",
   "id": "3324d3f5-a77a-42c0-ba7e-25313e43bb58",
   "metadata": {},
   "source": [
    "**Ejercicio 16:**\n"
   ]
  },
  {
   "cell_type": "markdown",
   "id": "d907b4dc-301e-4b21-bde5-4dd96fdcd076",
   "metadata": {},
   "source": [
    "Utilizar rg.choice para elegir 10 números aleatorios SIN REPETIR entre el 0 y el 25\n"
   ]
  },
  {
   "cell_type": "code",
   "execution_count": 116,
   "id": "7ec02ffd-eef3-4e3e-b2e9-59450b94d3bd",
   "metadata": {},
   "outputs": [
    {
     "name": "stdout",
     "output_type": "stream",
     "text": [
      "[ 9 20  2 12 10 13 11  7  4 14]\n"
     ]
    }
   ],
   "source": [
    "exer16 = rg.choice(25, 10, replace=False)\n",
    "print(exer16)"
   ]
  },
  {
   "cell_type": "markdown",
   "id": "385775b3-86a0-4715-908b-dfa75dca95f2",
   "metadata": {},
   "source": [
    "**Ejercicio 17:**\n"
   ]
  },
  {
   "cell_type": "code",
   "execution_count": 117,
   "id": "76b0c5a0-5b28-48fe-9485-baad8cf663c6",
   "metadata": {},
   "outputs": [
    {
     "data": {
      "text/plain": [
       "array([ 0, 12, 18,  4,  6,  3, 11,  8])"
      ]
     },
     "execution_count": 117,
     "metadata": {},
     "output_type": "execute_result"
    }
   ],
   "source": [
    "estadisticos = rg.integers(20,size=8)\n",
    "estadisticos"
   ]
  },
  {
   "cell_type": "markdown",
   "id": "012b5e04-220e-433c-b0ec-b21aa9d326cf",
   "metadata": {},
   "source": [
    "Utilizar la función min() para obtener el valor mínimo en el ndarray \"estadisticos\"\n"
   ]
  },
  {
   "cell_type": "code",
   "execution_count": 122,
   "id": "e4a38410-43ac-4c7c-92bd-c3d65c0b5432",
   "metadata": {},
   "outputs": [
    {
     "name": "stdout",
     "output_type": "stream",
     "text": [
      "0\n"
     ]
    }
   ],
   "source": [
    "min_value = np.min(estadisticos)\n",
    "print(min_value)"
   ]
  },
  {
   "cell_type": "markdown",
   "id": "117dddae-3654-43cf-9e8d-54e783a674cb",
   "metadata": {},
   "source": [
    "Utilizar la función max() para obtener el valor máximo en el ndarray \"estadisticos\"\n"
   ]
  },
  {
   "cell_type": "code",
   "execution_count": 123,
   "id": "abaf6bb5-c24d-4607-b7e2-f6fafde47d97",
   "metadata": {},
   "outputs": [
    {
     "name": "stdout",
     "output_type": "stream",
     "text": [
      "18\n"
     ]
    }
   ],
   "source": [
    "max_value = np.max(estadisticos)\n",
    "print(max_value)"
   ]
  },
  {
   "cell_type": "markdown",
   "id": "fd88688f-2bc0-4c5d-bcd2-af6fe9e99411",
   "metadata": {},
   "source": [
    "Utilizar la función mean() para obtener el valor promedio en el ndarray \"estadisticos\"\n"
   ]
  },
  {
   "cell_type": "code",
   "execution_count": 124,
   "id": "3b38b3b3-2245-4731-af11-7e19474af1cc",
   "metadata": {},
   "outputs": [
    {
     "name": "stdout",
     "output_type": "stream",
     "text": [
      "7.75\n"
     ]
    }
   ],
   "source": [
    "mean_value = np.mean(estadisticos)\n",
    "print(mean_value)"
   ]
  },
  {
   "cell_type": "markdown",
   "id": "e0ef2fef-cad0-4579-a8ce-b298b42fb330",
   "metadata": {},
   "source": [
    "Utilizar la función std() para obtener el valor de la desviación estandar en el ndarray \"estadisticos\"\n"
   ]
  },
  {
   "cell_type": "code",
   "execution_count": 125,
   "id": "77c908c4-d007-4baa-801a-314aab7b2369",
   "metadata": {},
   "outputs": [
    {
     "name": "stdout",
     "output_type": "stream",
     "text": [
      "5.402545696243577\n"
     ]
    }
   ],
   "source": [
    "standard_deviation = np.std(estadisticos)\n",
    "print(standard_deviation)"
   ]
  },
  {
   "cell_type": "markdown",
   "id": "979aded7-3aa6-4248-b2f6-ea271c5f6e79",
   "metadata": {},
   "source": [
    "Utilizar la función sum() para obtener el valor al sumar todos los números en el ndarray \"estadisticos\"\n"
   ]
  },
  {
   "cell_type": "code",
   "execution_count": 126,
   "id": "ee48bd78-1b9b-4c32-b270-62f6f20a1c63",
   "metadata": {},
   "outputs": [
    {
     "name": "stdout",
     "output_type": "stream",
     "text": [
      "62\n"
     ]
    }
   ],
   "source": [
    "total_value = np.sum(estadisticos)\n",
    "print(total_value)"
   ]
  },
  {
   "cell_type": "markdown",
   "id": "b8a7f523-541e-4ffc-9090-f6a18f852ef2",
   "metadata": {},
   "source": [
    "**Ejercicio 18:**\n"
   ]
  },
  {
   "cell_type": "code",
   "execution_count": 127,
   "id": "acb73618-214c-4fcb-b022-1a97e618f4b1",
   "metadata": {},
   "outputs": [
    {
     "data": {
      "text/plain": [
       "array([[ 1,  5,  3,  9],\n",
       "       [ 9,  6,  4,  1],\n",
       "       [12, 19,  0, 11],\n",
       "       [ 7,  8,  0,  6],\n",
       "       [16, 12,  5, 16]])"
      ]
     },
     "execution_count": 127,
     "metadata": {},
     "output_type": "execute_result"
    }
   ],
   "source": [
    "estadisticos_2d = rg.integers(20,size=(5,4))\n",
    "estadisticos_2d"
   ]
  },
  {
   "cell_type": "markdown",
   "id": "88696800-dfdf-4b5f-bf3b-8412b1a84e19",
   "metadata": {},
   "source": [
    "Utilizar la función min() para obtener el valor mínimo de cada columna en el ndarray \"estadisticos_2d\"\n"
   ]
  },
  {
   "cell_type": "code",
   "execution_count": 130,
   "id": "fdc54d32-3db7-4e6c-a9ef-b87680bcc1fd",
   "metadata": {},
   "outputs": [
    {
     "name": "stdout",
     "output_type": "stream",
     "text": [
      "[1 5 0 1]\n"
     ]
    }
   ],
   "source": [
    "column_min_value = np.min(estadisticos_2d, axis=0)\n",
    "print(column_min_value)"
   ]
  },
  {
   "cell_type": "markdown",
   "id": "7e18ef29-8d28-41ee-b42a-c5788b7179a5",
   "metadata": {},
   "source": [
    "Utilizar la función max() para obtener el valor mínimo de cada fila en el ndarray \"estadisticos_2d\"\n"
   ]
  },
  {
   "cell_type": "code",
   "execution_count": 132,
   "id": "86f54bac-4399-46d6-8a11-866cab776aa0",
   "metadata": {},
   "outputs": [
    {
     "name": "stdout",
     "output_type": "stream",
     "text": [
      "[1 1 0 0 5]\n"
     ]
    }
   ],
   "source": [
    "row_min_value = np.min(estadisticos_2d, axis=1)\n",
    "print(row_min_value)"
   ]
  },
  {
   "cell_type": "markdown",
   "id": "e1fa802b-7974-471d-a02a-7e17a6ab7ae4",
   "metadata": {},
   "source": [
    "**Ejercicio 19:**\n"
   ]
  },
  {
   "cell_type": "code",
   "execution_count": 133,
   "id": "ae7128dd-fdb9-49e7-a68f-b89aa5e7eb6d",
   "metadata": {},
   "outputs": [
    {
     "data": {
      "text/plain": [
       "array([[ 1,  5,  3,  9],\n",
       "       [ 9,  6,  4,  1],\n",
       "       [12, 19,  0, 11],\n",
       "       [ 7,  8,  0,  6],\n",
       "       [16, 12,  5, 16]])"
      ]
     },
     "execution_count": 133,
     "metadata": {},
     "output_type": "execute_result"
    }
   ],
   "source": [
    "estadisticos_2d"
   ]
  },
  {
   "cell_type": "markdown",
   "id": "28e17497-4e11-4fad-9cf5-727078caf77e",
   "metadata": {},
   "source": [
    "Obtener los valores menores a 12 en el ndarray \"estadisticos_2d\"\n"
   ]
  },
  {
   "cell_type": "code",
   "execution_count": 142,
   "id": "65137100-5cbc-4047-b8c7-bc9d20e0e3ca",
   "metadata": {},
   "outputs": [
    {
     "name": "stdout",
     "output_type": "stream",
     "text": [
      "[ 1  5  3  9  9  6  4  1  0 11  7  8  0  6  5]\n"
     ]
    }
   ],
   "source": [
    "print(estadisticos_2d[estadisticos_2d < 12])"
   ]
  },
  {
   "cell_type": "code",
   "execution_count": null,
   "id": "5ff3cdc3-7b84-424f-8b1f-b7d9a8851d03",
   "metadata": {},
   "outputs": [],
   "source": []
  },
  {
   "cell_type": "markdown",
   "id": "a6008ae4-8a10-4ff4-92f1-1f82b82c8b5a",
   "metadata": {},
   "source": [
    "**Ejercicio 20:**\n"
   ]
  },
  {
   "cell_type": "code",
   "execution_count": 145,
   "id": "25fdd4ed-5a3f-4a3b-8a08-486776700b92",
   "metadata": {},
   "outputs": [
    {
     "name": "stdout",
     "output_type": "stream",
     "text": [
      "[[ 3 19  9]\n",
      " [19  3 12]\n",
      " [12  5 19]] \n",
      "\n",
      " [[13  1  6]\n",
      " [11  8 17]\n",
      " [16 18  9]]\n"
     ]
    }
   ],
   "source": [
    "np1 = rg.integers(20,size=(3,3))\n",
    "np2 = rg.integers(20,size=(3,3))\n",
    "print(np1,\"\\n\\n\",np2)"
   ]
  },
  {
   "cell_type": "markdown",
   "id": "ad017f47-c974-4168-9c79-bd407cec5ef8",
   "metadata": {},
   "source": [
    "Utilizar np.vstack para unir los ndarray \"np1\" y \"np2\" verticalmente\n"
   ]
  },
  {
   "cell_type": "code",
   "execution_count": 148,
   "id": "c8b9b36b-7bfb-4027-91ea-626227546983",
   "metadata": {},
   "outputs": [
    {
     "name": "stdout",
     "output_type": "stream",
     "text": [
      "[[ 3 19  9]\n",
      " [19  3 12]\n",
      " [12  5 19]\n",
      " [13  1  6]\n",
      " [11  8 17]\n",
      " [16 18  9]]\n"
     ]
    }
   ],
   "source": [
    "vertical_array = np.vstack((np1,np2))\n",
    "print(vertical_array)"
   ]
  },
  {
   "cell_type": "markdown",
   "id": "66f8921c-45d8-4c7d-9430-999d5fa3c335",
   "metadata": {},
   "source": [
    "Utilizar np.vstack para unir los ndarray \"np1\" y \"np2\" horizontalmente\n"
   ]
  },
  {
   "cell_type": "code",
   "execution_count": 149,
   "id": "44fbc502-904a-461e-a74f-23d10bc37a12",
   "metadata": {},
   "outputs": [
    {
     "name": "stdout",
     "output_type": "stream",
     "text": [
      "[[ 3 19  9 13  1  6]\n",
      " [19  3 12 11  8 17]\n",
      " [12  5 19 16 18  9]]\n"
     ]
    }
   ],
   "source": [
    "horizontal_array = np.hstack((np1,np2))\n",
    "print(horizontal_array)"
   ]
  },
  {
   "cell_type": "markdown",
   "id": "a7eafbf0-968b-41cb-b966-c67bb42bf049",
   "metadata": {},
   "source": [
    "**Ejercicio 21:**\n"
   ]
  },
  {
   "cell_type": "code",
   "execution_count": 150,
   "id": "a929ea5f-6635-48f3-a32a-d6f5bea564f7",
   "metadata": {},
   "outputs": [
    {
     "data": {
      "text/plain": [
       "array([ 2, 18,  8, 12,  9, 15, 18,  9,  8, 12])"
      ]
     },
     "execution_count": 150,
     "metadata": {},
     "output_type": "execute_result"
    }
   ],
   "source": [
    "enteros = rg.integers(20,size=(10))\n",
    "enteros"
   ]
  },
  {
   "cell_type": "markdown",
   "id": "f07668c4-1d9a-46e9-8e6d-a80aaeb3961c",
   "metadata": {},
   "source": [
    "Seleccionar los primeros 6 valores del ndarray \"enteros\"\n"
   ]
  },
  {
   "cell_type": "code",
   "execution_count": 154,
   "id": "62f98dce-8e1e-4749-86b4-e1bed5f44081",
   "metadata": {},
   "outputs": [
    {
     "name": "stdout",
     "output_type": "stream",
     "text": [
      "2 18 8 12 9 15\n"
     ]
    }
   ],
   "source": [
    "print(enteros[0], enteros[1], enteros[2], enteros[3], enteros[4], enteros[5])"
   ]
  },
  {
   "cell_type": "markdown",
   "id": "7c243a71-e44a-4467-9621-0da26997e335",
   "metadata": {},
   "source": [
    "Seleccionar los valores en la posición 0,2 y 4 del ndarray \"enteros\"\n"
   ]
  },
  {
   "cell_type": "code",
   "execution_count": 153,
   "id": "5e09e7ea-3ac8-48ba-8330-9b4213db98bb",
   "metadata": {},
   "outputs": [
    {
     "name": "stdout",
     "output_type": "stream",
     "text": [
      "2 8 9\n"
     ]
    }
   ],
   "source": [
    "print(enteros[0], enteros[2], enteros[4])"
   ]
  },
  {
   "cell_type": "markdown",
   "id": "6178664b-de22-41cb-a499-53d704784b94",
   "metadata": {},
   "source": [
    "Seleccionar todos los valores con un indice par en el ndarray \"enteros\" (0,2,4,...)\n"
   ]
  },
  {
   "cell_type": "code",
   "execution_count": 155,
   "id": "11169abe-382b-4b5f-8332-371f3edabcfc",
   "metadata": {},
   "outputs": [
    {
     "name": "stdout",
     "output_type": "stream",
     "text": [
      "[ 2  8  9 18  8]\n"
     ]
    }
   ],
   "source": [
    "print(enteros[::2])"
   ]
  },
  {
   "cell_type": "markdown",
   "id": "fd2d863b-c2cf-4de4-bcdc-59fdfb9170a5",
   "metadata": {},
   "source": [
    "**Ejercicio 22:**\n"
   ]
  },
  {
   "cell_type": "code",
   "execution_count": 8,
   "id": "6c5257e2-4553-48a6-a8f2-765c128d18c3",
   "metadata": {},
   "outputs": [
    {
     "data": {
      "text/plain": [
       "array([[16,  5,  2,  5,  8],\n",
       "       [16,  9,  1,  6, 12],\n",
       "       [16, 14, 19,  3, 17],\n",
       "       [ 1, 11,  5,  4, 13],\n",
       "       [ 6, 11,  5,  3, 14],\n",
       "       [ 8, 13, 13, 18,  8],\n",
       "       [ 4, 12, 18, 19, 17],\n",
       "       [13,  7,  7,  0,  3]])"
      ]
     },
     "execution_count": 8,
     "metadata": {},
     "output_type": "execute_result"
    }
   ],
   "source": [
    "enteros_2d = rg.integers(20,size=(8,5))\n",
    "enteros_2d"
   ]
  },
  {
   "cell_type": "markdown",
   "id": "37bc0a12-9c60-4973-a312-80804c150ada",
   "metadata": {},
   "source": [
    "Seleccionar el cuarto valor en la segunda fila de \"enteros_2d\"\n"
   ]
  },
  {
   "cell_type": "code",
   "execution_count": 9,
   "id": "b1647bbd-6a30-4d1b-a04e-2381da07d9d0",
   "metadata": {},
   "outputs": [
    {
     "name": "stdout",
     "output_type": "stream",
     "text": [
      "17\n"
     ]
    }
   ],
   "source": [
    "print(enteros_2d[2, 4])"
   ]
  },
  {
   "cell_type": "markdown",
   "id": "8735f0f9-4d36-4640-b47c-539587896e73",
   "metadata": {},
   "source": [
    "Seleccionar el segundo valor en los arrays con indice 3, 4 y 5 de \"enteros_2d\"\n"
   ]
  },
  {
   "cell_type": "code",
   "execution_count": 15,
   "id": "40b2a7ad-eaea-425d-a8bc-058fba013c59",
   "metadata": {},
   "outputs": [
    {
     "name": "stdout",
     "output_type": "stream",
     "text": [
      "[11 11 13]\n"
     ]
    }
   ],
   "source": [
    "filas = [3, 4, 5]\n",
    "columna = 1\n",
    "\n",
    "valores = enteros_2d[filas, columna]\n",
    "print(valores)"
   ]
  },
  {
   "cell_type": "markdown",
   "id": "ed773fbb-8795-4e25-adb1-3952ab3be59f",
   "metadata": {},
   "source": [
    "Seleccionar los 2 primeros valores en los arrays con indice 4, 5 y 6 de \"enteros_2d\"\n"
   ]
  },
  {
   "cell_type": "code",
   "execution_count": 21,
   "id": "730ceebe-04bc-46d1-a8a2-d98207d66afb",
   "metadata": {},
   "outputs": [
    {
     "name": "stdout",
     "output_type": "stream",
     "text": [
      "[[ 6 11]\n",
      " [ 8 13]\n",
      " [ 4 12]]\n"
     ]
    }
   ],
   "source": [
    "valores2 = enteros_2d[[4, 5, 6], :2]\n",
    "print(valores2)"
   ]
  },
  {
   "cell_type": "markdown",
   "id": "382e6413",
   "metadata": {},
   "source": []
  }
 ],
 "metadata": {
  "kernelspec": {
   "display_name": ".env",
   "language": "python",
   "name": "python3"
  },
  "language_info": {
   "codemirror_mode": {
    "name": "ipython",
    "version": 3
   },
   "file_extension": ".py",
   "mimetype": "text/x-python",
   "name": "python",
   "nbconvert_exporter": "python",
   "pygments_lexer": "ipython3",
   "version": "3.12.3"
  }
 },
 "nbformat": 4,
 "nbformat_minor": 5
}
