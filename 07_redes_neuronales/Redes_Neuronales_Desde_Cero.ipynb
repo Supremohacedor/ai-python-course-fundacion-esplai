{
  "cells": [
    {
      "cell_type": "markdown",
      "metadata": {
        "id": "RTHsVG_OFCoa"
      },
      "source": [
        "# 🧠 Introducción a Redes Neuronales Artificiales (ANNs)\n",
        "\n",
        "Este cuaderno te guiará paso a paso en la implementación de una red neuronal simple desde cero usando `NumPy`, para entender cómo funciona internamente una red.\n",
        "\n",
        "Aprenderás:\n",
        "- Cómo se construye una neurona artificial\n",
        "- Qué es forward y backward propagation\n",
        "- Cómo entrenar una red con descenso del gradiente\n",
        "- Cómo aplicar estos conocimientos a un problema XOR"
      ],
      "id": "RTHsVG_OFCoa"
    },
    {
      "cell_type": "code",
      "execution_count": 1,
      "metadata": {
        "id": "tyj22zUtFCol"
      },
      "outputs": [],
      "source": [
        "# 🔧 Importamos librerías necesarias\n",
        "import numpy as np\n",
        "import matplotlib.pyplot as plt"
      ],
      "id": "tyj22zUtFCol"
    },
    {
      "cell_type": "markdown",
      "metadata": {
        "id": "7AkuJ8TgFCos"
      },
      "source": [
        "## 📊 Datos de entrada (XOR)\n",
        "Usaremos el problema clásico de XOR como conjunto de datos. Tiene 2 entradas y 1 salida binaria."
      ],
      "id": "7AkuJ8TgFCos"
    },
    {
      "cell_type": "code",
      "execution_count": 3,
      "metadata": {
        "id": "so_rYG9uFCou"
      },
      "outputs": [],
      "source": [
        "# Entradas y salidas esperadas\n",
        "X = np.array([[0,0],[0,1],[1,0],[1,1]])\n",
        "y = np.array([[0],[1],[1],[0]])"
      ],
      "id": "so_rYG9uFCou"
    },
    {
      "cell_type": "markdown",
      "metadata": {
        "id": "_9LNIx5KFCoy"
      },
      "source": [
        "## ⚙️ Funciones de activación\n",
        "Usamos la sigmoide para la activación y su derivada para backpropagation."
      ],
      "id": "_9LNIx5KFCoy"
    },
    {
      "cell_type": "code",
      "execution_count": 4,
      "metadata": {
        "id": "4q4bQvWJFCoz"
      },
      "outputs": [],
      "source": [
        "def sigmoid(x):\n",
        "    return 1 / (1 + np.exp(-x))\n",
        "\n",
        "def sigmoid_derivative(x):\n",
        "    return x * (1 - x)"
      ],
      "id": "4q4bQvWJFCoz"
    },
    {
      "cell_type": "markdown",
      "metadata": {
        "id": "vRo-46CtFCo1"
      },
      "source": [
        "## 🧠 Inicialización de pesos\n",
        "Inicializamos los pesos de forma aleatoria para las dos capas (entrada → oculta, oculta → salida)."
      ],
      "id": "vRo-46CtFCo1"
    },
    {
      "cell_type": "code",
      "execution_count": 5,
      "metadata": {
        "id": "sdUqBge8FCo2"
      },
      "outputs": [],
      "source": [
        "np.random.seed(42)\n",
        "w0 = 2 * np.random.random((2, 4)) - 1\n",
        "w1 = 2 * np.random.random((4, 1)) - 1"
      ],
      "id": "sdUqBge8FCo2"
    },
    {
      "cell_type": "markdown",
      "metadata": {
        "id": "8qZdpLKxFCo3"
      },
      "source": [
        "## 🔁 Entrenamiento\n",
        "Ejecutamos el ciclo de entrenamiento con propagación hacia adelante y retropropagación para ajustar los pesos."
      ],
      "id": "8qZdpLKxFCo3"
    },
    {
      "cell_type": "code",
      "execution_count": 6,
      "metadata": {
        "id": "Rvv8qj4TFCo5"
      },
      "outputs": [],
      "source": [
        "errors = []\n",
        "for epoch in range(10000):\n",
        "    # Forward\n",
        "    l0 = X\n",
        "    l1 = sigmoid(np.dot(l0, w0))\n",
        "    l2 = sigmoid(np.dot(l1, w1))\n",
        "\n",
        "    # Error\n",
        "    error = y - l2\n",
        "    errors.append(np.mean(np.abs(error)))\n",
        "\n",
        "    # Backpropagation\n",
        "    l2_delta = error * sigmoid_derivative(l2)\n",
        "    l1_delta = l2_delta.dot(w1.T) * sigmoid_derivative(l1)\n",
        "\n",
        "    # Actualización de pesos\n",
        "    w1 += l1.T.dot(l2_delta)\n",
        "    w0 += l0.T.dot(l1_delta)"
      ],
      "id": "Rvv8qj4TFCo5"
    },
    {
      "cell_type": "markdown",
      "metadata": {
        "id": "yqYRlPbCFCo7"
      },
      "source": [
        "## 📈 Visualización del error durante el entrenamiento"
      ],
      "id": "yqYRlPbCFCo7"
    },
    {
      "cell_type": "code",
      "execution_count": 7,
      "metadata": {
        "id": "D6ZqvOAQFCo8",
        "outputId": "c6bb67fb-1e52-48e7-b06f-0fbbf412e94b",
        "colab": {
          "base_uri": "https://localhost:8080/",
          "height": 474
        }
      },
      "outputs": [
        {
          "output_type": "display_data",
          "data": {
            "text/plain": [
              "<Figure size 640x480 with 1 Axes>"
            ],
            "image/png": "[encoded data removed]"
          },
          "metadata": {}
        }
      ],
      "source": [
        "plt.plot(errors)\n",
        "plt.title('Error promedio durante el entrenamiento')\n",
        "plt.xlabel('Épocas')\n",
        "plt.ylabel('Error promedio')\n",
        "plt.grid(True)\n",
        "plt.show()"
      ],
      "id": "D6ZqvOAQFCo8"
    },
    {
      "cell_type": "markdown",
      "metadata": {
        "id": "2vvvZSrMFCo9"
      },
      "source": [
        "## ✅ Predicciones finales\n",
        "Veamos cómo predice la red después del entrenamiento."
      ],
      "id": "2vvvZSrMFCo9"
    },
    {
      "cell_type": "code",
      "execution_count": 8,
      "metadata": {
        "id": "EuerIKH4FCo-",
        "outputId": "74d58339-8fee-4e84-b50f-4655ed97976c",
        "colab": {
          "base_uri": "https://localhost:8080/"
        }
      },
      "outputs": [
        {
          "output_type": "stream",
          "name": "stdout",
          "text": [
            "Predicciones después del entrenamiento:\n",
            "[[0.02]\n",
            " [0.99]\n",
            " [0.98]\n",
            " [0.01]]\n"
          ]
        }
      ],
      "source": [
        "print(\"Predicciones después del entrenamiento:\")\n",
        "print(l2.round(2))"
      ],
      "id": "EuerIKH4FCo-"
    },
    {
      "cell_type": "code",
      "source": [
        "from tensorflow.keras.models import Sequential\n",
        "from tensorflow.keras.layers import Dense\n",
        "import numpy as np\n",
        "# XORX\n",
        "X = np.array([[0,0],[0,1],[1,0], [1,1]])\n",
        "y = np.array([[0],[1],[1],[0]])\n",
        "# Modelo\n",
        "model = Sequential()\n",
        "model.add(Dense(4, input_dim=2, activation='relu')) # capa oculta\n",
        "model.add(Dense(1, activation='sigmoid')) # capa salida\n",
        "# Compilar y entrenar\n",
        "model.compile(loss='binary_crossentropy', optimizer='adam', metrics=['accuracy'])\n",
        "model.fit(X, y, epochs=1000, verbose=0)\n",
        "# Predicciones\n",
        "print(\"Predicciones:\")\n",
        "print(model.predict(X))"
      ],
      "metadata": {
        "id": "ykZrtly7HMRY",
        "outputId": "5f6f3c45-2d12-4f7d-8d4e-b5873ee26b0c",
        "colab": {
          "base_uri": "https://localhost:8080/"
        }
      },
      "id": "ykZrtly7HMRY",
      "execution_count": 13,
      "outputs": [
        {
          "output_type": "stream",
          "name": "stderr",
          "text": [
            "/usr/local/lib/python3.11/dist-packages/keras/src/layers/core/dense.py:87: UserWarning: Do not pass an `input_shape`/`input_dim` argument to a layer. When using Sequential models, prefer using an `Input(shape)` object as the first layer in the model instead.\n",
            "  super().__init__(activity_regularizer=activity_regularizer, **kwargs)\n"
          ]
        },
        {
          "output_type": "stream",
          "name": "stdout",
          "text": [
            "Predicciones:\n",
            "\u001b[1m1/1\u001b[0m \u001b[32m━━━━━━━━━━━━━━━━━━━━\u001b[0m\u001b[37m\u001b[0m \u001b[1m0s\u001b[0m 79ms/step\n",
            "[[0.21470223]\n",
            " [0.7319116 ]\n",
            " [0.890839  ]\n",
            " [0.26255968]]\n"
          ]
        }
      ]
    }
  ],
  "metadata": {
    "kernelspec": {
      "display_name": "Python 3",
      "language": "python",
      "name": "python3"
    },
    "language_info": {
      "name": "python",
      "version": "3.9"
    },
    "colab": {
      "provenance": []
    }
  },
  "nbformat": 4,
  "nbformat_minor": 5
}