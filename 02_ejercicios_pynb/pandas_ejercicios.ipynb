{
 "cells": [
  {
   "cell_type": "markdown",
   "id": "c7327e82-fd82-4234-a5ec-2c94292c198f",
   "metadata": {},
   "source": [
    "# Pandas\n"
   ]
  },
  {
   "cell_type": "markdown",
   "id": "f1acf794",
   "metadata": {},
   "source": [
    "## Series\n"
   ]
  },
  {
   "cell_type": "markdown",
   "id": "1acdb381",
   "metadata": {},
   "source": [
    "**Ejercicio 1:**\n"
   ]
  },
  {
   "cell_type": "markdown",
   "id": "d0c1cfcc-7730-4612-9a49-23f3790b543f",
   "metadata": {},
   "source": [
    "Importar pandas\n"
   ]
  },
  {
   "cell_type": "code",
   "execution_count": 1,
   "id": "fdc297ee-bc0d-42b8-a1cb-c01e45fae36d",
   "metadata": {},
   "outputs": [],
   "source": [
    "import pandas as pd"
   ]
  },
  {
   "cell_type": "markdown",
   "id": "6abe2412-1096-42ef-ac26-97d52d483563",
   "metadata": {},
   "source": [
    "**Ejercicio 2:**\n"
   ]
  },
  {
   "cell_type": "code",
   "execution_count": 2,
   "id": "d06d31a3-2aba-4262-ba57-bb8b5989bb0f",
   "metadata": {},
   "outputs": [],
   "source": [
    "altura_cm = [178, 166, 155, 181, 176, 189, 190, 156]"
   ]
  },
  {
   "cell_type": "markdown",
   "id": "a280bead-9a9a-4605-8954-e47d37cac2a6",
   "metadata": {},
   "source": [
    "Crea una serie llamada \"altura\" en base a la lista anterior utilizando `pd.Series()`\n"
   ]
  },
  {
   "cell_type": "code",
   "execution_count": 3,
   "id": "2fc49c07-0660-44da-8fd0-c5f71fbf67d7",
   "metadata": {},
   "outputs": [
    {
     "name": "stdout",
     "output_type": "stream",
     "text": [
      "0    178\n",
      "1    166\n",
      "2    155\n",
      "3    181\n",
      "4    176\n",
      "5    189\n",
      "6    190\n",
      "7    156\n",
      "dtype: int64\n"
     ]
    }
   ],
   "source": [
    "altura = pd.Series(altura_cm)\n",
    "print(altura)"
   ]
  },
  {
   "cell_type": "markdown",
   "id": "a7f7692d-63e3-4688-bbda-9c5dc9340e0f",
   "metadata": {},
   "source": [
    "**Ejercicio 3:**\n"
   ]
  },
  {
   "cell_type": "markdown",
   "id": "761210c4",
   "metadata": {},
   "source": [
    "Inspeccionar los primeros 5 elementos con .head()\n"
   ]
  },
  {
   "cell_type": "code",
   "execution_count": 8,
   "id": "4d0aa5ca-e154-4f9b-9b25-7c7f2695e06b",
   "metadata": {},
   "outputs": [
    {
     "name": "stdout",
     "output_type": "stream",
     "text": [
      "     0\n",
      "0  178\n",
      "1  166\n",
      "2  155\n",
      "3  181\n",
      "4  176\n"
     ]
    }
   ],
   "source": [
    "exer3 = pd.DataFrame(altura_cm)\n",
    "print(exer3.head())"
   ]
  },
  {
   "cell_type": "markdown",
   "id": "d7c21cc3-407d-44ef-82a9-82733f2bffee",
   "metadata": {},
   "source": [
    "Inspeccionar los primeros 3 elementos con .head\n"
   ]
  },
  {
   "cell_type": "code",
   "execution_count": 9,
   "id": "3aa7c127-4943-45f2-a5a3-3e9ef4cc7589",
   "metadata": {},
   "outputs": [
    {
     "name": "stdout",
     "output_type": "stream",
     "text": [
      "     0\n",
      "0  178\n",
      "1  166\n",
      "2  155\n"
     ]
    }
   ],
   "source": [
    "print(exer3.head(3))"
   ]
  },
  {
   "cell_type": "markdown",
   "id": "ef3847b6-eda7-4fd1-b115-3c240a2413a7",
   "metadata": {},
   "source": [
    "**Ejercicio 4:**\n"
   ]
  },
  {
   "cell_type": "markdown",
   "id": "7ebe38ea-eef2-49d6-b15e-a9ecb2a52b2c",
   "metadata": {},
   "source": [
    "Ordena los valores de la serie \"altura\". Esto es un paso de la operación, no cambia la \"altura\" original\n"
   ]
  },
  {
   "cell_type": "code",
   "execution_count": 16,
   "id": "15be0acf-6149-4104-a361-ac862e9e6620",
   "metadata": {},
   "outputs": [
    {
     "name": "stdout",
     "output_type": "stream",
     "text": [
      "     0\n",
      "2  155\n",
      "7  156\n",
      "1  166\n",
      "4  176\n",
      "0  178\n",
      "3  181\n",
      "5  189\n",
      "6  190\n"
     ]
    }
   ],
   "source": [
    "exer4 = pd.DataFrame(altura_cm)\n",
    "print(exer4.sort_values(by=[0]))"
   ]
  },
  {
   "cell_type": "markdown",
   "id": "5dd95a43-7d3d-426a-9bd1-48e1bd3b2da9",
   "metadata": {},
   "source": [
    "**Ejercicio 5:**\n"
   ]
  },
  {
   "cell_type": "markdown",
   "id": "761e91bc-f278-4380-ba5b-d05f9cbdec6f",
   "metadata": {},
   "source": [
    "Obtener el valor mínimo en la serie \"altura\"\n"
   ]
  },
  {
   "cell_type": "code",
   "execution_count": 17,
   "id": "94b41715-3d42-427e-a3fd-240487b0ea90",
   "metadata": {},
   "outputs": [
    {
     "name": "stdout",
     "output_type": "stream",
     "text": [
      "0    155\n",
      "dtype: int64\n"
     ]
    }
   ],
   "source": [
    "exer5 = pd.DataFrame(altura_cm)\n",
    "print(exer5.min())"
   ]
  },
  {
   "cell_type": "markdown",
   "id": "f4be482a",
   "metadata": {},
   "source": [
    "Obtener el valor máximo en la serie \"altura\"\n"
   ]
  },
  {
   "cell_type": "code",
   "execution_count": 18,
   "id": "8862fa16",
   "metadata": {},
   "outputs": [
    {
     "name": "stdout",
     "output_type": "stream",
     "text": [
      "0    190\n",
      "dtype: int64\n"
     ]
    }
   ],
   "source": [
    "print(exer5.max())"
   ]
  },
  {
   "cell_type": "markdown",
   "id": "efd8ece9",
   "metadata": {},
   "source": [
    "Obtener el valor promedio en la serie \"altura\"\n"
   ]
  },
  {
   "cell_type": "code",
   "execution_count": 20,
   "id": "45b9f43a",
   "metadata": {},
   "outputs": [
    {
     "name": "stdout",
     "output_type": "stream",
     "text": [
      "0    173.875\n",
      "dtype: float64\n"
     ]
    }
   ],
   "source": [
    "print(exer5.mean())"
   ]
  },
  {
   "cell_type": "markdown",
   "id": "41d1aac8",
   "metadata": {},
   "source": [
    "Obtener la suma de la serie \"altura\"\n"
   ]
  },
  {
   "cell_type": "code",
   "execution_count": 19,
   "id": "ff854a6f",
   "metadata": {},
   "outputs": [
    {
     "name": "stdout",
     "output_type": "stream",
     "text": [
      "0    1391\n",
      "dtype: int64\n"
     ]
    }
   ],
   "source": [
    "print(exer5.sum())"
   ]
  },
  {
   "cell_type": "markdown",
   "id": "67a2d007-ddec-41df-8bb2-df4a51420fae",
   "metadata": {},
   "source": [
    "**Ejercicio 6:**\n"
   ]
  },
  {
   "cell_type": "markdown",
   "id": "95aebac0-6ef3-45de-a8a8-be4d7cb71d7c",
   "metadata": {},
   "source": [
    "Obtener una descripción general de los valores en la serie \"altura\"\n"
   ]
  },
  {
   "cell_type": "code",
   "execution_count": null,
   "id": "d2997bc4-ae45-4b4a-aa36-7329dc32b33e",
   "metadata": {},
   "outputs": [
    {
     "name": "stdout",
     "output_type": "stream",
     "text": [
      "                0\n",
      "count    8.000000\n",
      "mean   173.875000\n",
      "std     13.621805\n",
      "min    155.000000\n",
      "25%    163.500000\n",
      "50%    177.000000\n",
      "75%    183.000000\n",
      "max    190.000000\n"
     ]
    }
   ],
   "source": [
    "exer6 = pd.DataFrame(altura_cm)\n",
    "print(exer6.describe())\n"
   ]
  },
  {
   "cell_type": "markdown",
   "id": "d97f5126-5e89-4e84-bff8-8ab2922ebccb",
   "metadata": {},
   "source": [
    "**Ejercicio 7:**\n"
   ]
  },
  {
   "cell_type": "markdown",
   "id": "9b4f9ead-3891-4b57-b174-b601dc0683bf",
   "metadata": {},
   "source": [
    "Obtener las alturas que superen los 170 cm en la serie \"altura\"\n"
   ]
  },
  {
   "cell_type": "code",
   "execution_count": 26,
   "id": "8cdb9077-e8b1-4c35-ad3a-4ec715e79112",
   "metadata": {},
   "outputs": [
    {
     "name": "stdout",
     "output_type": "stream",
     "text": [
      "     0\n",
      "0  178\n",
      "3  181\n",
      "4  176\n",
      "5  189\n",
      "6  190\n"
     ]
    }
   ],
   "source": [
    "exer7 = pd.DataFrame(altura_cm)\n",
    "print(exer7[exer7[0] > 170])"
   ]
  },
  {
   "cell_type": "markdown",
   "id": "31da554b-5b01-4c72-a240-31daba880c19",
   "metadata": {},
   "source": [
    "## Dataframes\n"
   ]
  },
  {
   "cell_type": "markdown",
   "id": "2cf7d573",
   "metadata": {},
   "source": [
    "**Ejercicio 8:**\n"
   ]
  },
  {
   "cell_type": "code",
   "execution_count": 27,
   "id": "c05f65d7-55df-4bb3-862e-7eab91a3d3d9",
   "metadata": {},
   "outputs": [],
   "source": [
    "datos = {\"Nombre\": [\"Erika\", \"Elías\", \"Miguel\", \"Karla\", \"Gabriela\"],\n",
    "        \"Edad\": [23, 24, 21, 25, 22],\n",
    "        \"Altura\": [173, 194, 165, 154, 176],\n",
    "        \"Peso\": [83.2, 65.4, 71.1, 67.9, 71.8]}"
   ]
  },
  {
   "cell_type": "markdown",
   "id": "fd702fb3-3cd9-45d6-8032-57bbec0a51b1",
   "metadata": {},
   "source": [
    "Crea un Dataframe llamado \"amigos\" utilizando el diccionario anterior\n"
   ]
  },
  {
   "cell_type": "code",
   "execution_count": 28,
   "id": "587782ef",
   "metadata": {},
   "outputs": [],
   "source": [
    "amigos = pd.DataFrame(datos)"
   ]
  },
  {
   "cell_type": "markdown",
   "id": "a42828a6-38db-46fd-8fa8-301a8838c627",
   "metadata": {},
   "source": [
    "**Ejercicio 9:**\n"
   ]
  },
  {
   "cell_type": "markdown",
   "id": "07984df0",
   "metadata": {},
   "source": [
    "Obtener una descripción general de los datos numéricos en el DataFrame \"amigos\":\n"
   ]
  },
  {
   "cell_type": "code",
   "execution_count": 29,
   "id": "85cc30af-250f-4ab8-a7cf-eed247a0dea9",
   "metadata": {},
   "outputs": [
    {
     "name": "stdout",
     "output_type": "stream",
     "text": [
      "            Edad      Altura       Peso\n",
      "count   5.000000    5.000000   5.000000\n",
      "mean   23.000000  172.400000  71.880000\n",
      "std     1.581139   14.774979   6.829861\n",
      "min    21.000000  154.000000  65.400000\n",
      "25%    22.000000  165.000000  67.900000\n",
      "50%    23.000000  173.000000  71.100000\n",
      "75%    24.000000  176.000000  71.800000\n",
      "max    25.000000  194.000000  83.200000\n"
     ]
    }
   ],
   "source": [
    "print(amigos.describe())"
   ]
  },
  {
   "cell_type": "markdown",
   "id": "d04b6ccf-5d9b-4769-a3a2-d65d93e644d4",
   "metadata": {},
   "source": [
    "**Ejercicio 10:**\n"
   ]
  },
  {
   "cell_type": "markdown",
   "id": "a5624bd4-06c2-4959-8e10-d1b8e0227705",
   "metadata": {},
   "source": [
    "Obtener los datos de los **amigos** con una **edad** menor a 23 años\n"
   ]
  },
  {
   "cell_type": "code",
   "execution_count": 30,
   "id": "aa9439dc-b364-465c-b260-ca47fd9fcec4",
   "metadata": {},
   "outputs": [
    {
     "name": "stdout",
     "output_type": "stream",
     "text": [
      "     Nombre  Edad  Altura  Peso\n",
      "2    Miguel    21     165  71.1\n",
      "4  Gabriela    22     176  71.8\n"
     ]
    }
   ],
   "source": [
    "print(amigos[amigos[\"Edad\"] < 23])"
   ]
  },
  {
   "cell_type": "markdown",
   "id": "155bbcd6-88d5-4cdc-9a05-c50f26f5187f",
   "metadata": {},
   "source": [
    "**Ejercicio 11:**\n"
   ]
  },
  {
   "cell_type": "markdown",
   "id": "c0b81a7c-aa51-4400-9527-130a5bbcc8d5",
   "metadata": {},
   "source": [
    "Importar los datos en el archivo \"amigos.xlsx\" en un DataFrame llamado \"amigos\" y muéstralos\n"
   ]
  },
  {
   "cell_type": "code",
   "execution_count": 37,
   "id": "6e91a06c-c9ec-4600-a220-1c3e75668def",
   "metadata": {},
   "outputs": [
    {
     "name": "stdout",
     "output_type": "stream",
     "text": [
      "     Id     Nombre Apellido Pat  Apellido Mat  Edad  Altura  Peso\n",
      "0     1     Sergio      Negrete         Terán    18     163  90.9\n",
      "1     2       Jean       Vidrio        Piñeda    23     166  61.3\n",
      "2     3      María        Feria         Núñez    22     185  77.1\n",
      "3     4    William   Valdovinos         López    22     155  84.6\n",
      "4     5    Bastian   Richardson  De La Fuente    17     187  87.0\n",
      "..  ...        ...          ...           ...   ...     ...   ...\n",
      "95   96  Stephanie         Peña         Rubio    20     188  52.9\n",
      "96   97     Marvin        Ramón          Ríos    24     167  98.3\n",
      "97   98    Nicolás        Bravo       Pascual    19     171  76.7\n",
      "98   99       Lily       Ávalos         Salín    19     168  58.6\n",
      "99  100     Moises      Navarro       Briones    21     171  55.2\n",
      "\n",
      "[100 rows x 7 columns]\n"
     ]
    }
   ],
   "source": [
    "amigos = pd.read_excel(\"amigos.xlsx\")\n",
    "print(amigos)"
   ]
  },
  {
   "cell_type": "markdown",
   "id": "8c035e20",
   "metadata": {},
   "source": [
    "Mostrar los 5 primeros elementos\n"
   ]
  },
  {
   "cell_type": "code",
   "execution_count": 38,
   "id": "1cb633ce",
   "metadata": {},
   "outputs": [
    {
     "name": "stdout",
     "output_type": "stream",
     "text": [
      "   Id   Nombre Apellido Pat  Apellido Mat  Edad  Altura  Peso\n",
      "0   1   Sergio      Negrete         Terán    18     163  90.9\n",
      "1   2     Jean       Vidrio        Piñeda    23     166  61.3\n",
      "2   3    María        Feria         Núñez    22     185  77.1\n",
      "3   4  William   Valdovinos         López    22     155  84.6\n",
      "4   5  Bastian   Richardson  De La Fuente    17     187  87.0\n"
     ]
    }
   ],
   "source": [
    "print(amigos.head())\n"
   ]
  },
  {
   "cell_type": "markdown",
   "id": "58d20edf",
   "metadata": {},
   "source": [
    "Cuenta los elementos\n"
   ]
  },
  {
   "cell_type": "code",
   "execution_count": 39,
   "id": "ba04e2c1",
   "metadata": {},
   "outputs": [
    {
     "name": "stdout",
     "output_type": "stream",
     "text": [
      "Id              100\n",
      "Nombre          100\n",
      "Apellido Pat    100\n",
      "Apellido Mat    100\n",
      "Edad            100\n",
      "Altura          100\n",
      "Peso            100\n",
      "dtype: int64\n"
     ]
    }
   ],
   "source": [
    "\n",
    "print(amigos.count())"
   ]
  },
  {
   "cell_type": "markdown",
   "id": "8bd317ad-9cae-4dff-a928-726ebda177bf",
   "metadata": {},
   "source": [
    "**Ejercicio 12:**\n"
   ]
  },
  {
   "cell_type": "markdown",
   "id": "03a56414-a7b0-4dff-a351-11af200156ee",
   "metadata": {},
   "source": [
    "Obtener los datos de los amigos con una edad menor a 21 años\n"
   ]
  },
  {
   "cell_type": "code",
   "execution_count": 40,
   "id": "98e5e936-d60c-4d71-a750-2f9a2f8d21bf",
   "metadata": {},
   "outputs": [
    {
     "name": "stdout",
     "output_type": "stream",
     "text": [
      "    Id     Nombre  Apellido Pat  Apellido Mat  Edad  Altura  Peso\n",
      "0    1     Sergio       Negrete         Terán    18     163  90.9\n",
      "4    5    Bastian    Richardson  De La Fuente    17     187  87.0\n",
      "7    8      Jamir       Aguirre      Escobedo    17     169  77.5\n",
      "11  12   Cristina       Montaño    Richardson    19     156  73.4\n",
      "12  13     Rafael      Berlanga        Burgos    20     167  56.1\n",
      "13  14      Elías         Durán        Aburto    17     185  65.0\n",
      "17  18      Maria      Gallegos        Becker    20     161  87.3\n",
      "29  30       Alba       Briones          Kaft    19     173  92.8\n",
      "32  33       Lisa       Márquez         Salas    17     163  93.9\n",
      "35  36      Simón  De La Fuente        Ibarra    17     190  85.6\n",
      "37  38     Klever       Fuentes     Villareal    17     171  80.2\n",
      "41  42     Pamela       Soberón        Ortega    17     172  72.6\n",
      "42  43   Leopoldo       Infante        Nathal    19     174  62.6\n",
      "43  44    Claudio        Cetina      Espinoza    20     169  68.4\n",
      "45  46    Teodoro       Lazcano          Kaft    20     173  94.5\n",
      "46  47    Esteban       Mendoza       Cervera    20     167  66.6\n",
      "50  51       Adán      Sandoval        Campos    17     181  61.6\n",
      "51  52      Diana       Barajas       Fuentes    20     160  68.9\n",
      "54  55      Elena        Santos      Cisneros    20     160  57.9\n",
      "55  56   Victoria    Santamaría         Durán    20     187  50.2\n",
      "56  57       Lara     Fernández          Vera    19     167  55.5\n",
      "57  58     Eugene      Peñalosa        Llamas    17     172  78.4\n",
      "62  63    Mildred          Luna       Escobar    19     190  52.7\n",
      "64  65     Flavio        Campos         Sarti    19     164  76.4\n",
      "65  66       Paul    Villalobos       Lazcano    20     171  85.6\n",
      "67  68       Adán       Barajas       Basurto    19     174  93.7\n",
      "69  70       Luna       Aguilar       Padilla    19     175  78.5\n",
      "71  72       Hugo         Tovar          Orea    18     189  87.4\n",
      "72  73    Celeste   Valenciano         Acosta    19     182  62.7\n",
      "74  75     Demian     Domínguez        Llamas    19     162  74.9\n",
      "77  78    Arnoldo       Mercado       Lazcano    19     168  91.7\n",
      "80  81      Johan     Sepúlvedo     Maldonado    20     183  98.8\n",
      "83  84    Alberto       Barrera     Sifuentes    19     172  92.9\n",
      "85  86      Clara        Arenas          Vega    19     189  56.0\n",
      "86  87   Leopoldo        Ocampo          Díaz    18     155  57.1\n",
      "87  88   Casandra       Verdejo          Cruz    17     171  64.6\n",
      "89  90       Luna         Ávila          Alva    18     181  72.0\n",
      "90  91      Lucía       Galindo      Alvarado    18     158  94.8\n",
      "91  92      Félix        Varela          Rojo    17     169  72.2\n",
      "94  95     Yasmín       Briones       Vallejo    20     180  86.7\n",
      "95  96  Stephanie          Peña         Rubio    20     188  52.9\n",
      "97  98    Nicolás         Bravo       Pascual    19     171  76.7\n",
      "98  99       Lily        Ávalos         Salín    19     168  58.6\n"
     ]
    }
   ],
   "source": [
    "print(amigos[amigos[\"Edad\"] < 21])"
   ]
  },
  {
   "cell_type": "markdown",
   "id": "7b311d70-aedb-42c5-a1d6-690d0a9919b3",
   "metadata": {},
   "source": [
    "**Ejercicio 13:**\n"
   ]
  },
  {
   "cell_type": "markdown",
   "id": "4965dab5-9b59-40b7-8246-4cf089550b74",
   "metadata": {},
   "source": [
    "Importar los datos en el archivo \"universidad.xlsx\" en un DataFrame llamado \"universidad\"\n"
   ]
  },
  {
   "cell_type": "code",
   "execution_count": 41,
   "id": "336bd3a7-b45d-4a1e-bcce-74910ec6b328",
   "metadata": {},
   "outputs": [
    {
     "name": "stdout",
     "output_type": "stream",
     "text": [
      "   Num Control              Carrera  Semestre Inscripción  Id Persona\n",
      "0     SeNeTe01  Lic. en nutriología         7  2015-05-20           1\n",
      "1     JeViPi02         Ing. química         8  2015-05-02           2\n",
      "2     MaFeNú03      Lic. en derecho         6  2015-05-09           3\n",
      "3     WiVaLó04     Ing. en sistemas         2  2016-12-03           4\n",
      "4     BaRiDe05     Ing. mecatrónica        10  2018-12-01           5\n",
      "..         ...                  ...       ...         ...         ...\n",
      "95    StPeRu96  Lic. en nutriología         2  2015-12-15          96\n",
      "96    MaRaRí97      Lic. en derecho         7  2016-12-28          97\n",
      "97    NiBrPa98     Ing. mecatrónica         8  2015-05-14          98\n",
      "98    LiÁvSa99  Lic. en nutriología         4  2016-05-28          99\n",
      "99   MoNaBr100     Ing. mecatrónica         2  2018-05-11         100\n",
      "\n",
      "[100 rows x 5 columns]\n"
     ]
    }
   ],
   "source": [
    "universidad = pd.read_excel(\"universidad.xlsx\")\n",
    "print(universidad)"
   ]
  },
  {
   "cell_type": "markdown",
   "id": "5d8e1328",
   "metadata": {},
   "source": [
    "Muestra los primeros elementos de \"universidad\"\n"
   ]
  },
  {
   "cell_type": "code",
   "execution_count": 42,
   "id": "b91eda2e-1ae1-44fe-845d-f38fa71da28e",
   "metadata": {},
   "outputs": [
    {
     "name": "stdout",
     "output_type": "stream",
     "text": [
      "  Num Control              Carrera  Semestre Inscripción  Id Persona\n",
      "0    SeNeTe01  Lic. en nutriología         7  2015-05-20           1\n",
      "1    JeViPi02         Ing. química         8  2015-05-02           2\n",
      "2    MaFeNú03      Lic. en derecho         6  2015-05-09           3\n",
      "3    WiVaLó04     Ing. en sistemas         2  2016-12-03           4\n",
      "4    BaRiDe05     Ing. mecatrónica        10  2018-12-01           5\n"
     ]
    }
   ],
   "source": [
    "print(universidad.head())"
   ]
  },
  {
   "cell_type": "markdown",
   "id": "3079af44",
   "metadata": {},
   "source": [
    "Muestra los primeros elementos de \"amigos\"\n"
   ]
  },
  {
   "cell_type": "code",
   "execution_count": null,
   "id": "ef9d7a03",
   "metadata": {},
   "outputs": [
    {
     "name": "stdout",
     "output_type": "stream",
     "text": [
      "   Id   Nombre Apellido Pat  Apellido Mat  Edad  Altura  Peso\n",
      "0   1   Sergio      Negrete         Terán    18     163  90.9\n",
      "1   2     Jean       Vidrio        Piñeda    23     166  61.3\n",
      "2   3    María        Feria         Núñez    22     185  77.1\n",
      "3   4  William   Valdovinos         López    22     155  84.6\n",
      "4   5  Bastian   Richardson  De La Fuente    17     187  87.0\n"
     ]
    }
   ],
   "source": [
    "print(amigos.head())"
   ]
  },
  {
   "cell_type": "markdown",
   "id": "93474f2c-03ed-4c5e-8eaf-58503cf1476e",
   "metadata": {},
   "source": [
    "**Ejercicio 14:**\n"
   ]
  },
  {
   "cell_type": "markdown",
   "id": "ce6d972e-370e-4c20-aa5f-da7842f765a9",
   "metadata": {},
   "source": [
    "Utilizar la función \"merge\" para unir en una variable \"estudiantes\" las tablas \"amigos\" y \"universidad\" en base a:\n",
    "\n",
    "- La columna \"id\" en la tabla \"amigos\"\n",
    "- La columna \"id Persona\" en la tabla \"universidad\"\n"
   ]
  },
  {
   "cell_type": "code",
   "execution_count": 49,
   "id": "bf9791ea",
   "metadata": {},
   "outputs": [
    {
     "name": "stdout",
     "output_type": "stream",
     "text": [
      "Index(['Id', 'Nombre', 'Apellido Pat', 'Apellido Mat', 'Edad', 'Altura',\n",
      "       'Peso'],\n",
      "      dtype='object')\n"
     ]
    }
   ],
   "source": [
    "print(amigos.columns)"
   ]
  },
  {
   "cell_type": "code",
   "execution_count": 50,
   "id": "f6cd3814-1cf1-47cf-98be-2dac3bcd3573",
   "metadata": {},
   "outputs": [],
   "source": [
    "estudiantes = pd.merge(amigos, universidad, left_on='Id', right_on='Id Persona')"
   ]
  },
  {
   "cell_type": "markdown",
   "id": "a7aeac96",
   "metadata": {},
   "source": [
    "Muestra los primeros elementos\n"
   ]
  },
  {
   "cell_type": "code",
   "execution_count": 51,
   "id": "6aefe781-fce0-475e-b583-09642e942696",
   "metadata": {},
   "outputs": [
    {
     "name": "stdout",
     "output_type": "stream",
     "text": [
      "   Id   Nombre Apellido Pat  Apellido Mat  Edad  Altura  Peso Num Control  \\\n",
      "0   1   Sergio      Negrete         Terán    18     163  90.9    SeNeTe01   \n",
      "1   2     Jean       Vidrio        Piñeda    23     166  61.3    JeViPi02   \n",
      "2   3    María        Feria         Núñez    22     185  77.1    MaFeNú03   \n",
      "3   4  William   Valdovinos         López    22     155  84.6    WiVaLó04   \n",
      "4   5  Bastian   Richardson  De La Fuente    17     187  87.0    BaRiDe05   \n",
      "\n",
      "               Carrera  Semestre Inscripción  Id Persona  \n",
      "0  Lic. en nutriología         7  2015-05-20           1  \n",
      "1         Ing. química         8  2015-05-02           2  \n",
      "2      Lic. en derecho         6  2015-05-09           3  \n",
      "3     Ing. en sistemas         2  2016-12-03           4  \n",
      "4     Ing. mecatrónica        10  2018-12-01           5  \n"
     ]
    }
   ],
   "source": [
    "print(estudiantes.head())"
   ]
  },
  {
   "cell_type": "markdown",
   "id": "1159dfcb-d59b-48f4-89b6-a1b5778595a0",
   "metadata": {},
   "source": [
    "**Ejercicio 15:**\n"
   ]
  },
  {
   "cell_type": "markdown",
   "id": "55d97f65-d5b4-4a8d-90c9-d6ef6759c209",
   "metadata": {},
   "source": [
    "Cambiar todas las letras a mayúscula en la columna \"Num Control\" del Dataframe \"estudiantes\". Verifica que los cambios han sido aplicados en el DataFrame\n"
   ]
  },
  {
   "cell_type": "code",
   "execution_count": 52,
   "id": "545685a7-641e-412c-a0e4-568654ce2220",
   "metadata": {},
   "outputs": [
    {
     "name": "stdout",
     "output_type": "stream",
     "text": [
      "     Id     Nombre Apellido Pat  Apellido Mat  Edad  Altura  Peso Num Control  \\\n",
      "0     1     Sergio      Negrete         Terán    18     163  90.9    SENETE01   \n",
      "1     2       Jean       Vidrio        Piñeda    23     166  61.3    JEVIPI02   \n",
      "2     3      María        Feria         Núñez    22     185  77.1    MAFENÚ03   \n",
      "3     4    William   Valdovinos         López    22     155  84.6    WIVALÓ04   \n",
      "4     5    Bastian   Richardson  De La Fuente    17     187  87.0    BARIDE05   \n",
      "..  ...        ...          ...           ...   ...     ...   ...         ...   \n",
      "95   96  Stephanie         Peña         Rubio    20     188  52.9    STPERU96   \n",
      "96   97     Marvin        Ramón          Ríos    24     167  98.3    MARARÍ97   \n",
      "97   98    Nicolás        Bravo       Pascual    19     171  76.7    NIBRPA98   \n",
      "98   99       Lily       Ávalos         Salín    19     168  58.6    LIÁVSA99   \n",
      "99  100     Moises      Navarro       Briones    21     171  55.2   MONABR100   \n",
      "\n",
      "                Carrera  Semestre Inscripción  Id Persona  \n",
      "0   Lic. en nutriología         7  2015-05-20           1  \n",
      "1          Ing. química         8  2015-05-02           2  \n",
      "2       Lic. en derecho         6  2015-05-09           3  \n",
      "3      Ing. en sistemas         2  2016-12-03           4  \n",
      "4      Ing. mecatrónica        10  2018-12-01           5  \n",
      "..                  ...       ...         ...         ...  \n",
      "95  Lic. en nutriología         2  2015-12-15          96  \n",
      "96      Lic. en derecho         7  2016-12-28          97  \n",
      "97     Ing. mecatrónica         8  2015-05-14          98  \n",
      "98  Lic. en nutriología         4  2016-05-28          99  \n",
      "99     Ing. mecatrónica         2  2018-05-11         100  \n",
      "\n",
      "[100 rows x 12 columns]\n"
     ]
    }
   ],
   "source": [
    "estudiantes['Num Control'] = estudiantes['Num Control'].str.upper()\n",
    "print(estudiantes)"
   ]
  },
  {
   "cell_type": "markdown",
   "id": "3324d3f5-a77a-42c0-ba7e-25313e43bb58",
   "metadata": {},
   "source": [
    "**Ejercicio 16:**\n"
   ]
  },
  {
   "cell_type": "markdown",
   "id": "d907b4dc-301e-4b21-bde5-4dd96fdcd076",
   "metadata": {},
   "source": [
    "Cambiar la primera letra de cada palabra a mayúscula en la columna \"Carrera\" del DataFrame \"estudiantes\". Verificar que se han cambiado los datos\n"
   ]
  },
  {
   "cell_type": "code",
   "execution_count": 53,
   "id": "7ec02ffd-eef3-4e3e-b2e9-59450b94d3bd",
   "metadata": {},
   "outputs": [
    {
     "name": "stdout",
     "output_type": "stream",
     "text": [
      "     Id     Nombre Apellido Pat  Apellido Mat  Edad  Altura  Peso Num Control  \\\n",
      "0     1     Sergio      Negrete         Terán    18     163  90.9    SENETE01   \n",
      "1     2       Jean       Vidrio        Piñeda    23     166  61.3    JEVIPI02   \n",
      "2     3      María        Feria         Núñez    22     185  77.1    MAFENÚ03   \n",
      "3     4    William   Valdovinos         López    22     155  84.6    WIVALÓ04   \n",
      "4     5    Bastian   Richardson  De La Fuente    17     187  87.0    BARIDE05   \n",
      "..  ...        ...          ...           ...   ...     ...   ...         ...   \n",
      "95   96  Stephanie         Peña         Rubio    20     188  52.9    STPERU96   \n",
      "96   97     Marvin        Ramón          Ríos    24     167  98.3    MARARÍ97   \n",
      "97   98    Nicolás        Bravo       Pascual    19     171  76.7    NIBRPA98   \n",
      "98   99       Lily       Ávalos         Salín    19     168  58.6    LIÁVSA99   \n",
      "99  100     Moises      Navarro       Briones    21     171  55.2   MONABR100   \n",
      "\n",
      "                Carrera  Semestre Inscripción  Id Persona  \n",
      "0   Lic. En Nutriología         7  2015-05-20           1  \n",
      "1          Ing. Química         8  2015-05-02           2  \n",
      "2       Lic. En Derecho         6  2015-05-09           3  \n",
      "3      Ing. En Sistemas         2  2016-12-03           4  \n",
      "4      Ing. Mecatrónica        10  2018-12-01           5  \n",
      "..                  ...       ...         ...         ...  \n",
      "95  Lic. En Nutriología         2  2015-12-15          96  \n",
      "96      Lic. En Derecho         7  2016-12-28          97  \n",
      "97     Ing. Mecatrónica         8  2015-05-14          98  \n",
      "98  Lic. En Nutriología         4  2016-05-28          99  \n",
      "99     Ing. Mecatrónica         2  2018-05-11         100  \n",
      "\n",
      "[100 rows x 12 columns]\n"
     ]
    }
   ],
   "source": [
    "estudiantes['Carrera'] = estudiantes['Carrera'].str.title()\n",
    "print(estudiantes)"
   ]
  },
  {
   "cell_type": "markdown",
   "id": "385775b3-86a0-4715-908b-dfa75dca95f2",
   "metadata": {},
   "source": [
    "**Ejercicio 17:**\n"
   ]
  },
  {
   "cell_type": "markdown",
   "id": "fcba16b5",
   "metadata": {},
   "source": [
    "Agrega una columna llamada \"Año\" que contenga el año en que el estudiante se inscribió a la carrera del DataFrame \"estudiantes\"\n"
   ]
  },
  {
   "cell_type": "code",
   "execution_count": 64,
   "id": "48bd6a57",
   "metadata": {},
   "outputs": [],
   "source": [
    "estudiantes.insert(1,'Año', 1999)"
   ]
  },
  {
   "cell_type": "markdown",
   "id": "b8a7f523-541e-4ffc-9090-f6a18f852ef2",
   "metadata": {},
   "source": [
    "**Ejercicio 18:**\n"
   ]
  },
  {
   "cell_type": "markdown",
   "id": "88696800-dfdf-4b5f-bf3b-8412b1a84e19",
   "metadata": {},
   "source": [
    "Agregar una columna llamada \"Año\" que contenga el año y mes en que el estudiante se inscribió a la carrera del DataFrame \"estudiantes\"\n"
   ]
  },
  {
   "cell_type": "code",
   "execution_count": 66,
   "id": "fdc54d32-3db7-4e6c-a9ef-b87680bcc1fd",
   "metadata": {},
   "outputs": [
    {
     "name": "stdout",
     "output_type": "stream",
     "text": [
      "     Id         Año     Nombre Apellido Pat  Apellido Mat  Edad  Altura  Peso  \\\n",
      "0     1  1999-Julio     Sergio      Negrete         Terán    18     163  90.9   \n",
      "1     2  1999-Julio       Jean       Vidrio        Piñeda    23     166  61.3   \n",
      "2     3  1999-Julio      María        Feria         Núñez    22     185  77.1   \n",
      "3     4  1999-Julio    William   Valdovinos         López    22     155  84.6   \n",
      "4     5  1999-Julio    Bastian   Richardson  De La Fuente    17     187  87.0   \n",
      "..  ...         ...        ...          ...           ...   ...     ...   ...   \n",
      "95   96  1999-Julio  Stephanie         Peña         Rubio    20     188  52.9   \n",
      "96   97  1999-Julio     Marvin        Ramón          Ríos    24     167  98.3   \n",
      "97   98  1999-Julio    Nicolás        Bravo       Pascual    19     171  76.7   \n",
      "98   99  1999-Julio       Lily       Ávalos         Salín    19     168  58.6   \n",
      "99  100  1999-Julio     Moises      Navarro       Briones    21     171  55.2   \n",
      "\n",
      "   Num Control              Carrera  Semestre Inscripción  Id Persona  \n",
      "0     SENETE01  Lic. En Nutriología         7  2015-05-20           1  \n",
      "1     JEVIPI02         Ing. Química         8  2015-05-02           2  \n",
      "2     MAFENÚ03      Lic. En Derecho         6  2015-05-09           3  \n",
      "3     WIVALÓ04     Ing. En Sistemas         2  2016-12-03           4  \n",
      "4     BARIDE05     Ing. Mecatrónica        10  2018-12-01           5  \n",
      "..         ...                  ...       ...         ...         ...  \n",
      "95    STPERU96  Lic. En Nutriología         2  2015-12-15          96  \n",
      "96    MARARÍ97      Lic. En Derecho         7  2016-12-28          97  \n",
      "97    NIBRPA98     Ing. Mecatrónica         8  2015-05-14          98  \n",
      "98    LIÁVSA99  Lic. En Nutriología         4  2016-05-28          99  \n",
      "99   MONABR100     Ing. Mecatrónica         2  2018-05-11         100  \n",
      "\n",
      "[100 rows x 13 columns]\n"
     ]
    }
   ],
   "source": [
    "estudiantes = estudiantes.drop(['Año'], axis=1)\n",
    "estudiantes.insert(1,'Año', '1999-Julio')\n",
    "print(estudiantes)"
   ]
  },
  {
   "cell_type": "markdown",
   "id": "e1fa802b-7974-471d-a02a-7e17a6ab7ae4",
   "metadata": {},
   "source": [
    "**Ejercicio 19:**\n"
   ]
  },
  {
   "cell_type": "markdown",
   "id": "28e17497-4e11-4fad-9cf5-727078caf77e",
   "metadata": {},
   "source": [
    "Crea un DataFrame llamado \"licenciados\" que contenga los datos de los estudiantes inscritos a una licenciatura\n"
   ]
  },
  {
   "cell_type": "code",
   "execution_count": 71,
   "id": "65137100-5cbc-4047-b8c7-bc9d20e0e3ca",
   "metadata": {},
   "outputs": [],
   "source": [
    "licenciados = estudiantes[estudiantes[\"Carrera\"].str.startswith(\"Lic.\")]"
   ]
  },
  {
   "cell_type": "code",
   "execution_count": 72,
   "id": "4dc9a50d",
   "metadata": {},
   "outputs": [
    {
     "name": "stdout",
     "output_type": "stream",
     "text": [
      "    Id         Año       Nombre  Apellido Pat Apellido Mat  Edad  Altura  \\\n",
      "0    1  1999-Julio       Sergio       Negrete        Terán    18     163   \n",
      "2    3  1999-Julio        María         Feria        Núñez    22     185   \n",
      "7    8  1999-Julio        Jamir       Aguirre     Escobedo    17     169   \n",
      "8    9  1999-Julio      Claudia        Hernán        Arias    23     165   \n",
      "12  13  1999-Julio       Rafael      Berlanga       Burgos    20     167   \n",
      "13  14  1999-Julio        Elías         Durán       Aburto    17     185   \n",
      "14  15  1999-Julio       Deymar         Rubio        Trejo    24     182   \n",
      "16  17  1999-Julio       Nelson         Rubio     Guerrero    24     162   \n",
      "17  18  1999-Julio        Maria      Gallegos       Becker    20     161   \n",
      "18  19  1999-Julio        Félix      Llorente        Salín    23     188   \n",
      "19  20  1999-Julio      Claudio     Escalante       Pizano    22     169   \n",
      "23  24  1999-Julio     Casimiro    Richardson        Tapia    26     185   \n",
      "25  26  1999-Julio       Asfand       Posadas     Laguillo    21     179   \n",
      "27  28  1999-Julio       André           Luna       Llanos    26     174   \n",
      "28  29  1999-Julio        Elisa         Hijar       Favela    22     160   \n",
      "30  31  1999-Julio        Bruno        Cuenca       Ocampo    23     167   \n",
      "32  33  1999-Julio         Lisa       Márquez        Salas    17     163   \n",
      "33  34  1999-Julio       Álvaro         Prado         Lima    23     161   \n",
      "34  35  1999-Julio     Casimiro        Olvera   Barrientos    21     184   \n",
      "36  37  1999-Julio   Cuauhtemoc       Vallejo        Rubio    26     164   \n",
      "38  39  1999-Julio        Mauro         Feria       Cuevas    22     188   \n",
      "40  41  1999-Julio        Helio        Moreno      Alcocer    23     182   \n",
      "41  42  1999-Julio       Pamela       Soberón       Ortega    17     172   \n",
      "42  43  1999-Julio     Leopoldo       Infante       Nathal    19     174   \n",
      "43  44  1999-Julio      Claudio        Cetina     Espinoza    20     169   \n",
      "46  47  1999-Julio      Esteban       Mendoza      Cervera    20     167   \n",
      "47  48  1999-Julio       Sergio    Valdovinos         Said    22     156   \n",
      "49  50  1999-Julio       Monica      Valencia       García    26     180   \n",
      "50  51  1999-Julio         Adán      Sandoval       Campos    17     181   \n",
      "52  53  1999-Julio  Maximiliano  De La Fuente       Ortega    26     173   \n",
      "53  54  1999-Julio     Federico          Cruz    Maldonado    23     168   \n",
      "56  57  1999-Julio         Lara     Fernández         Vera    19     167   \n",
      "57  58  1999-Julio       Eugene      Peñalosa       Llamas    17     172   \n",
      "59  60  1999-Julio      Liliana       Meneses       Acosta    21     171   \n",
      "60  61  1999-Julio        Diana        Quiroz      Pascual    21     156   \n",
      "62  63  1999-Julio      Mildred          Luna      Escobar    19     190   \n",
      "70  71  1999-Julio          Eva      Llorente       Aburto    22     189   \n",
      "75  76  1999-Julio       Isabel         Rocha     Valencia    21     181   \n",
      "80  81  1999-Julio        Johan     Sepúlvedo    Maldonado    20     183   \n",
      "81  82  1999-Julio          Eva        Cuenca      Briones    22     176   \n",
      "84  85  1999-Julio        Félix         Rivas         Lacy    23     158   \n",
      "85  86  1999-Julio        Clara        Arenas         Vega    19     189   \n",
      "86  87  1999-Julio     Leopoldo        Ocampo         Díaz    18     155   \n",
      "88  89  1999-Julio       Germán       Lazcano     Valencia    23     171   \n",
      "90  91  1999-Julio        Lucía       Galindo     Alvarado    18     158   \n",
      "92  93  1999-Julio      Orlando          Vera      Treviño    22     179   \n",
      "95  96  1999-Julio    Stephanie          Peña        Rubio    20     188   \n",
      "96  97  1999-Julio       Marvin         Ramón         Ríos    24     167   \n",
      "98  99  1999-Julio         Lily        Ávalos        Salín    19     168   \n",
      "\n",
      "    Peso Num Control              Carrera  Semestre Inscripción  Id Persona  \n",
      "0   90.9    SENETE01  Lic. En Nutriología         7  2015-05-20           1  \n",
      "2   77.1    MAFENÚ03      Lic. En Derecho         6  2015-05-09           3  \n",
      "7   77.5    JAAGES08      Lic. En Derecho         7  2018-12-12           8  \n",
      "8   54.0    CLHEAR09  Lic. En Nutriología         4  2015-05-01           9  \n",
      "12  56.1    RABEBU13      Lic. En Derecho        10  2017-05-21          13  \n",
      "13  65.0    ELDUAB14    Lic. En Pedagogía         4  2018-05-16          14  \n",
      "14  85.6    DERUTR15      Lic. En Derecho         8  2017-12-25          15  \n",
      "16  86.5    NERUGU17  Lic. En Nutriología         8  2018-12-10          17  \n",
      "17  87.3    MAGABE18      Lic. En Derecho         1  2018-12-02          18  \n",
      "18  78.5    FÉLLSA19  Lic. En Nutriología         3  2018-12-18          19  \n",
      "19  55.6    CLESPI20  Lic. En Nutriología         2  2016-12-22          20  \n",
      "23  54.6    CARITA24  Lic. En Nutriología        10  2017-12-24          24  \n",
      "25  60.3    ASPOLA26      Lic. En Derecho         6  2016-05-15          26  \n",
      "27  85.9    ANLULL28    Lic. En Pedagogía         4  2015-12-13          28  \n",
      "28  50.2    ELHIFA29    Lic. En Pedagogía         2  2016-05-04          29  \n",
      "30  77.3    BRCUOC31    Lic. En Pedagogía         1  2015-05-06          31  \n",
      "32  93.9    LIMÁSA33      Lic. En Derecho         5  2018-12-01          33  \n",
      "33  59.8    ÁLPRLI34      Lic. En Derecho         2  2017-05-02          34  \n",
      "34  67.4    CAOLBA35    Lic. En Pedagogía         4  2018-05-27          35  \n",
      "36  85.5    CUVARU37  Lic. En Nutriología        10  2016-12-08          37  \n",
      "38  78.0    MAFECU39  Lic. En Nutriología         3  2016-12-20          39  \n",
      "40  74.3    HEMOAL41  Lic. En Nutriología         2  2017-12-26          41  \n",
      "41  72.6    PASOOR42  Lic. En Nutriología         4  2017-05-23          42  \n",
      "42  62.6    LEINNA43  Lic. En Nutriología         7  2018-12-11          43  \n",
      "43  68.4    CLCEES44  Lic. En Nutriología         8  2017-12-22          44  \n",
      "46  66.6    ESMECE47  Lic. En Nutriología         9  2017-12-24          47  \n",
      "47  97.2    SEVASA48      Lic. En Derecho         6  2016-05-09          48  \n",
      "49  95.8    MOVAGA50      Lic. En Derecho         7  2018-12-17          50  \n",
      "50  61.6    ADSACA51      Lic. En Derecho         3  2015-12-07          51  \n",
      "52  67.7    MADEOR53    Lic. En Pedagogía        10  2018-05-26          53  \n",
      "53  94.9    FECRMA54    Lic. En Pedagogía         2  2018-05-27          54  \n",
      "56  55.5    LAFEVE57      Lic. En Derecho         7  2018-05-16          57  \n",
      "57  78.4    EUPELL58    Lic. En Pedagogía         6  2017-12-20          58  \n",
      "59  99.9    LIMEAC60  Lic. En Nutriología         3  2015-05-06          60  \n",
      "60  88.9    DIQUPA61      Lic. En Derecho         9  2018-12-14          61  \n",
      "62  52.7    MILUES63    Lic. En Pedagogía         6  2017-05-01          63  \n",
      "70  83.1    EVLLAB71    Lic. En Pedagogía         3  2017-05-24          71  \n",
      "75  58.9    ISROVA76    Lic. En Pedagogía         1  2018-05-27          76  \n",
      "80  98.8    JOSEMA81    Lic. En Pedagogía         3  2015-12-16          81  \n",
      "81  65.4    EVCUBR82  Lic. En Nutriología         7  2015-05-15          82  \n",
      "84  83.0    FÉRILA85      Lic. En Derecho         4  2015-05-28          85  \n",
      "85  56.0    CLARVE86      Lic. En Derecho         3  2017-05-09          86  \n",
      "86  57.1    LEOCDÍ87    Lic. En Pedagogía         8  2018-05-03          87  \n",
      "88  59.9    GELAVA89      Lic. En Derecho         5  2015-05-25          89  \n",
      "90  94.8    LUGAAL91  Lic. En Nutriología         9  2017-05-18          91  \n",
      "92  61.1    ORVETR93  Lic. En Nutriología         1  2015-05-03          93  \n",
      "95  52.9    STPERU96  Lic. En Nutriología         2  2015-12-15          96  \n",
      "96  98.3    MARARÍ97      Lic. En Derecho         7  2016-12-28          97  \n",
      "98  58.6    LIÁVSA99  Lic. En Nutriología         4  2016-05-28          99  \n"
     ]
    }
   ],
   "source": [
    "print(licenciados)"
   ]
  },
  {
   "cell_type": "markdown",
   "id": "a6008ae4-8a10-4ff4-92f1-1f82b82c8b5a",
   "metadata": {},
   "source": [
    "**Ejercicio 20:**\n"
   ]
  },
  {
   "cell_type": "markdown",
   "id": "ad017f47-c974-4168-9c79-bd407cec5ef8",
   "metadata": {},
   "source": [
    "Contar la cantidad de licenciados inscritos por cada año utilizando groupby\n"
   ]
  },
  {
   "cell_type": "code",
   "execution_count": 82,
   "id": "c8b9b36b-7bfb-4027-91ea-626227546983",
   "metadata": {},
   "outputs": [
    {
     "name": "stdout",
     "output_type": "stream",
     "text": [
      "Año_inscripción\n",
      "2015    13\n",
      "2016     8\n",
      "2017    13\n",
      "2018    15\n",
      "dtype: int64\n"
     ]
    }
   ],
   "source": [
    "licenciados.loc[:,'Inscripción'] = pd.to_datetime(licenciados['Inscripción'])\n",
    "licenciados.loc[:,'Año_inscripción'] = licenciados['Inscripción'].dt.year\n",
    "licenciados_por_año = licenciados.groupby('Año_inscripción').size()\n",
    "print(licenciados_por_año)\n",
    "\n",
    "#El loc evita el warning, modifico la columna directamente."
   ]
  },
  {
   "cell_type": "markdown",
   "id": "f4a1fbc0",
   "metadata": {},
   "source": [
    "Dibuja un **gráfico de barras** con estas estadísticas con el **título** \"Inscripción de Licenciados por Año\"\n"
   ]
  },
  {
   "cell_type": "code",
   "execution_count": null,
   "id": "e90ab432",
   "metadata": {},
   "outputs": [
    {
     "data": {
      "image/png": "[encoded data removed]",
      "text/plain": [
       "<Figure size 640x480 with 1 Axes>"
      ]
     },
     "metadata": {},
     "output_type": "display_data"
    }
   ],
   "source": [
    "import matplotlib.pyplot as plt\n",
    "\n",
    "licenciados_por_año.plot()\n",
    "plt.title(\"Inscripción de Licenciados por Año\")\n",
    "plt.show()"
   ]
  },
  {
   "cell_type": "markdown",
   "id": "a7eafbf0-968b-41cb-b966-c67bb42bf049",
   "metadata": {},
   "source": [
    "**Ejercicio 21:**\n"
   ]
  },
  {
   "cell_type": "markdown",
   "id": "f07668c4-1d9a-46e9-8e6d-a80aaeb3961c",
   "metadata": {},
   "source": [
    "Contar la cantidad de alumnos inscritos en cada año separado por licenciatura utilizando pivot_table\n"
   ]
  },
  {
   "cell_type": "code",
   "execution_count": 95,
   "id": "62f98dce-8e1e-4749-86b4-e1bed5f44081",
   "metadata": {},
   "outputs": [
    {
     "name": "stdout",
     "output_type": "stream",
     "text": [
      "Carrera          Lic. En Derecho  Lic. En Nutriología  Lic. En Pedagogía\n",
      "Año_inscripción                                                         \n",
      "2015                           4                    6                  3\n",
      "2016                           3                    4                  1\n",
      "2017                           4                    6                  3\n",
      "2018                           6                    3                  6\n"
     ]
    }
   ],
   "source": [
    "tabla_pivot = licenciados.pivot_table(\n",
    "    index='Año_inscripción',\n",
    "    columns='Carrera',\n",
    "    values='Id',\n",
    "    aggfunc='count'\n",
    ")\n",
    "\n",
    "print(tabla_pivot)"
   ]
  },
  {
   "cell_type": "code",
   "execution_count": 93,
   "id": "eaa083f2",
   "metadata": {},
   "outputs": [
    {
     "name": "stdout",
     "output_type": "stream",
     "text": [
      "Index(['Id', 'Año', 'Nombre', 'Apellido Pat', 'Apellido Mat', 'Edad', 'Altura',\n",
      "       'Peso', 'Num Control', 'Carrera', 'Semestre', 'Inscripción',\n",
      "       'Id Persona', 'Año_inscripción'],\n",
      "      dtype='object')\n"
     ]
    }
   ],
   "source": [
    "print(licenciados.columns)"
   ]
  },
  {
   "cell_type": "markdown",
   "id": "f2b03bdc",
   "metadata": {},
   "source": [
    "Dibuja la gráfica con estos números\n"
   ]
  },
  {
   "cell_type": "code",
   "execution_count": 96,
   "id": "a600baad",
   "metadata": {},
   "outputs": [
    {
     "data": {
      "image/png": "[encoded data removed]",
      "text/plain": [
       "<Figure size 640x480 with 1 Axes>"
      ]
     },
     "metadata": {},
     "output_type": "display_data"
    }
   ],
   "source": [
    "tabla_pivot.plot()\n",
    "plt.title(\"Inscripción de Licenciados por año y licenciatura\")\n",
    "plt.show()"
   ]
  }
 ],
 "metadata": {
  "kernelspec": {
   "display_name": ".env",
   "language": "python",
   "name": "python3"
  },
  "language_info": {
   "codemirror_mode": {
    "name": "ipython",
    "version": 3
   },
   "file_extension": ".py",
   "mimetype": "text/x-python",
   "name": "python",
   "nbconvert_exporter": "python",
   "pygments_lexer": "ipython3",
   "version": "3.12.3"
  }
 },
 "nbformat": 4,
 "nbformat_minor": 5
}
