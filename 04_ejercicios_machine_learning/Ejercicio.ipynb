{
  "nbformat": 4,
  "nbformat_minor": 0,
  "metadata": {
    "colab": {
      "provenance": []
    },
    "kernelspec": {
      "name": "python3",
      "display_name": "Python 3"
    },
    "language_info": {
      "name": "python"
    }
  },
  "cells": [
    {
      "cell_type": "markdown",
      "source": [
        "# Ejercicio: Clasificación de Flores Iris con Scikit-Learn\n",
        "\n",
        "### Objetivo\n",
        "Construir un modelo de Machine Learning para clasificar flores de la base de\n",
        "datos Iris usando scikit-learn.\n",
        "\n",
        "### Descripción\n",
        "El conjunto de datos Iris contiene información sobre 150 flores de tres especies diferentes (setosa, versicolor y virginica). Cada flor tiene cuatro características:\n",
        "- Largo del sépalo (cm)\n",
        "- Ancho del sépalo (cm)\n",
        "- Largo del pétalo (cm)\n",
        "- Ancho del pétalo (cm)\n",
        "\n",
        "El objetivo es entrenar un modelo de clasificación que pueda predecir la especie de una flor en función de sus características.\n",
        "\n",
        "## Tareas\n",
        "Crea un libro de Jupyter y ve implementando los siguientes pasos del ejercicio.\n",
        "Usa bloques de documentación (Markdown) junto con bloques de código. Ve\n",
        "paso a paso."
      ],
      "metadata": {
        "id": "9mghfcVNojoE"
      }
    },
    {
      "cell_type": "markdown",
      "source": [
        "1. Carga del conjunto de datos.\n",
        "Utiliza datasets.load_iris() de scikit-learn para cargar los datos."
      ],
      "metadata": {
        "id": "YzYEKQRdpQuW"
      }
    },
    {
      "cell_type": "code",
      "source": [
        "import pandas as pd\n",
        "from sklearn import datasets\n",
        "iris = datasets.load_iris()\n",
        "#Crea el dataframe con los datos y los nombres de las columnas\n",
        "df = pd.DataFrame(iris.data, columns=iris.feature_names)\n",
        "#Añade la columna de etiquetas\n",
        "df['target'] = iris.target\n",
        "# Añade la columna con el nombre de la especie\n",
        "df['especies'] = df['target'].apply(lambda x: iris.target_names[x])\n"
      ],
      "metadata": {
        "id": "9DoLfVz_pjyL"
      },
      "execution_count": 1,
      "outputs": []
    },
    {
      "cell_type": "markdown",
      "source": [
        "2. Exploración de datos\n",
        "- Muestra los primeros registros de las características y etiquetas.\n",
        "- ¿Cuántas muestras hay por cada especie?"
      ],
      "metadata": {
        "id": "4cE4NPq4qwuT"
      }
    },
    {
      "cell_type": "code",
      "source": [
        "print(\"Los primeros registros:\")\n",
        "print(df.head())\n",
        "print()\n",
        "print(\"Las etiquetas:\")\n",
        "print(df.columns)\n",
        "print()\n",
        "print(\"Número de muestras por especie:\")\n",
        "print(df.groupby('especies').size())"
      ],
      "metadata": {
        "colab": {
          "base_uri": "https://localhost:8080/"
        },
        "id": "zxt49eBzq6tY",
        "outputId": "be43f017-e143-4227-b578-e67590f3fe7c"
      },
      "execution_count": 2,
      "outputs": [
        {
          "output_type": "stream",
          "name": "stdout",
          "text": [
            "Los primeros registros:\n",
            "   sepal length (cm)  sepal width (cm)  petal length (cm)  petal width (cm)  \\\n",
            "0                5.1               3.5                1.4               0.2   \n",
            "1                4.9               3.0                1.4               0.2   \n",
            "2                4.7               3.2                1.3               0.2   \n",
            "3                4.6               3.1                1.5               0.2   \n",
            "4                5.0               3.6                1.4               0.2   \n",
            "\n",
            "   target especies  \n",
            "0       0   setosa  \n",
            "1       0   setosa  \n",
            "2       0   setosa  \n",
            "3       0   setosa  \n",
            "4       0   setosa  \n",
            "\n",
            "Las etiquetas:\n",
            "Index(['sepal length (cm)', 'sepal width (cm)', 'petal length (cm)',\n",
            "       'petal width (cm)', 'target', 'especies'],\n",
            "      dtype='object')\n",
            "\n",
            "Número de muestras por especie:\n",
            "especies\n",
            "setosa        50\n",
            "versicolor    50\n",
            "virginica     50\n",
            "dtype: int64\n"
          ]
        }
      ]
    },
    {
      "cell_type": "markdown",
      "source": [
        "3. División del conjunto de datos\n",
        "\n",
        "Divide los datos en conjunto de entrenamiento (80%) y conjunto de\n",
        "prueba (20%) usando train_test_split()"
      ],
      "metadata": {
        "id": "f261_P2_yj0t"
      }
    },
    {
      "cell_type": "code",
      "source": [
        "# Separar variables\n",
        "X = df[['petal length (cm)']]\n",
        "y = df['especies']"
      ],
      "metadata": {
        "id": "zty4sjPC2Xpv"
      },
      "execution_count": 3,
      "outputs": []
    },
    {
      "cell_type": "code",
      "source": [
        "# División en entrenamiento y prueba\n",
        "from sklearn.model_selection import train_test_split\n",
        "X_train, X_test, y_train, y_test = train_test_split(X, y, test_size=0.2, random_state=0)"
      ],
      "metadata": {
        "id": "uKe5w3CMyuV1"
      },
      "execution_count": 5,
      "outputs": []
    },
    {
      "cell_type": "markdown",
      "source": [
        "4. Entrenamiento de un modelo\n",
        "- Entrena un clasificador como DecisionTreeClassifier o KNeighborsClassifier.\n",
        "- Ajusta el modelo con el conjunto de entrenamiento\n"
      ],
      "metadata": {
        "id": "Q7vSLW1myvCf"
      }
    },
    {
      "cell_type": "code",
      "source": [
        "from sklearn.tree import DecisionTreeClassifier\n",
        "\n",
        "modelo = DecisionTreeClassifier()\n",
        "modelo.fit(X_train, y_train)\n",
        "y_pred_dt = modelo.predict(X_test)"
      ],
      "metadata": {
        "id": "YvVg9uVOy276"
      },
      "execution_count": 6,
      "outputs": []
    },
    {
      "cell_type": "markdown",
      "source": [
        "5. Evaluación del modelo\n",
        "- Predice la especie de las flores en el conjunto de prueba.\n",
        "- Calcula la precisión del modelo con accuracy_score() ."
      ],
      "metadata": {
        "id": "euJoMwMiy3mp"
      }
    },
    {
      "cell_type": "code",
      "source": [
        "from sklearn.metrics import accuracy_score, confusion_matrix, classification_report\n",
        "print(\"Precisión:\", accuracy_score(y_test, y_pred_dt))\n",
        "print(confusion_matrix(y_test, y_pred_dt))\n",
        "print(classification_report(y_test, y_pred_dt))"
      ],
      "metadata": {
        "colab": {
          "base_uri": "https://localhost:8080/"
        },
        "id": "EYQ3ckRfy-xP",
        "outputId": "c8575b2f-7804-4168-a1ed-38a817de11d5"
      },
      "execution_count": 7,
      "outputs": [
        {
          "output_type": "stream",
          "name": "stdout",
          "text": [
            "Precisión: 0.9333333333333333\n",
            "[[11  0  0]\n",
            " [ 0 13  0]\n",
            " [ 0  2  4]]\n",
            "              precision    recall  f1-score   support\n",
            "\n",
            "      setosa       1.00      1.00      1.00        11\n",
            "  versicolor       0.87      1.00      0.93        13\n",
            "   virginica       1.00      0.67      0.80         6\n",
            "\n",
            "    accuracy                           0.93        30\n",
            "   macro avg       0.96      0.89      0.91        30\n",
            "weighted avg       0.94      0.93      0.93        30\n",
            "\n"
          ]
        }
      ]
    },
    {
      "cell_type": "markdown",
      "source": [
        "6. Predicción con datos nuevos\n",
        "- Introduce un nuevo conjunto de valores (ejemplo manual) y predice la\n",
        "especie de la flor."
      ],
      "metadata": {
        "id": "92v7wYmYy_CE"
      }
    },
    {
      "cell_type": "code",
      "source": [
        "import numpy as np\n",
        "new_values = np.array([[4.7]])\n",
        "prediction = modelo.predict(new_values)\n",
        "print(\"La especie predicha es:\", {prediction[0]})"
      ],
      "metadata": {
        "id": "7KJkrhhUzFaV",
        "colab": {
          "base_uri": "https://localhost:8080/"
        },
        "outputId": "1631eaf8-2e98-47ba-ea0b-cf6bf520ee53"
      },
      "execution_count": 11,
      "outputs": [
        {
          "output_type": "stream",
          "name": "stdout",
          "text": [
            "La especie predicha es: {np.str_('versicolor')}\n"
          ]
        },
        {
          "output_type": "stream",
          "name": "stderr",
          "text": [
            "/usr/local/lib/python3.11/dist-packages/sklearn/utils/validation.py:2739: UserWarning: X does not have valid feature names, but DecisionTreeClassifier was fitted with feature names\n",
            "  warnings.warn(\n"
          ]
        }
      ]
    },
    {
      "cell_type": "markdown",
      "source": [
        "## Extras (Opcional)\n",
        "- Visualiza la distribución de los datos usando matplotlib o seaborn .\n",
        "- Prueba otros modelos como RandomForestClassifier o SVC y compara los\n",
        "resultados."
      ],
      "metadata": {
        "id": "5f78osYzzGPt"
      }
    },
    {
      "cell_type": "code",
      "source": [
        "import matplotlib.pyplot as plt\n",
        "import seaborn as sns\n",
        "\n",
        "plt.figure(figsize=(8,6))\n",
        "sns.scatterplot(data=df, x=\"petal length (cm)\", y=\"petal width (cm)\", hue=\"especies\", palette=\"Set1\")\n",
        "plt.title(\"Distribución de las flores Iris\")\n",
        "plt.xlabel(\"Largo del pétalo (cm)\")\n",
        "plt.ylabel(\"Ancho del pétalo (cm)\")\n",
        "plt.legend(title=\"Especie\")\n",
        "plt.show()"
      ],
      "metadata": {
        "id": "MtCm1Y3b4tuH",
        "colab": {
          "base_uri": "https://localhost:8080/",
          "height": 565
        },
        "outputId": "693ede76-67dc-4836-ee61-2382106daebc"
      },
      "execution_count": 13,
      "outputs": [
        {
          "output_type": "display_data",
          "data": {
            "text/plain": [
              "<Figure size 800x600 with 1 Axes>"
            ],
            "image/png": "[encoded data removed]"
          },
          "metadata": {}
        }
      ]
    },
    {
      "cell_type": "code",
      "source": [
        "#Probando con random forest\n",
        "from sklearn.ensemble import RandomForestClassifier\n",
        "\n",
        "modelo_rf = RandomForestClassifier(random_state=0)\n",
        "modelo_rf.fit(X_train, y_train)\n",
        "y_pred_rf = modelo_rf.predict(X_test)\n",
        "\n",
        "print(\"Precisión con Random Forest:\", accuracy_score(y_test, y_pred_rf))\n",
        "print(confusion_matrix(y_test, y_pred_rf))\n",
        "print(classification_report(y_test, y_pred_rf))"
      ],
      "metadata": {
        "colab": {
          "base_uri": "https://localhost:8080/"
        },
        "id": "zqXb-ueCNcpX",
        "outputId": "b827c656-539b-4915-83db-b8d52e50784a"
      },
      "execution_count": 14,
      "outputs": [
        {
          "output_type": "stream",
          "name": "stdout",
          "text": [
            "Precisión con Random Forest: 0.9666666666666667\n",
            "[[11  0  0]\n",
            " [ 0 13  0]\n",
            " [ 0  1  5]]\n",
            "              precision    recall  f1-score   support\n",
            "\n",
            "      setosa       1.00      1.00      1.00        11\n",
            "  versicolor       0.93      1.00      0.96        13\n",
            "   virginica       1.00      0.83      0.91         6\n",
            "\n",
            "    accuracy                           0.97        30\n",
            "   macro avg       0.98      0.94      0.96        30\n",
            "weighted avg       0.97      0.97      0.97        30\n",
            "\n"
          ]
        }
      ]
    }
  ]
}