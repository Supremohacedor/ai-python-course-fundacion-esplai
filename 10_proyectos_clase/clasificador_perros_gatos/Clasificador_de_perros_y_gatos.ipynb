{
  "cells": [
    {
      "cell_type": "code",
      "execution_count": null,
      "metadata": {
        "id": "l-T47pwYw8qr"
      },
      "outputs": [
        {
          "ename": "",
          "evalue": "",
          "output_type": "error",
          "traceback": [
            "\u001b[1;31mRunning cells with 'Python 3.12.3' requires the ipykernel package.\n",
            "\u001b[1;31m<a href='command:jupyter.createPythonEnvAndSelectController'>Create a Python Environment</a> with the required packages.\n",
            "\u001b[1;31mOr install 'ipykernel' using the command: '/bin/python3 -m pip install ipykernel -U --user --force-reinstall'"
          ]
        }
      ],
      "source": [
        "import tensorflow as tf\n",
        "import tensorflow_datasets as tfds\n",
        "\n",
        "#Correccion temporal (22/mayo/2022)\n",
        "#Tensorflow datasets tiene error al descargar el set de perros y gatos y lo solucionaron\n",
        "#el 16 de mayo pero sigue fallando en los colabs. Entonces se agrega esta linea adicional\n",
        "#Mas detalle aqui: https://github.com/tensorflow/datasets/issues/3918\n",
        "setattr(tfds.image_classification.cats_vs_dogs, '_URL',\"https://download.microsoft.com/download/3/E/1/3E1C3F21-ECDB-4869-8368-6DEBA77B919F/kagglecatsanddogs_5340.zip\")\n",
        "\n",
        "#Descargar el set de datos de perros y gatos\n",
        "datos, metadatos = tfds.load('cats_vs_dogs', as_supervised=True, with_info=True)"
      ]
    },
    {
      "cell_type": "code",
      "execution_count": null,
      "metadata": {
        "id": "ux4kI-Jvxsqi"
      },
      "outputs": [],
      "source": [
        "#Imprimir los metadatos para revisarlos\n",
        "metadatos"
      ]
    },
    {
      "cell_type": "code",
      "execution_count": null,
      "metadata": {
        "id": "dysfe1mux5nb"
      },
      "outputs": [],
      "source": [
        "#Una forma de mostrar 5 ejemplos del set\n",
        "tfds.as_dataframe(datos['train'].take(5), metadatos)"
      ]
    },
    {
      "cell_type": "code",
      "execution_count": null,
      "metadata": {
        "id": "1YNZO9GAyFgy"
      },
      "outputs": [],
      "source": [
        "#Otra forma de mostrar ejemplos del set\n",
        "tfds.show_examples(datos['train'], metadatos)"
      ]
    },
    {
      "cell_type": "code",
      "execution_count": null,
      "metadata": {
        "id": "BtEYnFkNyN_s"
      },
      "outputs": [],
      "source": [
        "#Manipular y visualizar el set\n",
        "#Lo pasamos a TAMANO_IMG (100x100) y a blanco y negro (solo para visualizar)\n",
        "import matplotlib.pyplot as plt\n",
        "import cv2\n",
        "\n",
        "plt.figure(figsize=(20,20))\n",
        "\n",
        "TAMANO_IMG=100\n",
        "\n",
        "for i, (imagen, etiqueta) in enumerate(datos['train'].take(25)):\n",
        "  imagen = cv2.resize(imagen.numpy(), (TAMANO_IMG, TAMANO_IMG))\n",
        "  imagen = cv2.cvtColor(imagen, cv2.COLOR_BGR2GRAY)\n",
        "  plt.subplot(5, 5, i+1)\n",
        "  plt.xticks([])\n",
        "  plt.yticks([])\n",
        "  plt.imshow(imagen, cmap='gray')"
      ]
    },
    {
      "cell_type": "code",
      "execution_count": null,
      "metadata": {
        "id": "IZL-LNzszqm-"
      },
      "outputs": [],
      "source": [
        "#Variable que contendra todos los pares de los datos (imagen y etiqueta) ya modificados (blanco y negro, 100x100)\n",
        "datos_entrenamiento = []"
      ]
    },
    {
      "cell_type": "code",
      "execution_count": null,
      "metadata": {
        "id": "niuyw2ahzwZy"
      },
      "outputs": [],
      "source": [
        "for i, (imagen, etiqueta) in enumerate(datos['train']): #Todos los datos\n",
        "  imagen = cv2.resize(imagen.numpy(), (TAMANO_IMG, TAMANO_IMG))\n",
        "  imagen = cv2.cvtColor(imagen, cv2.COLOR_BGR2GRAY)\n",
        "  imagen = imagen.reshape(TAMANO_IMG, TAMANO_IMG, 1) #Cambiar tamano a 100,100,1\n",
        "  datos_entrenamiento.append([imagen, etiqueta])"
      ]
    },
    {
      "cell_type": "code",
      "execution_count": null,
      "metadata": {
        "id": "WmRCAO7V0NaF"
      },
      "outputs": [],
      "source": [
        "#Ver los datos del primer indice\n",
        "datos_entrenamiento[0]"
      ]
    },
    {
      "cell_type": "code",
      "execution_count": null,
      "metadata": {
        "id": "FBeI5BBe0Urh"
      },
      "outputs": [],
      "source": [
        "#Ver cuantos datos tengo en la variable\n",
        "len(datos_entrenamiento)"
      ]
    },
    {
      "cell_type": "code",
      "execution_count": null,
      "metadata": {
        "id": "V9EMU7Lh0ZhJ"
      },
      "outputs": [],
      "source": [
        "#Preparar mis variables X (entradas) y y (etiquetas) separadas\n",
        "\n",
        "X = [] #imagenes de entrada (pixeles)\n",
        "y = [] #etiquetas (perro o gato)\n",
        "\n",
        "for imagen, etiqueta in datos_entrenamiento:\n",
        "  X.append(imagen)\n",
        "  y.append(etiqueta)"
      ]
    },
    {
      "cell_type": "code",
      "execution_count": null,
      "metadata": {
        "id": "W2Y96d3A0kkI"
      },
      "outputs": [],
      "source": [
        "X"
      ]
    },
    {
      "cell_type": "code",
      "execution_count": null,
      "metadata": {
        "id": "cN8bd2270t7A"
      },
      "outputs": [],
      "source": [
        "#Normalizar los datos de las X (imagenes). Se pasan a numero flotante y dividen entre 255 para quedar de 0-1 en lugar de 0-255\n",
        "import numpy as np\n",
        "\n",
        "X = np.array(X).astype(float) / 255"
      ]
    },
    {
      "cell_type": "code",
      "execution_count": null,
      "metadata": {
        "id": "SJIGT87l03Yc"
      },
      "outputs": [],
      "source": [
        "y"
      ]
    },
    {
      "cell_type": "code",
      "execution_count": null,
      "metadata": {
        "id": "LJgbpFP-09RC"
      },
      "outputs": [],
      "source": [
        "#Convertir etiquetas en arreglo simple\n",
        "y = np.array(y)"
      ]
    },
    {
      "cell_type": "code",
      "execution_count": null,
      "metadata": {
        "id": "alUTJMCO1BiQ"
      },
      "outputs": [],
      "source": [
        "X.shape"
      ]
    },
    {
      "cell_type": "code",
      "execution_count": null,
      "metadata": {
        "id": "cOEcN2B117SQ"
      },
      "outputs": [],
      "source": [
        "#Crear los modelos iniciales\n",
        "#Usan sigmoid como salida (en lugar de softmax) para mostrar como podria funcionar con dicha funcion de activacion.\n",
        "#Sigmoid regresa siempre datos entre 0 y 1. Realizamos el entrenamiento para al final considerar que si la respuesta se\n",
        "#acerca a 0, es un gato, y si se acerca a 1, es un perro.\n",
        "\n",
        "modeloDenso = tf.keras.models.Sequential([\n",
        "  tf.keras.layers.Flatten(input_shape=(100, 100, 1)),\n",
        "  tf.keras.layers.Dense(150, activation='relu'),\n",
        "  tf.keras.layers.Dense(150, activation='relu'),\n",
        "  tf.keras.layers.Dense(1, activation='sigmoid')\n",
        "])\n",
        "\n",
        "modeloCNN = tf.keras.models.Sequential([\n",
        "  tf.keras.Input(shape=(100,100,1)),\n",
        "  tf.keras.layers.Conv2D(32, (3,3), activation='relu'),\n",
        "  tf.keras.layers.MaxPooling2D(2, 2),\n",
        "  tf.keras.layers.Conv2D(64, (3,3), activation='relu'),\n",
        "  tf.keras.layers.MaxPooling2D(2, 2),\n",
        "  tf.keras.layers.Conv2D(128, (3,3), activation='relu'),\n",
        "  tf.keras.layers.MaxPooling2D(2, 2),\n",
        "\n",
        "  tf.keras.layers.Flatten(),\n",
        "  tf.keras.layers.Dense(100, activation='relu'),\n",
        "  tf.keras.layers.Dense(1, activation='sigmoid')\n",
        "])\n",
        "\n",
        "modeloCNN2 = tf.keras.models.Sequential([\n",
        "  tf.keras.Input(shape=(100, 100, 1)),\n",
        "  tf.keras.layers.Conv2D(32, (3,3), activation='relu'),\n",
        "  tf.keras.layers.MaxPooling2D(2, 2),\n",
        "  tf.keras.layers.Conv2D(64, (3,3), activation='relu'),\n",
        "  tf.keras.layers.MaxPooling2D(2, 2),\n",
        "  tf.keras.layers.Conv2D(128, (3,3), activation='relu'),\n",
        "  tf.keras.layers.MaxPooling2D(2, 2),\n",
        "\n",
        "  tf.keras.layers.Dropout(0.5),\n",
        "  tf.keras.layers.Flatten(),\n",
        "  tf.keras.layers.Dense(250, activation='relu'),\n",
        "  tf.keras.layers.Dense(1, activation='sigmoid')\n",
        "])"
      ]
    },
    {
      "cell_type": "code",
      "execution_count": null,
      "metadata": {
        "id": "eH9e4YSf24hM"
      },
      "outputs": [],
      "source": [
        "#Compilar modelos. Usar crossentropy binario ya que tenemos solo 2 opciones (perro o gato)\n",
        "modeloDenso.compile(optimizer='adam',\n",
        "                    loss='binary_crossentropy',\n",
        "                    metrics=['accuracy'])\n",
        "\n",
        "modeloCNN.compile(optimizer='adam',\n",
        "                    loss='binary_crossentropy',\n",
        "                    metrics=['accuracy'])\n",
        "\n",
        "modeloCNN2.compile(optimizer='adam',\n",
        "                    loss='binary_crossentropy',\n",
        "                    metrics=['accuracy'])"
      ]
    },
    {
      "cell_type": "code",
      "execution_count": null,
      "metadata": {
        "id": "fSbOH3Km3Goj"
      },
      "outputs": [],
      "source": [
        "from tensorflow.keras.callbacks import TensorBoard"
      ]
    },
    {
      "cell_type": "code",
      "execution_count": null,
      "metadata": {
        "collapsed": true,
        "id": "icpR8Ar73NDx"
      },
      "outputs": [],
      "source": [
        "#La variable de tensorboard se envia en el arreglo de \"callbacks\" (hay otros tipos de callbacks soportados)\n",
        "#En este caso guarda datos en la carpeta indicada en cada epoca, de manera que despues\n",
        "#Tensorboard los lee para hacer graficas\n",
        "tensorboardDenso = TensorBoard(log_dir='logs/denso')\n",
        "modeloDenso.fit(X, y, batch_size=32,\n",
        "                validation_split=0.15,\n",
        "                epochs=100,\n",
        "                callbacks=[tensorboardDenso])"
      ]
    },
    {
      "cell_type": "code",
      "execution_count": null,
      "metadata": {
        "id": "vmRBuHwG5BOY"
      },
      "outputs": [],
      "source": [
        "#Cargar la extension de tensorboard de colab\n",
        "%load_ext tensorboard"
      ]
    },
    {
      "cell_type": "code",
      "execution_count": null,
      "metadata": {
        "id": "-_xqqhin5Db_"
      },
      "outputs": [],
      "source": [
        "#Ejecutar tensorboard e indicarle que lea la carpeta \"logs\"\n",
        "%tensorboard --logdir logs"
      ]
    },
    {
      "cell_type": "code",
      "execution_count": null,
      "metadata": {
        "id": "5QY68qkI5d5C"
      },
      "outputs": [],
      "source": [
        "tensorboardCNN = TensorBoard(log_dir='logs/cnn')\n",
        "modeloCNN.fit(X, y, batch_size=32,\n",
        "                validation_split=0.15,\n",
        "                epochs=100,\n",
        "                callbacks=[tensorboardCNN])"
      ]
    },
    {
      "cell_type": "code",
      "execution_count": null,
      "metadata": {
        "id": "LrTNoLjPAKwK"
      },
      "outputs": [],
      "source": [
        "tensorboardCNN2 = TensorBoard(log_dir='logs/cnn2')\n",
        "modeloCNN2.fit(X, y, batch_size=32,\n",
        "                validation_split=0.15,\n",
        "                epochs=100,\n",
        "                callbacks=[tensorboardCNN2])"
      ]
    },
    {
      "cell_type": "code",
      "execution_count": null,
      "metadata": {
        "id": "Y9aiG_8jHqam"
      },
      "outputs": [],
      "source": [
        "#ver las imagenes de la variable X sin modificaciones por aumento de datos\n",
        "plt.figure(figsize=(20, 8))\n",
        "for i in range(10):\n",
        "  plt.subplot(2, 5, i+1)\n",
        "  plt.xticks([])\n",
        "  plt.yticks([])\n",
        "  plt.imshow(X[i].reshape(100, 100), cmap=\"gray\")"
      ]
    },
    {
      "cell_type": "code",
      "execution_count": null,
      "metadata": {
        "id": "t25foGQbH_UD"
      },
      "outputs": [],
      "source": [
        "#Realizar el aumento de datos con varias transformaciones. Al final, graficar 10 como ejemplo\n",
        "from tensorflow.keras.preprocessing.image import ImageDataGenerator\n",
        "\n",
        "datagen = ImageDataGenerator(\n",
        "    rotation_range=30, # angulo de rotacion\n",
        "    width_shift_range=0.2, # desplazamiento lateral\n",
        "    height_shift_range=0.2, # desplazamiento vertical\n",
        "    shear_range=15, # inclinacion de la imagen\n",
        "    zoom_range=[0.7, 1.4], # rango de zoom\n",
        "    horizontal_flip=True, # espejo en el eje Y\n",
        "    vertical_flip=True # espejo en el eje X\n",
        ")\n",
        "\n",
        "datagen.fit(X)\n",
        "\n",
        "plt.figure(figsize=(20,8))\n",
        "\n",
        "for imagen, etiqueta in datagen.flow(X, y, batch_size=10, shuffle=False):\n",
        "  for i in range(10):\n",
        "    plt.subplot(2, 5, i+1)\n",
        "    plt.xticks([])\n",
        "    plt.yticks([])\n",
        "    plt.imshow(imagen[i].reshape(100, 100), cmap=\"gray\")\n",
        "  break"
      ]
    },
    {
      "cell_type": "code",
      "execution_count": null,
      "metadata": {
        "id": "_tRiHZQdJkug"
      },
      "outputs": [],
      "source": [
        "modeloDenso_AD = tf.keras.models.Sequential([\n",
        "  tf.keras.layers.Flatten(input_shape=(100, 100, 1)),\n",
        "  tf.keras.layers.Dense(150, activation='relu'),\n",
        "  tf.keras.layers.Dense(150, activation='relu'),\n",
        "  tf.keras.layers.Dense(1, activation='sigmoid')\n",
        "])\n",
        "\n",
        "modeloCNN_AD = tf.keras.models.Sequential([\n",
        "  tf.keras.layers.Conv2D(32, (3,3), activation='relu', input_shape=(100, 100, 1)),\n",
        "  tf.keras.layers.MaxPooling2D(2, 2),\n",
        "  tf.keras.layers.Conv2D(64, (3,3), activation='relu'),\n",
        "  tf.keras.layers.MaxPooling2D(2, 2),\n",
        "  tf.keras.layers.Conv2D(128, (3,3), activation='relu'),\n",
        "  tf.keras.layers.MaxPooling2D(2, 2),\n",
        "\n",
        "  tf.keras.layers.Flatten(),\n",
        "  tf.keras.layers.Dense(100, activation='relu'),\n",
        "  tf.keras.layers.Dense(1, activation='sigmoid')\n",
        "])\n",
        "\n",
        "modeloCNN2_AD = tf.keras.models.Sequential([\n",
        "  tf.keras.layers.Conv2D(32, (3,3), activation='relu', input_shape=(100, 100, 1)),\n",
        "  tf.keras.layers.MaxPooling2D(2, 2),\n",
        "  tf.keras.layers.Conv2D(64, (3,3), activation='relu'),\n",
        "  tf.keras.layers.MaxPooling2D(2, 2),\n",
        "  tf.keras.layers.Conv2D(128, (3,3), activation='relu'),\n",
        "  tf.keras.layers.MaxPooling2D(2, 2),\n",
        "\n",
        "  tf.keras.layers.Dropout(0.5),\n",
        "  tf.keras.layers.Flatten(),\n",
        "  tf.keras.layers.Dense(250, activation='relu'),\n",
        "  tf.keras.layers.Dense(1, activation='sigmoid')\n",
        "])"
      ]
    },
    {
      "cell_type": "code",
      "execution_count": null,
      "metadata": {
        "id": "yauyCGC3JsZ7"
      },
      "outputs": [],
      "source": [
        "modeloDenso_AD.compile(optimizer='adam',\n",
        "                    loss='binary_crossentropy',\n",
        "                    metrics=['accuracy'])\n",
        "\n",
        "modeloCNN_AD.compile(optimizer='adam',\n",
        "                    loss='binary_crossentropy',\n",
        "                    metrics=['accuracy'])\n",
        "\n",
        "modeloCNN2_AD.compile(optimizer='adam',\n",
        "                    loss='binary_crossentropy',\n",
        "                    metrics=['accuracy'])"
      ]
    },
    {
      "cell_type": "code",
      "execution_count": null,
      "metadata": {
        "id": "6K1eEKx_JyAv"
      },
      "outputs": [],
      "source": [
        "#Separar los datos de entrenamiento y los datos de pruebas en variables diferentes\n",
        "\n",
        "len(X) * .85 #19700\n",
        "len(X) - 19700 #3562\n",
        "\n",
        "X_entrenamiento = X[:19700]\n",
        "X_validacion = X[19700:]\n",
        "\n",
        "y_entrenamiento = y[:19700]\n",
        "y_validacion = y[19700:]"
      ]
    },
    {
      "cell_type": "code",
      "execution_count": null,
      "metadata": {
        "id": "3fgSiSBwKE75"
      },
      "outputs": [],
      "source": [
        "#Usar la funcion flow del generador para crear un iterador que podamos enviar como entrenamiento a la funcion FIT del modelo\n",
        "data_gen_entrenamiento = datagen.flow(X_entrenamiento, y_entrenamiento, batch_size=32)"
      ]
    },
    {
      "cell_type": "code",
      "execution_count": null,
      "metadata": {
        "id": "2WTqrVcKKMpI"
      },
      "outputs": [],
      "source": [
        "tensorboardDenso_AD = TensorBoard(log_dir='logs/denso_AD')\n",
        "\n",
        "modeloDenso_AD.fit(\n",
        "    data_gen_entrenamiento,\n",
        "    epochs=100, batch_size=32,\n",
        "    validation_data=(X_validacion, y_validacion),\n",
        "    steps_per_epoch=int(np.ceil(len(X_entrenamiento) / float(32))),\n",
        "    validation_steps=int(np.ceil(len(X_validacion) / float(32))),\n",
        "    callbacks=[tensorboardDenso_AD]\n",
        ")"
      ]
    },
    {
      "cell_type": "code",
      "execution_count": null,
      "metadata": {
        "id": "OJcJ8OAw8WOJ"
      },
      "outputs": [],
      "source": [
        "tensorboardCNN_AD = TensorBoard(log_dir='logs-new/cnn_AD')\n",
        "\n",
        "modeloCNN_AD.fit(\n",
        "    data_gen_entrenamiento,\n",
        "    epochs=150, batch_size=32,\n",
        "    validation_data=(X_validacion, y_validacion),\n",
        "    steps_per_epoch=int(np.ceil(len(X_entrenamiento) / float(32))),\n",
        "    validation_steps=int(np.ceil(len(X_validacion) / float(32))),\n",
        "    callbacks=[tensorboardCNN_AD]\n",
        ")"
      ]
    },
    {
      "cell_type": "code",
      "execution_count": null,
      "metadata": {
        "id": "1bwOIjLuyAsO"
      },
      "outputs": [],
      "source": [
        "tensorboardCNN2_AD = TensorBoard(log_dir='logs/cnn2_AD')\n",
        "\n",
        "modeloCNN2_AD.fit(\n",
        "    data_gen_entrenamiento,\n",
        "    epochs=100, batch_size=32,\n",
        "    validation_data=(X_validacion, y_validacion),\n",
        "    steps_per_epoch=int(np.ceil(len(X_entrenamiento) / float(32))),\n",
        "    validation_steps=int(np.ceil(len(X_validacion) / float(32))),\n",
        "    callbacks=[tensorboardCNN2_AD]\n",
        ")"
      ]
    },
    {
      "cell_type": "code",
      "execution_count": null,
      "metadata": {
        "id": "2BwhiRKiAwF0"
      },
      "outputs": [],
      "source": [
        "modeloCNN_AD.save('perros-gatos-cnn-ad.h5')"
      ]
    },
    {
      "cell_type": "code",
      "execution_count": null,
      "metadata": {
        "id": "bcUG8NoKA1ee"
      },
      "outputs": [],
      "source": [
        "!pip install tensorflowjs"
      ]
    },
    {
      "cell_type": "code",
      "execution_count": null,
      "metadata": {
        "id": "-8dSa1UzA4eW"
      },
      "outputs": [],
      "source": [
        "!mkdir carpeta_salida"
      ]
    },
    {
      "cell_type": "code",
      "execution_count": null,
      "metadata": {
        "id": "zEE6r07ZA6Mz"
      },
      "outputs": [],
      "source": [
        "!tensorflowjs_converter --input_format keras perros-gatos-cnn-ad.h5 carpeta_salida"
      ]
    }
  ],
  "metadata": {
    "accelerator": "GPU",
    "colab": {
      "provenance": []
    },
    "kernelspec": {
      "display_name": ".venv",
      "language": "python",
      "name": "python3"
    },
    "language_info": {
      "name": "python",
      "version": "3.12.3"
    }
  },
  "nbformat": 4,
  "nbformat_minor": 0
}
