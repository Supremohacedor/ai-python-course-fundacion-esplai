{
  "nbformat": 4,
  "nbformat_minor": 0,
  "metadata": {
    "colab": {
      "provenance": []
    },
    "kernelspec": {
      "name": "python3",
      "display_name": "Python 3"
    },
    "language_info": {
      "name": "python"
    }
  },
  "cells": [
    {
      "cell_type": "code",
      "execution_count": null,
      "metadata": {
        "id": "myEMEb_vTknO"
      },
      "outputs": [],
      "source": []
    },
    {
      "cell_type": "code",
      "source": [
        "import pandas as pd\n",
        "\n",
        "df = pd.DataFrame({\n",
        "    'Edad': [23, 25, None, 22, 120, 25],\n",
        "    'Genero': ['M', 'F', 'F', None, 'F', 'M'],\n",
        "    'Ingresos': [40000, 42000, 38000, 50000, None, 42000]\n",
        "})\n",
        "\n",
        "print(df)\n",
        "print()\n",
        "print(df.info)\n",
        "print()\n",
        "print(df.describe(include='all'))"
      ],
      "metadata": {
        "colab": {
          "base_uri": "https://localhost:8080/"
        },
        "id": "3BVouad6TpLc",
        "outputId": "33343e29-d6d7-4930-f1ee-d36366d19c89"
      },
      "execution_count": 1,
      "outputs": [
        {
          "output_type": "stream",
          "name": "stdout",
          "text": [
            "    Edad Genero  Ingresos\n",
            "0   23.0      M   40000.0\n",
            "1   25.0      F   42000.0\n",
            "2    NaN      F   38000.0\n",
            "3   22.0   None   50000.0\n",
            "4  120.0      F       NaN\n",
            "5   25.0      M   42000.0\n",
            "\n",
            "<bound method DataFrame.info of     Edad Genero  Ingresos\n",
            "0   23.0      M   40000.0\n",
            "1   25.0      F   42000.0\n",
            "2    NaN      F   38000.0\n",
            "3   22.0   None   50000.0\n",
            "4  120.0      F       NaN\n",
            "5   25.0      M   42000.0>\n",
            "\n",
            "              Edad Genero    Ingresos\n",
            "count     5.000000      5      5.0000\n",
            "unique         NaN      2         NaN\n",
            "top            NaN      F         NaN\n",
            "freq           NaN      3         NaN\n",
            "mean     43.000000    NaN  42400.0000\n",
            "std      43.063906    NaN   4560.7017\n",
            "min      22.000000    NaN  38000.0000\n",
            "25%      23.000000    NaN  40000.0000\n",
            "50%      25.000000    NaN  42000.0000\n",
            "75%      25.000000    NaN  42000.0000\n",
            "max     120.000000    NaN  50000.0000\n"
          ]
        }
      ]
    },
    {
      "cell_type": "markdown",
      "source": [
        "## Manejo de valores faltantes"
      ],
      "metadata": {
        "id": "OG9Hv2Q6V_-5"
      }
    },
    {
      "cell_type": "code",
      "source": [
        "# Eliminar filas con al menos un valor nulo\n",
        "df_limpio = df.dropna()\n",
        "print(\"Filas sin nulos:\\n\", df_limpio)"
      ],
      "metadata": {
        "colab": {
          "base_uri": "https://localhost:8080/"
        },
        "id": "prVPQU0oWDIn",
        "outputId": "0b111a6d-22c0-4338-fefe-300dae83956e"
      },
      "execution_count": 2,
      "outputs": [
        {
          "output_type": "stream",
          "name": "stdout",
          "text": [
            "Filas sin nulos:\n",
            "    Edad Genero  Ingresos\n",
            "0  23.0      M   40000.0\n",
            "1  25.0      F   42000.0\n",
            "5  25.0      M   42000.0\n"
          ]
        }
      ]
    },
    {
      "cell_type": "code",
      "source": [
        "from sklearn.impute import SimpleImputer\n",
        "\n",
        "imputer = SimpleImputer(strategy=\"mean\")\n",
        "df['Edad'] = imputer.fit_transform(df[['Edad']])\n",
        "print(\"Con imputación de edad:\\n\", df)"
      ],
      "metadata": {
        "colab": {
          "base_uri": "https://localhost:8080/"
        },
        "id": "nn7P9dYEWeCg",
        "outputId": "6cb76b30-6d1f-4aa2-bf29-84ac51bec899"
      },
      "execution_count": 3,
      "outputs": [
        {
          "output_type": "stream",
          "name": "stdout",
          "text": [
            "Con imputación de edad:\n",
            "     Edad Genero  Ingresos\n",
            "0   23.0      M   40000.0\n",
            "1   25.0      F   42000.0\n",
            "2   43.0      F   38000.0\n",
            "3   22.0   None   50000.0\n",
            "4  120.0      F       NaN\n",
            "5   25.0      M   42000.0\n"
          ]
        }
      ]
    },
    {
      "cell_type": "markdown",
      "source": [
        "## Eliminar duplicados"
      ],
      "metadata": {
        "id": "pv1N6Nt6XRe_"
      }
    },
    {
      "cell_type": "code",
      "source": [
        "df = pd.concat([df, df.iloc[[0]]], ignore_index=True)\n",
        "print(\"Con duplicados:\\n\", df)"
      ],
      "metadata": {
        "colab": {
          "base_uri": "https://localhost:8080/"
        },
        "id": "tNbEEACIWei4",
        "outputId": "11f99cbd-c7fa-4936-e9d3-f7c5af3cef34"
      },
      "execution_count": 4,
      "outputs": [
        {
          "output_type": "stream",
          "name": "stdout",
          "text": [
            "Con duplicados:\n",
            "     Edad Genero  Ingresos\n",
            "0   23.0      M   40000.0\n",
            "1   25.0      F   42000.0\n",
            "2   43.0      F   38000.0\n",
            "3   22.0   None   50000.0\n",
            "4  120.0      F       NaN\n",
            "5   25.0      M   42000.0\n",
            "6   23.0      M   40000.0\n"
          ]
        }
      ]
    },
    {
      "cell_type": "code",
      "source": [
        "# Eliminar duplicados\n",
        "df_sin_duplicaos = df.drop_duplicates()\n",
        "print(\"Sin duplicados:\\n\", df_sin_duplicaos)"
      ],
      "metadata": {
        "colab": {
          "base_uri": "https://localhost:8080/"
        },
        "id": "3ghgOirzXu5b",
        "outputId": "49d7e4ec-e958-4a56-b597-5b5380f76285"
      },
      "execution_count": 5,
      "outputs": [
        {
          "output_type": "stream",
          "name": "stdout",
          "text": [
            "Sin duplicados:\n",
            "     Edad Genero  Ingresos\n",
            "0   23.0      M   40000.0\n",
            "1   25.0      F   42000.0\n",
            "2   43.0      F   38000.0\n",
            "3   22.0   None   50000.0\n",
            "4  120.0      F       NaN\n",
            "5   25.0      M   42000.0\n"
          ]
        }
      ]
    },
    {
      "cell_type": "markdown",
      "source": [
        "## Detección y manejo de valores atípicos (*Outliers*)"
      ],
      "metadata": {
        "id": "sMrMG6nyYXWR"
      }
    },
    {
      "cell_type": "code",
      "source": [
        "import numpy as np\n",
        "\n",
        "df = df_sin_duplicaos\n",
        "print(df)"
      ],
      "metadata": {
        "colab": {
          "base_uri": "https://localhost:8080/"
        },
        "id": "s76xhAn8YLwi",
        "outputId": "a55eab11-7e8e-43d2-8c82-aae3e371a0b5"
      },
      "execution_count": 6,
      "outputs": [
        {
          "output_type": "stream",
          "name": "stdout",
          "text": [
            "    Edad Genero  Ingresos\n",
            "0   23.0      M   40000.0\n",
            "1   25.0      F   42000.0\n",
            "2   43.0      F   38000.0\n",
            "3   22.0   None   50000.0\n",
            "4  120.0      F       NaN\n",
            "5   25.0      M   42000.0\n"
          ]
        }
      ]
    },
    {
      "cell_type": "code",
      "source": [
        "df_filtrado = df[df['Edad'] < 100]\n",
        "print(\"Sin outliers extremos ene Edad:\\n\", df_filtrado)"
      ],
      "metadata": {
        "colab": {
          "base_uri": "https://localhost:8080/"
        },
        "id": "nw6VQ_DvYlGg",
        "outputId": "5e8a6e9b-f92d-4a6e-d27d-5e1fcaa17f3d"
      },
      "execution_count": 7,
      "outputs": [
        {
          "output_type": "stream",
          "name": "stdout",
          "text": [
            "Sin outliers extremos ene Edad:\n",
            "    Edad Genero  Ingresos\n",
            "0  23.0      M   40000.0\n",
            "1  25.0      F   42000.0\n",
            "2  43.0      F   38000.0\n",
            "3  22.0   None   50000.0\n",
            "5  25.0      M   42000.0\n"
          ]
        }
      ]
    },
    {
      "cell_type": "code",
      "source": [
        "import matplotlib.pyplot as plt\n",
        "\n",
        "df_filtrado['Edad'].hist()\n",
        "plt.title('Distribución de edades')\n",
        "plt.xlabel('Edad')\n",
        "plt.ylabel('Frecuencia')\n",
        "plt.show()"
      ],
      "metadata": {
        "colab": {
          "base_uri": "https://localhost:8080/",
          "height": 472
        },
        "id": "JTeOSqx-Y3wH",
        "outputId": "4746eb20-205b-4e70-ce60-0c45d2f57e47"
      },
      "execution_count": 8,
      "outputs": [
        {
          "output_type": "display_data",
          "data": {
            "text/plain": [
              "<Figure size 640x480 with 1 Axes>"
            ],
            "image/png": "[encoded data removed]"
          },
          "metadata": {}
        }
      ]
    },
    {
      "cell_type": "markdown",
      "source": [
        "## Corección de tipos de datos"
      ],
      "metadata": {
        "id": "AklxhJonalZm"
      }
    },
    {
      "cell_type": "code",
      "source": [
        "df_filtrado = df[df['Ingresos'] > 1000].copy()\n",
        "df_filtrado['Edad'] = df_filtrado['Edad'].astype(str)"
      ],
      "metadata": {
        "id": "S5C0giMbaAaT"
      },
      "execution_count": 10,
      "outputs": []
    },
    {
      "cell_type": "code",
      "source": [
        "df_filtrado['Edad'] = pd.to_numeric(df_filtrado['Edad'])\n",
        "print(\"Tipos coregidos:\\n\", df_filtrado.dtypes)"
      ],
      "metadata": {
        "colab": {
          "base_uri": "https://localhost:8080/"
        },
        "id": "UUkvMFb5arVw",
        "outputId": "7a0fd236-0bd6-4b1b-dd54-9e33e89e0c06"
      },
      "execution_count": 11,
      "outputs": [
        {
          "output_type": "stream",
          "name": "stdout",
          "text": [
            "Tipos coregidos:\n",
            " Edad        float64\n",
            "Genero       object\n",
            "Ingresos    float64\n",
            "dtype: object\n"
          ]
        }
      ]
    },
    {
      "cell_type": "markdown",
      "source": [
        "## Normalización y escalado"
      ],
      "metadata": {
        "id": "A4YVDA6PbYAH"
      }
    },
    {
      "cell_type": "code",
      "source": [
        "from sklearn.preprocessing import MinMaxScaler\n",
        "\n",
        "scaler = MinMaxScaler()\n",
        "df_filtrado['Ingresos_norm'] = scaler.fit_transform(df_filtrado[['Ingresos']])\n",
        "print(\"Ingresos normalizados:\\n\", df_filtrado)"
      ],
      "metadata": {
        "colab": {
          "base_uri": "https://localhost:8080/"
        },
        "id": "PY9_kESubbd1",
        "outputId": "a89da8b1-afab-487c-ddd8-bbf7eb6408a2"
      },
      "execution_count": 12,
      "outputs": [
        {
          "output_type": "stream",
          "name": "stdout",
          "text": [
            "Ingresos normalizados:\n",
            "    Edad Genero  Ingresos  Ingresos_norm\n",
            "0  23.0      M   40000.0       0.166667\n",
            "1  25.0      F   42000.0       0.333333\n",
            "2  43.0      F   38000.0       0.000000\n",
            "3  22.0   None   50000.0       1.000000\n",
            "5  25.0      M   42000.0       0.333333\n"
          ]
        }
      ]
    },
    {
      "cell_type": "markdown",
      "source": [
        "## Codificación de variables categóricas"
      ],
      "metadata": {
        "id": "mugj_U0QcWoM"
      }
    },
    {
      "cell_type": "code",
      "source": [
        "df_onehot = pd.get_dummies(df_filtrado, columns=['Genero'])\n",
        "print(df_filtrado)\n",
        "print(df_onehot)"
      ],
      "metadata": {
        "colab": {
          "base_uri": "https://localhost:8080/"
        },
        "id": "tnwAGiCqcatP",
        "outputId": "aa94741c-19c2-40f2-bc5f-0daa1c9feac1"
      },
      "execution_count": 13,
      "outputs": [
        {
          "output_type": "stream",
          "name": "stdout",
          "text": [
            "   Edad Genero  Ingresos  Ingresos_norm\n",
            "0  23.0      M   40000.0       0.166667\n",
            "1  25.0      F   42000.0       0.333333\n",
            "2  43.0      F   38000.0       0.000000\n",
            "3  22.0   None   50000.0       1.000000\n",
            "5  25.0      M   42000.0       0.333333\n",
            "   Edad  Ingresos  Ingresos_norm  Genero_F  Genero_M\n",
            "0  23.0   40000.0       0.166667     False      True\n",
            "1  25.0   42000.0       0.333333      True     False\n",
            "2  43.0   38000.0       0.000000      True     False\n",
            "3  22.0   50000.0       1.000000     False     False\n",
            "5  25.0   42000.0       0.333333     False      True\n"
          ]
        }
      ]
    },
    {
      "cell_type": "code",
      "source": [
        "from sklearn.preprocessing import LabelEncoder\n",
        "\n",
        "encoder = LabelEncoder()\n",
        "df_filtrado['Genero_num'] = encoder.fit_transform(df_filtrado['Genero'].astype(str))\n",
        "print(\"Con codificación de etiquetas:\\n\", df_filtrado)"
      ],
      "metadata": {
        "colab": {
          "base_uri": "https://localhost:8080/"
        },
        "id": "ugo1StGwctSq",
        "outputId": "c2eb744d-a33f-4f9f-d785-ef9483f8ad94"
      },
      "execution_count": 14,
      "outputs": [
        {
          "output_type": "stream",
          "name": "stdout",
          "text": [
            "Con codificación de etiquetas:\n",
            "    Edad Genero  Ingresos  Ingresos_norm  Genero_num\n",
            "0  23.0      M   40000.0       0.166667           1\n",
            "1  25.0      F   42000.0       0.333333           0\n",
            "2  43.0      F   38000.0       0.000000           0\n",
            "3  22.0   None   50000.0       1.000000           2\n",
            "5  25.0      M   42000.0       0.333333           1\n"
          ]
        }
      ]
    },
    {
      "cell_type": "markdown",
      "source": [
        "## Limpieza y transformación de texto"
      ],
      "metadata": {
        "id": "IR3GD-25dWx-"
      }
    },
    {
      "cell_type": "code",
      "source": [
        "#Ejemplo, preguntar en clase\n",
        "df_texto = pd.DataFrame({'comentario': [\n",
        "\"¡Me encantó el producto!\",\n",
        "\"Muy malo... no lo recomiendo.\",\n",
        "\" Buen servicio, volveré. \"\n",
        "]})\n",
        "\n",
        "print(df_texto)"
      ],
      "metadata": {
        "colab": {
          "base_uri": "https://localhost:8080/"
        },
        "id": "lPBC7oHUdecc",
        "outputId": "12ab9a00-318e-4753-d237-2b718efb6056"
      },
      "execution_count": 26,
      "outputs": [
        {
          "output_type": "stream",
          "name": "stdout",
          "text": [
            "                      comentario\n",
            "0       ¡Me encantó el producto!\n",
            "1  Muy malo... no lo recomiendo.\n",
            "2       Buen servicio, volveré. \n"
          ]
        }
      ]
    },
    {
      "cell_type": "code",
      "source": [
        "df_texto['comentario_limpio'] = (\n",
        "    df_texto['comentario'].str.lower()\n",
        "    .str.strip()\n",
        "    .str.replace(r'[^\\w\\s]', '', regex=True)\n",
        ")\n",
        "\n",
        "print(df_texto)"
      ],
      "metadata": {
        "colab": {
          "base_uri": "https://localhost:8080/"
        },
        "id": "jNDe8-nidvYp",
        "outputId": "3eb22544-52e1-44ce-c2d0-67145752404a"
      },
      "execution_count": 27,
      "outputs": [
        {
          "output_type": "stream",
          "name": "stdout",
          "text": [
            "                      comentario          comentario_limpio\n",
            "0       ¡Me encantó el producto!     me encantó el producto\n",
            "1  Muy malo... no lo recomiendo.  muy malo no lo recomiendo\n",
            "2       Buen servicio, volveré.       buen servicio volveré\n"
          ]
        }
      ]
    },
    {
      "cell_type": "markdown",
      "source": [
        "## Ingeniería de características"
      ],
      "metadata": {
        "id": "sso1z2M1eqF_"
      }
    },
    {
      "cell_type": "code",
      "source": [
        "# Agregaos columna de fecha de ingreso\n",
        "df_filtrado['Fecha_ingreso'] = pd.to_datetime(['2021-05-10', '2020-07-15', '2022-02-14', '2023-07-01' ])\n"
      ],
      "metadata": {
        "colab": {
          "base_uri": "https://localhost:8080/",
          "height": 304
        },
        "id": "lyEIZjgTfJTc",
        "outputId": "7b473402-9584-4696-f235-1532a7db5bf5"
      },
      "execution_count": 28,
      "outputs": [
        {
          "output_type": "error",
          "ename": "ValueError",
          "evalue": "Length of values (4) does not match length of index (5)",
          "traceback": [
            "\u001b[0;31m---------------------------------------------------------------------------\u001b[0m",
            "\u001b[0;31mValueError\u001b[0m                                Traceback (most recent call last)",
            "\u001b[0;32m/tmp/ipython-input-28-2119721860.py\u001b[0m in \u001b[0;36m<cell line: 0>\u001b[0;34m()\u001b[0m\n\u001b[1;32m      1\u001b[0m \u001b[0;31m# Agregaos columna de fecha de ingreso\u001b[0m\u001b[0;34m\u001b[0m\u001b[0;34m\u001b[0m\u001b[0m\n\u001b[0;32m----> 2\u001b[0;31m \u001b[0mdf_filtrado\u001b[0m\u001b[0;34m[\u001b[0m\u001b[0;34m'Fecha_ingreso'\u001b[0m\u001b[0;34m]\u001b[0m \u001b[0;34m=\u001b[0m \u001b[0mpd\u001b[0m\u001b[0;34m.\u001b[0m\u001b[0mto_datetime\u001b[0m\u001b[0;34m(\u001b[0m\u001b[0;34m[\u001b[0m\u001b[0;34m'2021-05-10'\u001b[0m\u001b[0;34m,\u001b[0m \u001b[0;34m'2020-07-15'\u001b[0m\u001b[0;34m,\u001b[0m \u001b[0;34m'2022-02-14'\u001b[0m\u001b[0;34m,\u001b[0m \u001b[0;34m'2023-07-01'\u001b[0m \u001b[0;34m]\u001b[0m\u001b[0;34m)\u001b[0m\u001b[0;34m\u001b[0m\u001b[0;34m\u001b[0m\u001b[0m\n\u001b[0m",
            "\u001b[0;32m/usr/local/lib/python3.11/dist-packages/pandas/core/frame.py\u001b[0m in \u001b[0;36m__setitem__\u001b[0;34m(self, key, value)\u001b[0m\n\u001b[1;32m   4309\u001b[0m         \u001b[0;32melse\u001b[0m\u001b[0;34m:\u001b[0m\u001b[0;34m\u001b[0m\u001b[0;34m\u001b[0m\u001b[0m\n\u001b[1;32m   4310\u001b[0m             \u001b[0;31m# set column\u001b[0m\u001b[0;34m\u001b[0m\u001b[0;34m\u001b[0m\u001b[0m\n\u001b[0;32m-> 4311\u001b[0;31m             \u001b[0mself\u001b[0m\u001b[0;34m.\u001b[0m\u001b[0m_set_item\u001b[0m\u001b[0;34m(\u001b[0m\u001b[0mkey\u001b[0m\u001b[0;34m,\u001b[0m \u001b[0mvalue\u001b[0m\u001b[0;34m)\u001b[0m\u001b[0;34m\u001b[0m\u001b[0;34m\u001b[0m\u001b[0m\n\u001b[0m\u001b[1;32m   4312\u001b[0m \u001b[0;34m\u001b[0m\u001b[0m\n\u001b[1;32m   4313\u001b[0m     \u001b[0;32mdef\u001b[0m \u001b[0m_setitem_slice\u001b[0m\u001b[0;34m(\u001b[0m\u001b[0mself\u001b[0m\u001b[0;34m,\u001b[0m \u001b[0mkey\u001b[0m\u001b[0;34m:\u001b[0m \u001b[0mslice\u001b[0m\u001b[0;34m,\u001b[0m \u001b[0mvalue\u001b[0m\u001b[0;34m)\u001b[0m \u001b[0;34m->\u001b[0m \u001b[0;32mNone\u001b[0m\u001b[0;34m:\u001b[0m\u001b[0;34m\u001b[0m\u001b[0;34m\u001b[0m\u001b[0m\n",
            "\u001b[0;32m/usr/local/lib/python3.11/dist-packages/pandas/core/frame.py\u001b[0m in \u001b[0;36m_set_item\u001b[0;34m(self, key, value)\u001b[0m\n\u001b[1;32m   4522\u001b[0m         \u001b[0mensure\u001b[0m \u001b[0mhomogeneity\u001b[0m\u001b[0;34m.\u001b[0m\u001b[0;34m\u001b[0m\u001b[0;34m\u001b[0m\u001b[0m\n\u001b[1;32m   4523\u001b[0m         \"\"\"\n\u001b[0;32m-> 4524\u001b[0;31m         \u001b[0mvalue\u001b[0m\u001b[0;34m,\u001b[0m \u001b[0mrefs\u001b[0m \u001b[0;34m=\u001b[0m \u001b[0mself\u001b[0m\u001b[0;34m.\u001b[0m\u001b[0m_sanitize_column\u001b[0m\u001b[0;34m(\u001b[0m\u001b[0mvalue\u001b[0m\u001b[0;34m)\u001b[0m\u001b[0;34m\u001b[0m\u001b[0;34m\u001b[0m\u001b[0m\n\u001b[0m\u001b[1;32m   4525\u001b[0m \u001b[0;34m\u001b[0m\u001b[0m\n\u001b[1;32m   4526\u001b[0m         if (\n",
            "\u001b[0;32m/usr/local/lib/python3.11/dist-packages/pandas/core/frame.py\u001b[0m in \u001b[0;36m_sanitize_column\u001b[0;34m(self, value)\u001b[0m\n\u001b[1;32m   5264\u001b[0m \u001b[0;34m\u001b[0m\u001b[0m\n\u001b[1;32m   5265\u001b[0m         \u001b[0;32mif\u001b[0m \u001b[0mis_list_like\u001b[0m\u001b[0;34m(\u001b[0m\u001b[0mvalue\u001b[0m\u001b[0;34m)\u001b[0m\u001b[0;34m:\u001b[0m\u001b[0;34m\u001b[0m\u001b[0;34m\u001b[0m\u001b[0m\n\u001b[0;32m-> 5266\u001b[0;31m             \u001b[0mcom\u001b[0m\u001b[0;34m.\u001b[0m\u001b[0mrequire_length_match\u001b[0m\u001b[0;34m(\u001b[0m\u001b[0mvalue\u001b[0m\u001b[0;34m,\u001b[0m \u001b[0mself\u001b[0m\u001b[0;34m.\u001b[0m\u001b[0mindex\u001b[0m\u001b[0;34m)\u001b[0m\u001b[0;34m\u001b[0m\u001b[0;34m\u001b[0m\u001b[0m\n\u001b[0m\u001b[1;32m   5267\u001b[0m         \u001b[0marr\u001b[0m \u001b[0;34m=\u001b[0m \u001b[0msanitize_array\u001b[0m\u001b[0;34m(\u001b[0m\u001b[0mvalue\u001b[0m\u001b[0;34m,\u001b[0m \u001b[0mself\u001b[0m\u001b[0;34m.\u001b[0m\u001b[0mindex\u001b[0m\u001b[0;34m,\u001b[0m \u001b[0mcopy\u001b[0m\u001b[0;34m=\u001b[0m\u001b[0;32mTrue\u001b[0m\u001b[0;34m,\u001b[0m \u001b[0mallow_2d\u001b[0m\u001b[0;34m=\u001b[0m\u001b[0;32mTrue\u001b[0m\u001b[0;34m)\u001b[0m\u001b[0;34m\u001b[0m\u001b[0;34m\u001b[0m\u001b[0m\n\u001b[1;32m   5268\u001b[0m         if (\n",
            "\u001b[0;32m/usr/local/lib/python3.11/dist-packages/pandas/core/common.py\u001b[0m in \u001b[0;36mrequire_length_match\u001b[0;34m(data, index)\u001b[0m\n\u001b[1;32m    571\u001b[0m     \"\"\"\n\u001b[1;32m    572\u001b[0m     \u001b[0;32mif\u001b[0m \u001b[0mlen\u001b[0m\u001b[0;34m(\u001b[0m\u001b[0mdata\u001b[0m\u001b[0;34m)\u001b[0m \u001b[0;34m!=\u001b[0m \u001b[0mlen\u001b[0m\u001b[0;34m(\u001b[0m\u001b[0mindex\u001b[0m\u001b[0;34m)\u001b[0m\u001b[0;34m:\u001b[0m\u001b[0;34m\u001b[0m\u001b[0;34m\u001b[0m\u001b[0m\n\u001b[0;32m--> 573\u001b[0;31m         raise ValueError(\n\u001b[0m\u001b[1;32m    574\u001b[0m             \u001b[0;34m\"Length of values \"\u001b[0m\u001b[0;34m\u001b[0m\u001b[0;34m\u001b[0m\u001b[0m\n\u001b[1;32m    575\u001b[0m             \u001b[0;34mf\"({len(data)}) \"\u001b[0m\u001b[0;34m\u001b[0m\u001b[0;34m\u001b[0m\u001b[0m\n",
            "\u001b[0;31mValueError\u001b[0m: Length of values (4) does not match length of index (5)"
          ]
        }
      ]
    },
    {
      "cell_type": "code",
      "source": [
        "# Extraer el año y el mes\n",
        "df_filtrado = df_filtrado.copy()\n",
        "df_filtrado['Anio'] = df_filtrado['Fecha_ingreso'].dt.year\n",
        "df_filtrado['Mes'] = df_filtrado['Fecha_ingreso'].dt.month\n",
        "print(df_filtrado)\n"
      ],
      "metadata": {
        "id": "O6cU-NhaeuP3",
        "colab": {
          "base_uri": "https://localhost:8080/",
          "height": 547
        },
        "outputId": "5a30b92d-f092-4d0c-fae9-4e2292671da9"
      },
      "execution_count": 24,
      "outputs": [
        {
          "output_type": "error",
          "ename": "KeyError",
          "evalue": "'Fecha_ingreso'",
          "traceback": [
            "\u001b[0;31m---------------------------------------------------------------------------\u001b[0m",
            "\u001b[0;31mKeyError\u001b[0m                                  Traceback (most recent call last)",
            "\u001b[0;32m/usr/local/lib/python3.11/dist-packages/pandas/core/indexes/base.py\u001b[0m in \u001b[0;36mget_loc\u001b[0;34m(self, key)\u001b[0m\n\u001b[1;32m   3804\u001b[0m         \u001b[0;32mtry\u001b[0m\u001b[0;34m:\u001b[0m\u001b[0;34m\u001b[0m\u001b[0;34m\u001b[0m\u001b[0m\n\u001b[0;32m-> 3805\u001b[0;31m             \u001b[0;32mreturn\u001b[0m \u001b[0mself\u001b[0m\u001b[0;34m.\u001b[0m\u001b[0m_engine\u001b[0m\u001b[0;34m.\u001b[0m\u001b[0mget_loc\u001b[0m\u001b[0;34m(\u001b[0m\u001b[0mcasted_key\u001b[0m\u001b[0;34m)\u001b[0m\u001b[0;34m\u001b[0m\u001b[0;34m\u001b[0m\u001b[0m\n\u001b[0m\u001b[1;32m   3806\u001b[0m         \u001b[0;32mexcept\u001b[0m \u001b[0mKeyError\u001b[0m \u001b[0;32mas\u001b[0m \u001b[0merr\u001b[0m\u001b[0;34m:\u001b[0m\u001b[0;34m\u001b[0m\u001b[0;34m\u001b[0m\u001b[0m\n",
            "\u001b[0;32mindex.pyx\u001b[0m in \u001b[0;36mpandas._libs.index.IndexEngine.get_loc\u001b[0;34m()\u001b[0m\n",
            "\u001b[0;32mindex.pyx\u001b[0m in \u001b[0;36mpandas._libs.index.IndexEngine.get_loc\u001b[0;34m()\u001b[0m\n",
            "\u001b[0;32mpandas/_libs/hashtable_class_helper.pxi\u001b[0m in \u001b[0;36mpandas._libs.hashtable.PyObjectHashTable.get_item\u001b[0;34m()\u001b[0m\n",
            "\u001b[0;32mpandas/_libs/hashtable_class_helper.pxi\u001b[0m in \u001b[0;36mpandas._libs.hashtable.PyObjectHashTable.get_item\u001b[0;34m()\u001b[0m\n",
            "\u001b[0;31mKeyError\u001b[0m: 'Fecha_ingreso'",
            "\nThe above exception was the direct cause of the following exception:\n",
            "\u001b[0;31mKeyError\u001b[0m                                  Traceback (most recent call last)",
            "\u001b[0;32m/tmp/ipython-input-24-3103737095.py\u001b[0m in \u001b[0;36m<cell line: 0>\u001b[0;34m()\u001b[0m\n\u001b[1;32m      1\u001b[0m \u001b[0;31m# Extraer el año y el mes\u001b[0m\u001b[0;34m\u001b[0m\u001b[0;34m\u001b[0m\u001b[0m\n\u001b[1;32m      2\u001b[0m \u001b[0mdf_filtrado\u001b[0m \u001b[0;34m=\u001b[0m \u001b[0mdf_filtrado\u001b[0m\u001b[0;34m.\u001b[0m\u001b[0mcopy\u001b[0m\u001b[0;34m(\u001b[0m\u001b[0;34m)\u001b[0m\u001b[0;34m\u001b[0m\u001b[0;34m\u001b[0m\u001b[0m\n\u001b[0;32m----> 3\u001b[0;31m \u001b[0mdf_filtrado\u001b[0m\u001b[0;34m[\u001b[0m\u001b[0;34m'Anio'\u001b[0m\u001b[0;34m]\u001b[0m \u001b[0;34m=\u001b[0m \u001b[0mdf_filtrado\u001b[0m\u001b[0;34m[\u001b[0m\u001b[0;34m'Fecha_ingreso'\u001b[0m\u001b[0;34m]\u001b[0m\u001b[0;34m.\u001b[0m\u001b[0mdt\u001b[0m\u001b[0;34m.\u001b[0m\u001b[0myear\u001b[0m\u001b[0;34m\u001b[0m\u001b[0;34m\u001b[0m\u001b[0m\n\u001b[0m\u001b[1;32m      4\u001b[0m \u001b[0mdf_filtrado\u001b[0m\u001b[0;34m[\u001b[0m\u001b[0;34m'Mes'\u001b[0m\u001b[0;34m]\u001b[0m \u001b[0;34m=\u001b[0m \u001b[0mdf_filtrado\u001b[0m\u001b[0;34m[\u001b[0m\u001b[0;34m'Fecha_ingreso'\u001b[0m\u001b[0;34m]\u001b[0m\u001b[0;34m.\u001b[0m\u001b[0mdt\u001b[0m\u001b[0;34m.\u001b[0m\u001b[0mmonth\u001b[0m\u001b[0;34m\u001b[0m\u001b[0;34m\u001b[0m\u001b[0m\n\u001b[1;32m      5\u001b[0m \u001b[0mprint\u001b[0m\u001b[0;34m(\u001b[0m\u001b[0mdf_filtrado\u001b[0m\u001b[0;34m)\u001b[0m\u001b[0;34m\u001b[0m\u001b[0;34m\u001b[0m\u001b[0m\n",
            "\u001b[0;32m/usr/local/lib/python3.11/dist-packages/pandas/core/frame.py\u001b[0m in \u001b[0;36m__getitem__\u001b[0;34m(self, key)\u001b[0m\n\u001b[1;32m   4100\u001b[0m             \u001b[0;32mif\u001b[0m \u001b[0mself\u001b[0m\u001b[0;34m.\u001b[0m\u001b[0mcolumns\u001b[0m\u001b[0;34m.\u001b[0m\u001b[0mnlevels\u001b[0m \u001b[0;34m>\u001b[0m \u001b[0;36m1\u001b[0m\u001b[0;34m:\u001b[0m\u001b[0;34m\u001b[0m\u001b[0;34m\u001b[0m\u001b[0m\n\u001b[1;32m   4101\u001b[0m                 \u001b[0;32mreturn\u001b[0m \u001b[0mself\u001b[0m\u001b[0;34m.\u001b[0m\u001b[0m_getitem_multilevel\u001b[0m\u001b[0;34m(\u001b[0m\u001b[0mkey\u001b[0m\u001b[0;34m)\u001b[0m\u001b[0;34m\u001b[0m\u001b[0;34m\u001b[0m\u001b[0m\n\u001b[0;32m-> 4102\u001b[0;31m             \u001b[0mindexer\u001b[0m \u001b[0;34m=\u001b[0m \u001b[0mself\u001b[0m\u001b[0;34m.\u001b[0m\u001b[0mcolumns\u001b[0m\u001b[0;34m.\u001b[0m\u001b[0mget_loc\u001b[0m\u001b[0;34m(\u001b[0m\u001b[0mkey\u001b[0m\u001b[0;34m)\u001b[0m\u001b[0;34m\u001b[0m\u001b[0;34m\u001b[0m\u001b[0m\n\u001b[0m\u001b[1;32m   4103\u001b[0m             \u001b[0;32mif\u001b[0m \u001b[0mis_integer\u001b[0m\u001b[0;34m(\u001b[0m\u001b[0mindexer\u001b[0m\u001b[0;34m)\u001b[0m\u001b[0;34m:\u001b[0m\u001b[0;34m\u001b[0m\u001b[0;34m\u001b[0m\u001b[0m\n\u001b[1;32m   4104\u001b[0m                 \u001b[0mindexer\u001b[0m \u001b[0;34m=\u001b[0m \u001b[0;34m[\u001b[0m\u001b[0mindexer\u001b[0m\u001b[0;34m]\u001b[0m\u001b[0;34m\u001b[0m\u001b[0;34m\u001b[0m\u001b[0m\n",
            "\u001b[0;32m/usr/local/lib/python3.11/dist-packages/pandas/core/indexes/base.py\u001b[0m in \u001b[0;36mget_loc\u001b[0;34m(self, key)\u001b[0m\n\u001b[1;32m   3810\u001b[0m             ):\n\u001b[1;32m   3811\u001b[0m                 \u001b[0;32mraise\u001b[0m \u001b[0mInvalidIndexError\u001b[0m\u001b[0;34m(\u001b[0m\u001b[0mkey\u001b[0m\u001b[0;34m)\u001b[0m\u001b[0;34m\u001b[0m\u001b[0;34m\u001b[0m\u001b[0m\n\u001b[0;32m-> 3812\u001b[0;31m             \u001b[0;32mraise\u001b[0m \u001b[0mKeyError\u001b[0m\u001b[0;34m(\u001b[0m\u001b[0mkey\u001b[0m\u001b[0;34m)\u001b[0m \u001b[0;32mfrom\u001b[0m \u001b[0merr\u001b[0m\u001b[0;34m\u001b[0m\u001b[0;34m\u001b[0m\u001b[0m\n\u001b[0m\u001b[1;32m   3813\u001b[0m         \u001b[0;32mexcept\u001b[0m \u001b[0mTypeError\u001b[0m\u001b[0;34m:\u001b[0m\u001b[0;34m\u001b[0m\u001b[0;34m\u001b[0m\u001b[0m\n\u001b[1;32m   3814\u001b[0m             \u001b[0;31m# If we have a listlike key, _check_indexing_error will raise\u001b[0m\u001b[0;34m\u001b[0m\u001b[0;34m\u001b[0m\u001b[0m\n",
            "\u001b[0;31mKeyError\u001b[0m: 'Fecha_ingreso'"
          ]
        }
      ]
    },
    {
      "cell_type": "markdown",
      "source": [
        "## División del conjunto de datos"
      ],
      "metadata": {
        "id": "_eqQfo5yfyIv"
      }
    },
    {
      "cell_type": "code",
      "source": [
        "from sklearn.model_selection import train_test_split\n",
        "X = df_onehot.drop(['Ingresos', 'Ingresos_norm'], axis=1)\n",
        "y = df_onehot['Ingresos_norm']\n",
        "X_train, X_test, y_train, y_test = train_test_split(X, y, test_size=0.2, random_state=42)\n",
        "print(\"X_train:\\n\", X_train)\n",
        "print(\"y_train:\\n\", y_train)"
      ],
      "metadata": {
        "colab": {
          "base_uri": "https://localhost:8080/"
        },
        "id": "9gY4Rh18f3D0",
        "outputId": "6507ffee-9a0d-4bd6-eb3f-836e4c5dc05d"
      },
      "execution_count": 19,
      "outputs": [
        {
          "output_type": "stream",
          "name": "stdout",
          "text": [
            "X_train:\n",
            "    Edad  Genero_F  Genero_M\n",
            "5  25.0     False      True\n",
            "2  43.0      True     False\n",
            "0  23.0     False      True\n",
            "3  22.0     False     False\n",
            "y_train:\n",
            " 5    0.333333\n",
            "2    0.000000\n",
            "0    0.166667\n",
            "3    1.000000\n",
            "Name: Ingresos_norm, dtype: float64\n"
          ]
        }
      ]
    },
    {
      "cell_type": "markdown",
      "source": [
        "## Selección de características"
      ],
      "metadata": {
        "id": "_07m4WDGgEhz"
      }
    },
    {
      "cell_type": "markdown",
      "source": [
        "Seleccionar las 2 características mas relevantes respecto a 'Ingresos_norm'"
      ],
      "metadata": {
        "id": "nVHi884TgPTg"
      }
    },
    {
      "cell_type": "code",
      "source": [
        "from sklearn.feature_selection import SelectKBest, f_regression\n",
        "\n",
        "selector = SelectKBest(score_func=f_regression, k=2)\n",
        "X_new = selector.fit_transform(X_train, y_train)\n",
        "print(X_new)"
      ],
      "metadata": {
        "colab": {
          "base_uri": "https://localhost:8080/"
        },
        "id": "DrvjTfnugH5Y",
        "outputId": "5e6d17a9-60f9-49f8-9e0a-b8e0b21fb6fd"
      },
      "execution_count": 20,
      "outputs": [
        {
          "output_type": "stream",
          "name": "stdout",
          "text": [
            "[[25.  0.]\n",
            " [43.  1.]\n",
            " [23.  0.]\n",
            " [22.  0.]]\n"
          ]
        }
      ]
    },
    {
      "cell_type": "markdown",
      "source": [
        "## Pipeline de preprocesamiento"
      ],
      "metadata": {
        "id": "nV76rxbsg6db"
      }
    },
    {
      "cell_type": "code",
      "source": [
        "from sklearn.pipeline import Pipeline\n",
        "from sklearn.preprocessing import StandardScaler\n",
        "from sklearn.impute import SimpleImputer\n",
        "\n",
        "pipeline = Pipeline([\n",
        "    ('imputar', SimpleImputer(strategy='mean')),\n",
        "    ('escalar', StandardScaler())\n",
        "])"
      ],
      "metadata": {
        "id": "yBQ33NPTg9-X"
      },
      "execution_count": 21,
      "outputs": []
    },
    {
      "cell_type": "code",
      "source": [],
      "metadata": {
        "id": "WR7B4UbWhL-9"
      },
      "execution_count": null,
      "outputs": []
    }
  ]
}